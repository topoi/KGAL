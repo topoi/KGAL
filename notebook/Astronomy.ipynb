{
 "cells": [
  {
   "cell_type": "markdown",
   "metadata": {},
   "source": [
    "### Libraries"
   ]
  },
  {
   "cell_type": "code",
   "execution_count": 1,
   "metadata": {},
   "outputs": [],
   "source": [
    "# astronomy\n",
    "import ephem\n",
    "import datetime\n",
    "import time\n",
    "# citable class\n",
    "from citableclass import Citable\n",
    "# basic\n",
    "import pandas as pd\n",
    "import numpy as np\n",
    "import matplotlib.pyplot as plt"
   ]
  },
  {
   "cell_type": "markdown",
   "metadata": {},
   "source": [
    "## Star catalogue"
   ]
  },
  {
   "cell_type": "code",
   "execution_count": 2,
   "metadata": {},
   "outputs": [],
   "source": [
    "#cite=Citable(\"BAAP00028\", formats=\"et\")"
   ]
  },
  {
   "cell_type": "code",
   "execution_count": 3,
   "metadata": {},
   "outputs": [],
   "source": [
    "#LOAD STAR CATALOGUE\n",
    "cite=Citable(\"BAAP00028\", formats=\"et\")\n",
    "pyephembsc = []\n",
    "reader=cite.csv()\n",
    "for row in reader:\n",
    "    pyephembsc.append(row)\n",
    "starcatalogue=pd.DataFrame(pyephembsc, columns=['star', \"\",\"\",\"\",'magnitude',\"\",\"\"])"
   ]
  },
  {
   "cell_type": "code",
   "execution_count": 4,
   "metadata": {},
   "outputs": [
    {
     "data": {
      "text/html": [
       "<div>\n",
       "<style scoped>\n",
       "    .dataframe tbody tr th:only-of-type {\n",
       "        vertical-align: middle;\n",
       "    }\n",
       "\n",
       "    .dataframe tbody tr th {\n",
       "        vertical-align: top;\n",
       "    }\n",
       "\n",
       "    .dataframe thead th {\n",
       "        text-align: right;\n",
       "    }\n",
       "</style>\n",
       "<table border=\"1\" class=\"dataframe\">\n",
       "  <thead>\n",
       "    <tr style=\"text-align: right;\">\n",
       "      <th></th>\n",
       "      <th>star</th>\n",
       "      <th></th>\n",
       "      <th></th>\n",
       "      <th></th>\n",
       "      <th>magnitude</th>\n",
       "      <th></th>\n",
       "      <th></th>\n",
       "    </tr>\n",
       "  </thead>\n",
       "  <tbody>\n",
       "    <tr>\n",
       "      <th>0</th>\n",
       "      <td>Sirrah</td>\n",
       "      <td>f|S|B9</td>\n",
       "      <td>0:08:23.2|135.68</td>\n",
       "      <td>29:05:27|-162.95</td>\n",
       "      <td>2.07</td>\n",
       "      <td>2000</td>\n",
       "      <td>0</td>\n",
       "    </tr>\n",
       "    <tr>\n",
       "      <th>1</th>\n",
       "      <td>Caph</td>\n",
       "      <td>f|S|F2</td>\n",
       "      <td>0:09:10.1|523.39</td>\n",
       "      <td>59:09:01|-180.42</td>\n",
       "      <td>2.28</td>\n",
       "      <td>2000</td>\n",
       "      <td>0</td>\n",
       "    </tr>\n",
       "    <tr>\n",
       "      <th>2</th>\n",
       "      <td>Algenib</td>\n",
       "      <td>f|S|B2</td>\n",
       "      <td>0:13:14.2|4.7</td>\n",
       "      <td>15:11:01|-8.24</td>\n",
       "      <td>2.83</td>\n",
       "      <td>2000</td>\n",
       "      <td>0</td>\n",
       "    </tr>\n",
       "    <tr>\n",
       "      <th>3</th>\n",
       "      <td>Schedar</td>\n",
       "      <td>f|S|K0</td>\n",
       "      <td>0:40:30.4|50.36</td>\n",
       "      <td>56:32:15|-32.17</td>\n",
       "      <td>2.24</td>\n",
       "      <td>2000</td>\n",
       "      <td>0</td>\n",
       "    </tr>\n",
       "    <tr>\n",
       "      <th>4</th>\n",
       "      <td>Mirach</td>\n",
       "      <td>f|S|M0</td>\n",
       "      <td>1:09:43.8|175.59</td>\n",
       "      <td>35:37:15|-112.23</td>\n",
       "      <td>2.07</td>\n",
       "      <td>2000</td>\n",
       "      <td>0</td>\n",
       "    </tr>\n",
       "    <tr>\n",
       "      <th>5</th>\n",
       "      <td>Achernar</td>\n",
       "      <td>f|S|B3</td>\n",
       "      <td>1:37:42.8|88.02</td>\n",
       "      <td>-57:14:12|-40.08</td>\n",
       "      <td>0.45</td>\n",
       "      <td>2000</td>\n",
       "      <td>0</td>\n",
       "    </tr>\n",
       "    <tr>\n",
       "      <th>6</th>\n",
       "      <td>Almach</td>\n",
       "      <td>f|S|B8</td>\n",
       "      <td>2:03:53.9|43.08</td>\n",
       "      <td>42:19:48|-50.85</td>\n",
       "      <td>2.10</td>\n",
       "      <td>2000</td>\n",
       "      <td>0</td>\n",
       "    </tr>\n",
       "    <tr>\n",
       "      <th>7</th>\n",
       "      <td>Hamal</td>\n",
       "      <td>f|S|K2</td>\n",
       "      <td>2:07:10.3|190.73</td>\n",
       "      <td>23:27:46|-145.77</td>\n",
       "      <td>2.01</td>\n",
       "      <td>2000</td>\n",
       "      <td>0</td>\n",
       "    </tr>\n",
       "    <tr>\n",
       "      <th>8</th>\n",
       "      <td>Polaris</td>\n",
       "      <td>f|S|F7</td>\n",
       "      <td>2:31:47.1|44.22</td>\n",
       "      <td>89:15:51|-11.74</td>\n",
       "      <td>1.97</td>\n",
       "      <td>2000</td>\n",
       "      <td>0</td>\n",
       "    </tr>\n",
       "    <tr>\n",
       "      <th>9</th>\n",
       "      <td>Menkar</td>\n",
       "      <td>f|S|M2</td>\n",
       "      <td>3:02:16.8|-11.81</td>\n",
       "      <td>4:05:24|-78.76</td>\n",
       "      <td>2.54</td>\n",
       "      <td>2000</td>\n",
       "      <td>0</td>\n",
       "    </tr>\n",
       "  </tbody>\n",
       "</table>\n",
       "</div>"
      ],
      "text/plain": [
       "       star                                             magnitude         \n",
       "0    Sirrah  f|S|B9  0:08:23.2|135.68  29:05:27|-162.95      2.07  2000  0\n",
       "1      Caph  f|S|F2  0:09:10.1|523.39  59:09:01|-180.42      2.28  2000  0\n",
       "2   Algenib  f|S|B2     0:13:14.2|4.7    15:11:01|-8.24      2.83  2000  0\n",
       "3   Schedar  f|S|K0   0:40:30.4|50.36   56:32:15|-32.17      2.24  2000  0\n",
       "4    Mirach  f|S|M0  1:09:43.8|175.59  35:37:15|-112.23      2.07  2000  0\n",
       "5  Achernar  f|S|B3   1:37:42.8|88.02  -57:14:12|-40.08      0.45  2000  0\n",
       "6    Almach  f|S|B8   2:03:53.9|43.08   42:19:48|-50.85      2.10  2000  0\n",
       "7     Hamal  f|S|K2  2:07:10.3|190.73  23:27:46|-145.77      2.01  2000  0\n",
       "8   Polaris  f|S|F7   2:31:47.1|44.22   89:15:51|-11.74      1.97  2000  0\n",
       "9    Menkar  f|S|M2  3:02:16.8|-11.81    4:05:24|-78.76      2.54  2000  0"
      ]
     },
     "execution_count": 4,
     "metadata": {},
     "output_type": "execute_result"
    }
   ],
   "source": [
    "starcatalogue.head(10)"
   ]
  },
  {
   "cell_type": "code",
   "execution_count": null,
   "metadata": {},
   "outputs": [],
   "source": []
  },
  {
   "cell_type": "code",
   "execution_count": 5,
   "metadata": {},
   "outputs": [],
   "source": [
    "# LOAD NEOLETHIC CIRCLE ENCLOSURE\n",
    "cite=Citable(\"KGAL0003\", formats=\"et\")\n",
    "quedlinburgI=cite.json()"
   ]
  },
  {
   "cell_type": "markdown",
   "metadata": {},
   "source": [
    "### Position calculation"
   ]
  },
  {
   "cell_type": "code",
   "execution_count": 6,
   "metadata": {},
   "outputs": [],
   "source": [
    "# DEFINE DECLINATION FUNCTION\n",
    "def Declination(year=2000, azimuth=20, altitude=10,latitude='12', longitude='40'):\n",
    "    az = np.radians(azimuth)\n",
    "    el = np.radians(altitude)\n",
    "    observer = ephem.Observer()\n",
    "    print(longitude)\n",
    "    observer.lon = longitude\n",
    "    observer.lat = latitude\n",
    "    observer.elevation = 0\n",
    "    observer.date = str(year)+\"/1/1  00:00:00\"\n",
    "    ra,dec = observer.radec_of(az, el)\n",
    "    \n",
    "    return {\"right ascension\":np.degrees(ra), \"declination\":np.degrees(dec)}"
   ]
  },
  {
   "cell_type": "code",
   "execution_count": 7,
   "metadata": {},
   "outputs": [
    {
     "name": "stdout",
     "output_type": "stream",
     "text": [
      "40\n"
     ]
    },
    {
     "data": {
      "text/plain": [
       "{'right ascension': 234.06283618133986, 'declination': 70.26059184610332}"
      ]
     },
     "execution_count": 7,
     "metadata": {},
     "output_type": "execute_result"
    }
   ],
   "source": [
    "Declination()"
   ]
  },
  {
   "cell_type": "code",
   "execution_count": 8,
   "metadata": {},
   "outputs": [],
   "source": [
    "# DEFINE POSITION FUNCTION\n",
    "def Position(year=2000, hour=1, longitude='40', latitude='12', star=\"Sirius\"):\n",
    "    \n",
    "    star=ephem.star(star)\n",
    "    #setting\n",
    "    setting = ephem.Observer()\n",
    "    setting.lon = ephem.degrees(longitude)\n",
    "    setting.lat = ephem.degrees(latitude)\n",
    "    setting.date = str(year)+\"/12/1  00:00:00\"\n",
    "    setting.date = setting.previous_setting(star)\n",
    "    star.compute(setting)\n",
    "    # rising\n",
    "    rising = ephem.Observer()\n",
    "    rising.lon = ephem.degrees(longitude)\n",
    "    rising.lat = ephem.degrees(latitude)\n",
    "    rising.date = str(year)+\"/1/1  00:00:00\"\n",
    "    rising.date = rising.previous_rising(star)\n",
    "    star.compute(setting)\n",
    "    sets=np.degrees(float(star.az))\n",
    "    star.compute(rising)\n",
    "    rise=np.degrees(float(star.az))\n",
    "    return {\"star\": starname, \"year\": year, \"azimuth rising\":rise, \"azimuth setting\": sets }"
   ]
  },
  {
   "cell_type": "markdown",
   "metadata": {},
   "source": [
    "### Star on horizon"
   ]
  },
  {
   "cell_type": "code",
   "execution_count": 12,
   "metadata": {},
   "outputs": [],
   "source": [
    "#long=quedlinburgI[\"coordinates\"][\"longitude\"]\n",
    "#lat=quedlinburgI[\"coordinates\"][\"latitude\"]\n",
    "#Position(year=2000, hour=1, longitude=\"12\", latitude=\"20\", star=\"Sirius\")"
   ]
  },
  {
   "cell_type": "code",
   "execution_count": 23,
   "metadata": {},
   "outputs": [
    {
     "data": {
      "text/plain": [
       "-16.72277381048232"
      ]
     },
     "execution_count": 23,
     "metadata": {},
     "output_type": "execute_result"
    }
   ],
   "source": [
    "import ephem\n",
    "star=ephem.star('Sirius','2003/08/27', epoch=ephem.J2000 )\n",
    "#m = ephem.Mars('2003/08/27', epoch=ephem.J2000)\n",
    "float(star.a_dec*180/3.14)"
   ]
  },
  {
   "cell_type": "code",
   "execution_count": null,
   "metadata": {},
   "outputs": [],
   "source": []
  }
 ],
 "metadata": {
  "kernelspec": {
   "display_name": "kreisgrabenanlage",
   "language": "python",
   "name": "kreisgrabenanlage"
  },
  "language_info": {
   "codemirror_mode": {
    "name": "ipython",
    "version": 3
   },
   "file_extension": ".py",
   "mimetype": "text/x-python",
   "name": "python",
   "nbconvert_exporter": "python",
   "pygments_lexer": "ipython3",
   "version": "3.6.6"
  }
 },
 "nbformat": 4,
 "nbformat_minor": 2
}
