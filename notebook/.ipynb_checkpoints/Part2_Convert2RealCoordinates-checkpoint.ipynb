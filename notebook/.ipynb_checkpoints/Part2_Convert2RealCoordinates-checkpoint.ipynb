{
 "cells": [
  {
   "cell_type": "markdown",
   "metadata": {},
   "source": [
    "# Modellierung der Sichtlinien für Kreisgrabenanlagen"
   ]
  },
  {
   "cell_type": "markdown",
   "metadata": {},
   "source": [
    "## Libraries"
   ]
  },
  {
   "cell_type": "code",
   "execution_count": 1,
   "metadata": {},
   "outputs": [],
   "source": [
    "# monte carlo\n",
    "import pymc3 as pm\n",
    "# regression\n",
    "import lmfit\n",
    "# basic\n",
    "import math\n",
    "from collections import Counter\n",
    "import matplotlib.pyplot as plt\n",
    "from convert2geojson import Convert2GeoJson"
   ]
  },
  {
   "cell_type": "markdown",
   "metadata": {},
   "source": [
    "## Import Notebooks"
   ]
  },
  {
   "cell_type": "code",
   "execution_count": 2,
   "metadata": {},
   "outputs": [],
   "source": [
    "%%capture\n",
    "#%run Astronomy.ipynb\n",
    "%run Part1_DataPreparation.ipynb\n",
    "%run CoordinateTransformation.ipynb"
   ]
  },
  {
   "cell_type": "markdown",
   "metadata": {},
   "source": [
    "# Function Digilib 2 Pixel"
   ]
  },
  {
   "cell_type": "code",
   "execution_count": 3,
   "metadata": {},
   "outputs": [],
   "source": [
    "#DIGLIB TO PIXEL\n",
    "def Digi2Pixel(image=\"images/GR_QLBI.jpg\", marker=\"\"):\n",
    "    img=Image.open(image)\n",
    "    digi=marker[\"marker\"]\n",
    "    display(HTML('<iframe id=gordon src='+digi+' + width=100% height=450></iframe>'))\n",
    "    #print(\"image size: \",img.size) \n",
    "    # Define coordinates for affine transformation\n",
    "    pixelreference=np.array([(0,img.size[1]),(img.size[0], img.size[1]), (img.size[0],0), (0,0)])\n",
    "    par=marker[\"referencepoints\"]\n",
    "    georeference=np.array([(par['top-left'][\"long\"],par['top-left'][\"lat\"]),(par['top-right'][\"long\"],par['top-right'][\"lat\"]),\n",
    "              (par['bottom-right'][\"long\"],par['bottom-right'][\"lat\"]), (par['bottom-left'][\"long\"],par['bottom-left'][\"lat\"])])\n",
    "    # convert digilib into pixel coordinates\n",
    "    pixel=[]\n",
    "    pixelxy=[]\n",
    "    digi_coord=digi.split('mk=')\n",
    "    digi_coord=digi_coord[1].split(',')\n",
    "    for i in range(0, len(digi_coord)):\n",
    "        x=img.size[0]*(float(digi_coord[i].split('/')[0]))\n",
    "        y=img.size[1]-(img.size[1]*(float(digi_coord[i].split('/')[1])))\n",
    "        pixelxy.append((x,y))\n",
    "        pixel.append((x,y,float(digi_coord[i].split('/')[0]),float(digi_coord[i].split('/')[1])))\n",
    "    return pd.DataFrame(pixel, columns=[\"x [Pixel]\", \"y [Pixel]\", \"x [Digilib]\", \"y [Digilib]\"]), pixelreference, georeference"
   ]
  },
  {
   "cell_type": "markdown",
   "metadata": {},
   "source": [
    "## Convert to Geo coordinates"
   ]
  },
  {
   "cell_type": "markdown",
   "metadata": {},
   "source": [
    "### Step 1: convert digilib to pixel and read out reference coordinates (pixel and [°])"
   ]
  },
  {
   "cell_type": "code",
   "execution_count": 4,
   "metadata": {},
   "outputs": [
    {
     "data": {
      "text/html": [
       "<iframe id=gordon src=http://repository.edition-topoi.org/digilib/digilib.html?fn=/KGAL/ReposKGAL/KGAL0001/GR_QLBI.jpg&ww=0.7142&wh=0.7142&wy=0.2857&mk=0.3721/0.3543,0.3591/0.3406,0.3476/0.3229,0.3387/0.3108,0.3272/0.2995,0.2455/0.2005,0.185/0.1393,0.1734/0.1127,0.3789/0.3422,0.3673/0.3317,0.3544/0.3148,0.3476/0.3019,0.3408/0.2834,0.253/0.1763,0.2061/0.1232,0.1986/0.1014,0.5034/0.0789,0.5149/0.0853,0.7122/0.2061,0.7544/0.0813,0.7238/0.2158,0.7768/0.0901,0.7734/0.6859,0.8068/0.7245,0.7482/0.6972,0.7741/0.7092,0.8034/0.7406,0.3789/0.7616,0.3448/0.8091,0.3612/0.7431,0.3095/0.8115,0.1721/0.9774,0.1571/0.4749,0.1564/0.4459 + width=100% height=450></iframe>"
      ],
      "text/plain": [
       "<IPython.core.display.HTML object>"
      ]
     },
     "metadata": {},
     "output_type": "display_data"
    }
   ],
   "source": [
    "listobj, ref_pix, ref_geo=Digi2Pixel(\"../images/GR_QLBI.jpg\", marker=listobjs[0][0])"
   ]
  },
  {
   "cell_type": "markdown",
   "metadata": {},
   "source": [
    "### Step 2: find affine transformation matrix for reference points"
   ]
  },
  {
   "cell_type": "code",
   "execution_count": 5,
   "metadata": {},
   "outputs": [
    {
     "data": {
      "text/plain": [
       "array([[  0, 670],\n",
       "       [793, 670],\n",
       "       [793,   0],\n",
       "       [  0,   0]])"
      ]
     },
     "execution_count": 5,
     "metadata": {},
     "output_type": "execute_result"
    }
   ],
   "source": [
    "ref_pix"
   ]
  },
  {
   "cell_type": "code",
   "execution_count": 6,
   "metadata": {},
   "outputs": [
    {
     "data": {
      "text/plain": [
       "array([[11.177462, 51.813754],\n",
       "       [11.179232, 51.813766],\n",
       "       [11.179247, 51.812858],\n",
       "       [11.177476, 51.812855]])"
      ]
     },
     "execution_count": 6,
     "metadata": {},
     "output_type": "execute_result"
    }
   ],
   "source": [
    "ref_geo"
   ]
  },
  {
   "cell_type": "code",
   "execution_count": 7,
   "metadata": {},
   "outputs": [],
   "source": [
    "s=affine_transformation_2d(ref_pix,ref_geo)"
   ]
  },
  {
   "cell_type": "code",
   "execution_count": 8,
   "metadata": {},
   "outputs": [
    {
     "data": {
      "text/plain": [
       "array([[ 2.23266773e-06, -2.16418854e-08,  1.11774762e+01],\n",
       "       [ 9.45778481e-09,  1.34851334e-06,  5.18128527e+01],\n",
       "       [ 0.00000000e+00,  0.00000000e+00,  1.00000000e+00]])"
      ]
     },
     "execution_count": 8,
     "metadata": {},
     "output_type": "execute_result"
    }
   ],
   "source": [
    "affine_mat=s.skimage()\n",
    "affine_mat"
   ]
  },
  {
   "cell_type": "markdown",
   "metadata": {},
   "source": [
    "### Step 3: convert all gate marker into corresponding geo coordinates"
   ]
  },
  {
   "cell_type": "code",
   "execution_count": 9,
   "metadata": {},
   "outputs": [],
   "source": [
    "x=listobj['x [Pixel]']\n",
    "y=listobj['y [Pixel]']"
   ]
  },
  {
   "cell_type": "code",
   "execution_count": 10,
   "metadata": {},
   "outputs": [
    {
     "name": "stdout",
     "output_type": "stream",
     "text": [
      "2.2326677334091076e-06\n",
      "-2.1641885439716236e-08\n",
      "11.177476247275326\n",
      "9.457784806783336e-09\n",
      "1.3485133445010632e-06\n",
      "51.81285274801792\n"
     ]
    }
   ],
   "source": [
    "print(affine_mat[0][0])\n",
    "print(affine_mat[0][1])\n",
    "print(affine_mat[0][2])\n",
    "print(affine_mat[1][0])\n",
    "print(affine_mat[1][1])\n",
    "print(affine_mat[1][2])"
   ]
  },
  {
   "cell_type": "code",
   "execution_count": 23,
   "metadata": {},
   "outputs": [
    {
     "data": {
      "text/html": [
       "<div>\n",
       "<style scoped>\n",
       "    .dataframe tbody tr th:only-of-type {\n",
       "        vertical-align: middle;\n",
       "    }\n",
       "\n",
       "    .dataframe tbody tr th {\n",
       "        vertical-align: top;\n",
       "    }\n",
       "\n",
       "    .dataframe thead th {\n",
       "        text-align: right;\n",
       "    }\n",
       "</style>\n",
       "<table border=\"1\" class=\"dataframe\">\n",
       "  <thead>\n",
       "    <tr style=\"text-align: right;\">\n",
       "      <th></th>\n",
       "      <th>long[°]</th>\n",
       "      <th>lat[°]</th>\n",
       "    </tr>\n",
       "  </thead>\n",
       "  <tbody>\n",
       "    <tr>\n",
       "      <th>0</th>\n",
       "      <td>11.178129</td>\n",
       "      <td>51.813253</td>\n",
       "    </tr>\n",
       "    <tr>\n",
       "      <th>1</th>\n",
       "      <td>11.178106</td>\n",
       "      <td>51.813239</td>\n",
       "    </tr>\n",
       "    <tr>\n",
       "      <th>2</th>\n",
       "      <td>11.178086</td>\n",
       "      <td>51.813227</td>\n",
       "    </tr>\n",
       "    <tr>\n",
       "      <th>3</th>\n",
       "      <td>11.178070</td>\n",
       "      <td>51.813217</td>\n",
       "    </tr>\n",
       "    <tr>\n",
       "      <th>4</th>\n",
       "      <td>11.178050</td>\n",
       "      <td>51.813205</td>\n",
       "    </tr>\n",
       "    <tr>\n",
       "      <th>5</th>\n",
       "      <td>11.177907</td>\n",
       "      <td>51.813117</td>\n",
       "    </tr>\n",
       "    <tr>\n",
       "      <th>6</th>\n",
       "      <td>11.177801</td>\n",
       "      <td>51.813052</td>\n",
       "    </tr>\n",
       "    <tr>\n",
       "      <th>7</th>\n",
       "      <td>11.177780</td>\n",
       "      <td>51.813039</td>\n",
       "    </tr>\n",
       "    <tr>\n",
       "      <th>8</th>\n",
       "      <td>11.178141</td>\n",
       "      <td>51.813261</td>\n",
       "    </tr>\n",
       "    <tr>\n",
       "      <th>9</th>\n",
       "      <td>11.178120</td>\n",
       "      <td>51.813248</td>\n",
       "    </tr>\n",
       "    <tr>\n",
       "      <th>10</th>\n",
       "      <td>11.178098</td>\n",
       "      <td>51.813234</td>\n",
       "    </tr>\n",
       "    <tr>\n",
       "      <th>11</th>\n",
       "      <td>11.178086</td>\n",
       "      <td>51.813227</td>\n",
       "    </tr>\n",
       "    <tr>\n",
       "      <th>12</th>\n",
       "      <td>11.178074</td>\n",
       "      <td>51.813220</td>\n",
       "    </tr>\n",
       "    <tr>\n",
       "      <th>13</th>\n",
       "      <td>11.177920</td>\n",
       "      <td>51.813125</td>\n",
       "    </tr>\n",
       "    <tr>\n",
       "      <th>14</th>\n",
       "      <td>11.177838</td>\n",
       "      <td>51.813075</td>\n",
       "    </tr>\n",
       "    <tr>\n",
       "      <th>15</th>\n",
       "      <td>11.177824</td>\n",
       "      <td>51.813067</td>\n",
       "    </tr>\n",
       "    <tr>\n",
       "      <th>16</th>\n",
       "      <td>11.178359</td>\n",
       "      <td>51.813395</td>\n",
       "    </tr>\n",
       "    <tr>\n",
       "      <th>17</th>\n",
       "      <td>11.178379</td>\n",
       "      <td>51.813407</td>\n",
       "    </tr>\n",
       "    <tr>\n",
       "      <th>18</th>\n",
       "      <td>11.178725</td>\n",
       "      <td>51.813620</td>\n",
       "    </tr>\n",
       "    <tr>\n",
       "      <th>19</th>\n",
       "      <td>11.178799</td>\n",
       "      <td>51.813665</td>\n",
       "    </tr>\n",
       "    <tr>\n",
       "      <th>20</th>\n",
       "      <td>11.178745</td>\n",
       "      <td>51.813632</td>\n",
       "    </tr>\n",
       "    <tr>\n",
       "      <th>21</th>\n",
       "      <td>11.178838</td>\n",
       "      <td>51.813689</td>\n",
       "    </tr>\n",
       "    <tr>\n",
       "      <th>22</th>\n",
       "      <td>11.178832</td>\n",
       "      <td>51.813686</td>\n",
       "    </tr>\n",
       "    <tr>\n",
       "      <th>23</th>\n",
       "      <td>11.178891</td>\n",
       "      <td>51.813722</td>\n",
       "    </tr>\n",
       "    <tr>\n",
       "      <th>24</th>\n",
       "      <td>11.178788</td>\n",
       "      <td>51.813658</td>\n",
       "    </tr>\n",
       "    <tr>\n",
       "      <th>25</th>\n",
       "      <td>11.178834</td>\n",
       "      <td>51.813686</td>\n",
       "    </tr>\n",
       "    <tr>\n",
       "      <th>26</th>\n",
       "      <td>11.178885</td>\n",
       "      <td>51.813718</td>\n",
       "    </tr>\n",
       "    <tr>\n",
       "      <th>27</th>\n",
       "      <td>11.178141</td>\n",
       "      <td>51.813261</td>\n",
       "    </tr>\n",
       "    <tr>\n",
       "      <th>28</th>\n",
       "      <td>11.178081</td>\n",
       "      <td>51.813224</td>\n",
       "    </tr>\n",
       "    <tr>\n",
       "      <th>29</th>\n",
       "      <td>11.178110</td>\n",
       "      <td>51.813242</td>\n",
       "    </tr>\n",
       "    <tr>\n",
       "      <th>30</th>\n",
       "      <td>11.178019</td>\n",
       "      <td>51.813186</td>\n",
       "    </tr>\n",
       "    <tr>\n",
       "      <th>31</th>\n",
       "      <td>11.177778</td>\n",
       "      <td>51.813038</td>\n",
       "    </tr>\n",
       "    <tr>\n",
       "      <th>32</th>\n",
       "      <td>11.177752</td>\n",
       "      <td>51.813022</td>\n",
       "    </tr>\n",
       "    <tr>\n",
       "      <th>33</th>\n",
       "      <td>11.177750</td>\n",
       "      <td>51.813021</td>\n",
       "    </tr>\n",
       "  </tbody>\n",
       "</table>\n",
       "</div>"
      ],
      "text/plain": [
       "      long[°]     lat[°]\n",
       "0   11.178129  51.813253\n",
       "1   11.178106  51.813239\n",
       "2   11.178086  51.813227\n",
       "3   11.178070  51.813217\n",
       "4   11.178050  51.813205\n",
       "5   11.177907  51.813117\n",
       "6   11.177801  51.813052\n",
       "7   11.177780  51.813039\n",
       "8   11.178141  51.813261\n",
       "9   11.178120  51.813248\n",
       "10  11.178098  51.813234\n",
       "11  11.178086  51.813227\n",
       "12  11.178074  51.813220\n",
       "13  11.177920  51.813125\n",
       "14  11.177838  51.813075\n",
       "15  11.177824  51.813067\n",
       "16  11.178359  51.813395\n",
       "17  11.178379  51.813407\n",
       "18  11.178725  51.813620\n",
       "19  11.178799  51.813665\n",
       "20  11.178745  51.813632\n",
       "21  11.178838  51.813689\n",
       "22  11.178832  51.813686\n",
       "23  11.178891  51.813722\n",
       "24  11.178788  51.813658\n",
       "25  11.178834  51.813686\n",
       "26  11.178885  51.813718\n",
       "27  11.178141  51.813261\n",
       "28  11.178081  51.813224\n",
       "29  11.178110  51.813242\n",
       "30  11.178019  51.813186\n",
       "31  11.177778  51.813038\n",
       "32  11.177752  51.813022\n",
       "33  11.177750  51.813021"
      ]
     },
     "execution_count": 23,
     "metadata": {},
     "output_type": "execute_result"
    }
   ],
   "source": [
    "geocoord=pixel2object_affine(x_inp=[list(x),list(y)], A=affine_mat[0][0], B=affine_mat[0][1], C=affine_mat[0][2], \n",
    "                             D=affine_mat[1][0], E=affine_mat[1][1], F= affine_mat[1][2])\n",
    "geocoord"
   ]
  },
  {
   "cell_type": "code",
   "execution_count": 12,
   "metadata": {},
   "outputs": [],
   "source": [
    "#small bug-fix (temp.)\n",
    "#geocoord[\"test\"]=\"test\""
   ]
  },
  {
   "cell_type": "code",
   "execution_count": 13,
   "metadata": {},
   "outputs": [],
   "source": [
    "#geocoord.plot.scatter(x='long[°]', y='lat[°]', xlim=[min(geocoord[\"long[°]\"]) ,max(geocoord[\"long[°]\"])],\n",
    "#                      ylim=[min(geocoord[\"lat[°]\"]) ,max(geocoord[\"lat[°]\"])], figsize=(16,10))"
   ]
  },
  {
   "cell_type": "code",
   "execution_count": 14,
   "metadata": {},
   "outputs": [],
   "source": [
    "#listobjs[0][0][\"horizon-phenomena\"]"
   ]
  },
  {
   "cell_type": "code",
   "execution_count": 15,
   "metadata": {},
   "outputs": [],
   "source": [
    "build = Convert2GeoJson(dataframe=geocoord, properties=geocoord.columns, lon='long[°]',lat='lat[°]').convert()"
   ]
  },
  {
   "cell_type": "code",
   "execution_count": 16,
   "metadata": {},
   "outputs": [
    {
     "data": {
      "text/plain": [
       "{'type': 'FeatureCollection',\n",
       " 'features': [{'type': 'Feature',\n",
       "   'properties': {'long[°]': 11.178128666390725, 'lat[°]': 51.813253451756296},\n",
       "   'geometry': {'type': 'Point',\n",
       "    'coordinates': [11.178128666390725, 51.813253451756296]}},\n",
       "  {'type': 'Feature',\n",
       "   'properties': {'long[°]': 11.178105872925258, 'lat[°]': 51.81323945243192},\n",
       "   'geometry': {'type': 'Point',\n",
       "    'coordinates': [11.178105872925258, 51.81323945243192]}},\n",
       "  {'type': 'Feature',\n",
       "   'properties': {'long[°]': 11.178085709475036, 'lat[°]': 51.81322706841421},\n",
       "   'geometry': {'type': 'Point',\n",
       "    'coordinates': [11.178085709475036, 51.81322706841421]}},\n",
       "  {'type': 'Feature',\n",
       "   'properties': {'long[°]': 11.178070104717909, 'lat[°]': 51.813217484261365},\n",
       "   'geometry': {'type': 'Point',\n",
       "    'coordinates': [11.178070104717909, 51.813217484261365]}},\n",
       "  {'type': 'Feature',\n",
       "   'properties': {'long[°]': 11.178049941267687, 'lat[°]': 51.81320510024365},\n",
       "   'geometry': {'type': 'Point',\n",
       "    'coordinates': [11.178049941267687, 51.81320510024365]}},\n",
       "  {'type': 'Feature',\n",
       "   'properties': {'long[°]': 11.177906693103946, 'lat[°]': 51.81311711987433},\n",
       "   'geometry': {'type': 'Point',\n",
       "    'coordinates': [11.177906693103946, 51.81311711987433]}},\n",
       "  {'type': 'Feature',\n",
       "   'properties': {'long[°]': 11.177800615822353, 'lat[°]': 51.81305196917244},\n",
       "   'geometry': {'type': 'Point',\n",
       "    'coordinates': [11.177800615822353, 51.81305196917244]}},\n",
       "  {'type': 'Feature',\n",
       "   'properties': {'long[°]': 11.177780277037783, 'lat[°]': 51.81303947746761},\n",
       "   'geometry': {'type': 'Point',\n",
       "    'coordinates': [11.177780277037783, 51.81303947746761]}},\n",
       "  {'type': 'Feature',\n",
       "   'properties': {'long[°]': 11.178140589126505, 'lat[°]': 51.81326077447981},\n",
       "   'geometry': {'type': 'Point',\n",
       "    'coordinates': [11.178140589126505, 51.81326077447981]}},\n",
       "  {'type': 'Feature',\n",
       "   'properties': {'long[°]': 11.178120250341935, 'lat[°]': 51.81324828277498},\n",
       "   'geometry': {'type': 'Point',\n",
       "    'coordinates': [11.178120250341935, 51.81324828277498]}},\n",
       "  {'type': 'Feature',\n",
       "   'properties': {'long[°]': 11.178097632210818, 'lat[°]': 51.813234391137726},\n",
       "   'geometry': {'type': 'Point',\n",
       "    'coordinates': [11.178097632210818, 51.813234391137726]}},\n",
       "  {'type': 'Feature',\n",
       "   'properties': {'long[°]': 11.178085709475036, 'lat[°]': 51.81322706841421},\n",
       "   'geometry': {'type': 'Point',\n",
       "    'coordinates': [11.178085709475036, 51.81322706841421]}},\n",
       "  {'type': 'Feature',\n",
       "   'properties': {'long[°]': 11.178073786739255, 'lat[°]': 51.81321974569068},\n",
       "   'geometry': {'type': 'Point',\n",
       "    'coordinates': [11.178073786739255, 51.81321974569068]}},\n",
       "  {'type': 'Feature',\n",
       "   'properties': {'long[°]': 11.177919843180177, 'lat[°]': 51.81312519640762},\n",
       "   'geometry': {'type': 'Point',\n",
       "    'coordinates': [11.177919843180177, 51.81312519640762]}},\n",
       "  {'type': 'Feature',\n",
       "   'properties': {'long[°]': 11.177837611370148, 'lat[°]': 51.81307469115277},\n",
       "   'geometry': {'type': 'Point',\n",
       "    'coordinates': [11.177837611370148, 51.81307469115277]}},\n",
       "  {'type': 'Feature',\n",
       "   'properties': {'long[°]': 11.177824461293918, 'lat[°]': 51.81306661461948},\n",
       "   'geometry': {'type': 'Point',\n",
       "    'coordinates': [11.177824461293918, 51.81306661461948]}},\n",
       "  {'type': 'Feature',\n",
       "   'properties': {'long[°]': 11.178358880391936, 'lat[°]': 51.813394844932446},\n",
       "   'geometry': {'type': 'Point',\n",
       "    'coordinates': [11.178358880391936, 51.813394844932446]}},\n",
       "  {'type': 'Feature',\n",
       "   'properties': {'long[°]': 11.178379043842156, 'lat[°]': 51.81340722895016},\n",
       "   'geometry': {'type': 'Point',\n",
       "    'coordinates': [11.178379043842156, 51.81340722895016]}},\n",
       "  {'type': 'Feature',\n",
       "   'properties': {'long[°]': 11.178724978514202, 'lat[°]': 51.81361969561929},\n",
       "   'geometry': {'type': 'Point',\n",
       "    'coordinates': [11.178724978514202, 51.81361969561929]}},\n",
       "  {'type': 'Feature',\n",
       "   'properties': {'long[°]': 11.178798969609796, 'lat[°]': 51.81366513957993},\n",
       "   'geometry': {'type': 'Point',\n",
       "    'coordinates': [11.178798969609796, 51.81366513957993]}},\n",
       "  {'type': 'Feature',\n",
       "   'properties': {'long[°]': 11.178745317298773, 'lat[°]': 51.8136321873241},\n",
       "   'geometry': {'type': 'Point',\n",
       "    'coordinates': [11.178745317298773, 51.8136321873241]}},\n",
       "  {'type': 'Feature',\n",
       "   'properties': {'long[°]': 11.178838244504139, 'lat[°]': 51.8136892614927},\n",
       "   'geometry': {'type': 'Point',\n",
       "    'coordinates': [11.178838244504139, 51.8136892614927]}},\n",
       "  {'type': 'Feature',\n",
       "   'properties': {'long[°]': 11.178832283136247, 'lat[°]': 51.813685600130945},\n",
       "   'geometry': {'type': 'Point',\n",
       "    'coordinates': [11.178832283136247, 51.813685600130945]}},\n",
       "  {'type': 'Feature',\n",
       "   'properties': {'long[°]': 11.178890844809061, 'lat[°]': 51.81372156762587},\n",
       "   'geometry': {'type': 'Point',\n",
       "    'coordinates': [11.178890844809061, 51.81372156762587]}},\n",
       "  {'type': 'Feature',\n",
       "   'properties': {'long[°]': 11.17878809888011, 'lat[°]': 51.813658462979085},\n",
       "   'geometry': {'type': 'Point',\n",
       "    'coordinates': [11.17878809888011, 51.813658462979085]}},\n",
       "  {'type': 'Feature',\n",
       "   'properties': {'long[°]': 11.178833510476695, 'lat[°]': 51.81368635394072},\n",
       "   'geometry': {'type': 'Point',\n",
       "    'coordinates': [11.178833510476695, 51.81368635394072]}},\n",
       "  {'type': 'Feature',\n",
       "   'properties': {'long[°]': 11.17888488344117, 'lat[°]': 51.8137179062641},\n",
       "   'geometry': {'type': 'Point',\n",
       "    'coordinates': [11.17888488344117, 51.8137179062641]}},\n",
       "  {'type': 'Feature',\n",
       "   'properties': {'long[°]': 11.178140589126505, 'lat[°]': 51.81326077447981},\n",
       "   'geometry': {'type': 'Point',\n",
       "    'coordinates': [11.178140589126505, 51.81326077447981]}},\n",
       "  {'type': 'Feature',\n",
       "   'properties': {'long[°]': 11.178080800113243, 'lat[°]': 51.813224053175105},\n",
       "   'geometry': {'type': 'Point',\n",
       "    'coordinates': [11.178080800113243, 51.813224053175105]}},\n",
       "  {'type': 'Feature',\n",
       "   'properties': {'long[°]': 11.178109554946602, 'lat[°]': 51.81324171386124},\n",
       "   'geometry': {'type': 'Point',\n",
       "    'coordinates': [11.178109554946602, 51.81324171386124]}},\n",
       "  {'type': 'Feature',\n",
       "   'properties': {'long[°]': 11.178018907087784, 'lat[°]': 51.81318603962508},\n",
       "   'geometry': {'type': 'Point',\n",
       "    'coordinates': [11.178018907087784, 51.81318603962508]}},\n",
       "  {'type': 'Feature',\n",
       "   'properties': {'long[°]': 11.177777997691235, 'lat[°]': 51.81303807753518},\n",
       "   'geometry': {'type': 'Point',\n",
       "    'coordinates': [11.177777997691235, 51.81303807753518]}},\n",
       "  {'type': 'Feature',\n",
       "   'properties': {'long[°]': 11.177751697538774, 'lat[°]': 51.8130219244686},\n",
       "   'geometry': {'type': 'Point',\n",
       "    'coordinates': [11.177751697538774, 51.8130219244686]}},\n",
       "  {'type': 'Feature',\n",
       "   'properties': {'long[°]': 11.177750470198324, 'lat[°]': 51.81302117065883},\n",
       "   'geometry': {'type': 'Point',\n",
       "    'coordinates': [11.177750470198324, 51.81302117065883]}}],\n",
       " 'properties': {'fields': {'long[°]': {'name': 'long[°]'},\n",
       "   'lat[°]': {'name': 'lat[°]'}},\n",
       "  'attribution': 'Implemented: <a target=\"_blank\" href=\"http://www.topoi.org\">Topoi</a> and <a target=\"_blank\" href=\"https://www.mpiwg-berlin.mpg.de\">MPIWG</a>',\n",
       "  'description': 'Displaying GeoJson Data from Pandas Dataframe'}}"
      ]
     },
     "execution_count": 16,
     "metadata": {},
     "output_type": "execute_result"
    }
   ],
   "source": [
    "geojson = build.geojson()\n",
    "geojson"
   ]
  },
  {
   "cell_type": "code",
   "execution_count": 17,
   "metadata": {},
   "outputs": [],
   "source": [
    "#build.save()"
   ]
  },
  {
   "cell_type": "code",
   "execution_count": 18,
   "metadata": {},
   "outputs": [],
   "source": [
    "mapD = build.display()"
   ]
  },
  {
   "cell_type": "code",
   "execution_count": 21,
   "metadata": {},
   "outputs": [
    {
     "data": {
      "application/vnd.jupyter.widget-view+json": {
       "model_id": "4f8cbfe482744b319b8dbc680d45d3d2",
       "version_major": 2,
       "version_minor": 0
      },
      "text/plain": [
       "Map(basemap={'url': 'https://{s}.tile.openstreetmap.org/{z}/{x}/{y}.png', 'max_zoom': 19, 'attribution': 'Map …"
      ]
     },
     "metadata": {},
     "output_type": "display_data"
    }
   ],
   "source": [
    "mapD"
   ]
  },
  {
   "cell_type": "code",
   "execution_count": 20,
   "metadata": {},
   "outputs": [],
   "source": [
    "geocoord;"
   ]
  },
  {
   "cell_type": "code",
   "execution_count": null,
   "metadata": {},
   "outputs": [],
   "source": []
  }
 ],
 "metadata": {
  "kernelspec": {
   "display_name": "kreisgrabenanlage",
   "language": "python",
   "name": "kreisgrabenanlage"
  },
  "language_info": {
   "codemirror_mode": {
    "name": "ipython",
    "version": 3
   },
   "file_extension": ".py",
   "mimetype": "text/x-python",
   "name": "python",
   "nbconvert_exporter": "python",
   "pygments_lexer": "ipython3",
   "version": "3.6.6"
  }
 },
 "nbformat": 4,
 "nbformat_minor": 2
}
