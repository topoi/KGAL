{
 "cells": [
  {
   "cell_type": "markdown",
   "metadata": {},
   "source": [
    "# Clustering of declinations"
   ]
  },
  {
   "cell_type": "markdown",
   "metadata": {},
   "source": [
    "## Libraries"
   ]
  },
  {
   "cell_type": "code",
   "execution_count": 4,
   "metadata": {},
   "outputs": [],
   "source": [
    "import pandas as pd\n",
    "from math import *\n",
    "from collections import Counter\n",
    "import matplotlib.pyplot as plt\n",
    "import numpy as np\n",
    "import seaborn as sns\n",
    "# import hierarchical clustering libraries\n",
    "from scipy import stats\n",
    "import scipy.cluster.hierarchy as sch\n",
    "#import sklearn.cluster as cluster\n",
    "#from sklearn.cluster import DBSCAN\n",
    "#from sklearn.cluster import AgglomerativeClustering\n",
    "#from sklearn.datasets import make_blobs\n",
    "import time\n",
    "from itertools import permutations, combinations\n",
    "from convert2geojson import Convert2GeoJson\n",
    "from scipy.stats import norm\n",
    "import matplotlib.mlab as mlab"
   ]
  },
  {
   "cell_type": "code",
   "execution_count": 5,
   "metadata": {},
   "outputs": [],
   "source": [
    "def GetJSON(path):\n",
    "    with open(path, encoding=\"iso-8859-15\" ) as data_file:    \n",
    "        data = json.load(data_file)\n",
    "    return data;"
   ]
  },
  {
   "cell_type": "code",
   "execution_count": 6,
   "metadata": {},
   "outputs": [],
   "source": [
    "%%capture\n",
    "%run Part3_Modeling.ipynb"
   ]
  },
  {
   "cell_type": "markdown",
   "metadata": {},
   "source": [
    "### Neolithic enclosures in Germany"
   ]
  },
  {
   "cell_type": "code",
   "execution_count": 7,
   "metadata": {},
   "outputs": [
    {
     "data": {
      "application/vnd.jupyter.widget-view+json": {
       "model_id": "c576cc23ba124fe3930f394afe335f1b",
       "version_major": 2,
       "version_minor": 0
      },
      "text/plain": [
       "Map(basemap={'url': 'https://{s}.tile.openstreetmap.org/{z}/{x}/{y}.png', 'max_zoom': 19, 'attribution': 'Map …"
      ]
     },
     "metadata": {},
     "output_type": "display_data"
    }
   ],
   "source": [
    "coordinates=list()\n",
    "for element in listcoords:\n",
    "    coordinates.append((element[0]['latitude'], element[0]['longitude'], element[1]))\n",
    "\n",
    "df=pd.DataFrame(coordinates)\n",
    "df=df.rename(columns={0: 'latitude', 1: 'longitude', 2: 'object'})\n",
    "df\n",
    "build = Convert2GeoJson(dataframe=df, properties=df.columns, lon='longitude',lat='latitude').convert()\n",
    "#geojson = build.geojson()\n",
    "mapD = build.display()\n",
    "mapD"
   ]
  },
  {
   "cell_type": "code",
   "execution_count": 5,
   "metadata": {},
   "outputs": [],
   "source": [
    "#datalist=GetJSON(\"currentdata.json\");"
   ]
  },
  {
   "cell_type": "markdown",
   "metadata": {},
   "source": [
    "# Astronomy\n",
    "## Convert declination to azimuth\n",
    "- cos(A) = { sin(δ) - sin(φ) sin(a) } / cos(φ) cos(a)\n",
    "- see: http://star-www.st-and.ac.uk/~fv/webnotes/chapter7.htm"
   ]
  },
  {
   "cell_type": "code",
   "execution_count": 8,
   "metadata": {},
   "outputs": [],
   "source": [
    "def hor_to_equ1(x):\n",
    "    return(az2dec(x[1],x[2]))"
   ]
  },
  {
   "cell_type": "markdown",
   "metadata": {},
   "source": [
    "## Convert azimuth to declination\n",
    "\n",
    "sin(δ) = sin(a)sin(φ) + cos(a) cos(φ) cos(A) \n",
    "\n",
    "for a=0 (horizon) the formula simplify to \n",
    "\n",
    "sin(δ) = cos(φ) cos(A) "
   ]
  },
  {
   "cell_type": "code",
   "execution_count": 9,
   "metadata": {},
   "outputs": [],
   "source": [
    "def az2dec(phi,A):\n",
    "    rad_phi=radians(phi)\n",
    "    rad_A=radians(A)\n",
    "    a=degrees(asin(cos(rad_phi)*cos(rad_A))) # for alt=0\n",
    "    return(round(a,5))\n"
   ]
  },
  {
   "cell_type": "code",
   "execution_count": 10,
   "metadata": {},
   "outputs": [],
   "source": [
    "x = np.linspace(0,360, 200)\n",
    "y=[az2dec(51,y) for y in x]\n",
    "sd = 0.5"
   ]
  },
  {
   "cell_type": "code",
   "execution_count": 11,
   "metadata": {},
   "outputs": [
    {
     "data": {
      "image/png": "[encoded data removed]",
      "text/plain": [
       "<Figure size 432x288 with 1 Axes>"
      ]
     },
     "metadata": {
      "needs_background": "light"
     },
     "output_type": "display_data"
    }
   ],
   "source": [
    "plt.plot(x,y)\n",
    "plt.xlabel(\"azimuth\")\n",
    "plt.ylabel('declination')\n",
    "plt.title('Declination at horizon as function of azimuth for phi=51deg')\n",
    "plt.show()"
   ]
  },
  {
   "cell_type": "code",
   "execution_count": 25,
   "metadata": {},
   "outputs": [],
   "source": [
    "def Run(iterationsteps=100, threshold=10, bins=12, mods=3, sigma=0.2, startvalue=0.5):\n",
    "   \n",
    "    datalist={\"site\":[], \"lat\": [], \"mean azimuth\":[]}\n",
    "    overall_declination=list()\n",
    "    overall_values={}\n",
    "    for element in listobjs:\n",
    "\n",
    "        f=Modification(objects=element[0], objects1=element[2], iterat=iterationsteps, mods=mods, threshold=threshold, side=\"both\", sigma=sigma, startvalue=startvalue)\n",
    "        azimuth_values={\"1.0\":[], \"2.0\":[], \"3.0\":[], \"4.0\":[],\"5.0\":[],\"6.0\":[],\"7.0\":[], \"8.0\":[],  \"9.0\":[], \"10.0\":[]}\n",
    "        declination_values={\"1.0\":[], \"2.0\":[], \"3.0\":[], \"4.0\":[],\"5.0\":[],\"6.0\":[],\"7.0\":[], \"8.0\":[],  \"9.0\":[], \"10.0\":[]}\n",
    "        try:\n",
    "            print(\"##################################\")\n",
    "            print(\"Neolithic Enclosure: \"+f[\"object\"])\n",
    "            print(\"##################################\")\n",
    "            digi=f[\"fitted marker\"]\n",
    "            print(digi)\n",
    "            display(HTML('<iframe id=gordon src='+digi+' + width=80% height=300></iframe>'))\n",
    "            #print(f['gates'][\"1\"][\"elements\"])\n",
    "            gates=set(nested_lookup(\"gate\", f['mean azimuth']))\n",
    "            for j in range(len(f['mean azimuth'])):\n",
    "                for i in range(len(f['mean azimuth'][j])):\n",
    "                    if f['mean azimuth'][j][i].get(\"gate\") in gates:\n",
    "                        #,  f['mean azimuth'][j][i].get(\"azimuth(michel)\")\n",
    "                        azimuth_values[str(f['mean azimuth'][j][i].get(\"gate\"))].append((f['mean azimuth'][j][i].get(\"azimuth\"), f['mean azimuth'][j][i].get(\"#elements\"),  f['mean azimuth'][j][i].get(\"azimuth(michel)\")  ))\n",
    "                        declination_values[str(f['mean azimuth'][j][i].get(\"gate\"))].append((az2dec(f[\"latitude\"], f['mean azimuth'][j][i].get(\"azimuth\")),  f['mean azimuth'][j][i].get(\"#elements\"),  f['mean azimuth'][j][i].get(\"azimuth(michel)\")   ))\n",
    "                        overall_declination.append(az2dec(f[\"latitude\"], f['mean azimuth'][j][i].get(\"azimuth\")))\n",
    "            #azimuth_values[str(f['mean azimuth'][j][0].get(\"gate\"))].append(f['mean azimuth'][j][i].get(\"#elements\"))\n",
    "            #declination_values[str(f['mean azimuth'][j][0].get(\"gate\"))].append(f['mean azimuth'][j][i].get(\"#elements\"))\n",
    "            for elements in gates:\n",
    "                datalist[\"site\"].append(element[0][\"object\"])\n",
    "                datalist[\"lat\"].append(np.mean(nested_lookup(\"lat\", element[0]['referencepoints'])))\n",
    "                datalist[\"mean azimuth\"].append(np.mean(azimuth_values[str(elements)]))\n",
    "\n",
    "        except:\n",
    "            pass\n",
    "        \n",
    "        if azimuth_values != {'1.0': [], '2.0': [], '3.0': [], '4.0': [], '5.0': [], '6.0': [], '7.0': [], '8.0': [], '9.0': [], '10.0': []}:\n",
    "\n",
    "            plt.figure(figsize=(10,8))\n",
    "            plt.title('distributions of orientations in AZIMUTH at horizon')\n",
    "            plt.xlabel(\"azimuth [°]\")\n",
    "            plt.ylabel(\"#\")\n",
    "\n",
    "            plt.hist([i[0] for i in azimuth_values[\"1.0\"]], bins=bins)\n",
    "            plt.hist([i[0] for i in azimuth_values[\"2.0\"]], bins=bins)\n",
    "            plt.hist([i[0] for i in azimuth_values[\"3.0\"]], bins=bins)\n",
    "            plt.hist([i[0] for i in azimuth_values[\"4.0\"]], bins=bins)\n",
    "            plt.hist([i[0] for i in azimuth_values[\"5.0\"]], bins=bins)\n",
    "            plt.hist([i[0] for i in azimuth_values[\"6.0\"]], bins=bins)\n",
    "            plt.hist([i[0] for i in azimuth_values[\"7.0\"]], bins=bins)\n",
    "            plt.hist([i[0] for i in azimuth_values[\"8.0\"]], bins=bins)\n",
    "            plt.hist([i[0] for i in azimuth_values[\"9.0\"]], bins=bins)\n",
    "            plt.hist([i[0] for i in azimuth_values[\"10.0\"]], bins=bins)\n",
    "            plt.show()\n",
    "\n",
    "            plt.figure(figsize=(10,8))\n",
    "            plt.title('distributions of orientations in DECLINATION at horizon')\n",
    "            plt.xlabel(\"declination [°]\")\n",
    "            plt.ylabel(\"#\")\n",
    "            plt.hist([i[0] for i in declination_values[\"1.0\"]], bins=bins)\n",
    "            plt.hist([i[0] for i in declination_values[\"2.0\"]], bins=bins)\n",
    "            plt.hist([i[0] for i in declination_values[\"3.0\"]], bins=bins)\n",
    "            plt.hist([i[0] for i in declination_values[\"4.0\"]], bins=bins)\n",
    "            plt.hist([i[0] for i in declination_values[\"5.0\"]], bins=bins)\n",
    "            plt.hist([i[0] for i in declination_values[\"6.0\"]], bins=bins)\n",
    "            plt.hist([i[0] for i in declination_values[\"7.0\"]], bins=bins)\n",
    "            plt.hist([i[0] for i in declination_values[\"8.0\"]], bins=bins)\n",
    "            plt.hist([i[0] for i in declination_values[\"9.0\"]], bins=bins)\n",
    "            plt.hist([i[0] for i in declination_values[\"10.0\"]], bins=bins)\n",
    "            plt.show()\n",
    "            overall_values[element[0][\"object\"]]={\"declination\": declination_values, \"azimuth\": azimuth_values, \"latitude\": f[\"latitude\"], \"longitude\":f[\"longitude\"]}\n",
    "    #print(\"##########\")\n",
    "    #print(\"OVERVIEW\")\n",
    "    #print(\"##########\")\n",
    "    #plt.figure(figsize=(12,10))\n",
    "    #plt.title('overall orientations in DECLINATION at horizon')\n",
    "    #plt.xlabel(\"declination [°]\")\n",
    "    #plt.ylabel(\"#\")\n",
    "    #plt.hist(overall_declination, bins=20);\n",
    "    #plt.show()\n",
    "    #df_data=pd.DataFrame(datalist)\n",
    "    #plt.figure(figsize=(18,10))\n",
    "    #plt.title('distributions of orientations in azimuth at horizon for side: left')\n",
    "    #g=sns.swarmplot(x=\"site\", y=\"mean azimuth\",data=df_data)\n",
    "    #plt.xticks(rotation=90);\n",
    "    #plt.show()\n",
    "    #df_data[\"delta\"]=df_data.apply(hor_to_equ1, axis=1)\n",
    "    #plt.figure(figsize=(18,10))\n",
    "    #plt.title('distributions of orientations in declination at horizon for side: left')\n",
    "    #g=sns.swarmplot(x=\"site\", y=\"delta\",data=df_data)\n",
    "    #plt.xticks(rotation=90);\n",
    "    return overall_values"
   ]
  },
  {
   "cell_type": "markdown",
   "metadata": {},
   "source": [
    "### Run procedure"
   ]
  },
  {
   "cell_type": "code",
   "execution_count": 29,
   "metadata": {},
   "outputs": [],
   "source": [
    "%%capture\n",
    "#dataMod3 = Run(iterationsteps=500, threshold=15, bins=12, mods=3);\n",
    "#r1=Run(iterationsteps=20, threshold=30, bins=12, mods=3);"
   ]
  },
  {
   "cell_type": "code",
   "execution_count": 28,
   "metadata": {},
   "outputs": [],
   "source": [
    "#r1[\"QuedlinburgI\"]"
   ]
  },
  {
   "cell_type": "code",
   "execution_count": null,
   "metadata": {},
   "outputs": [],
   "source": []
  }
 ],
 "metadata": {
  "kernelspec": {
   "display_name": "kreisgrabenanlage",
   "language": "python",
   "name": "kreisgrabenanlage"
  },
  "language_info": {
   "codemirror_mode": {
    "name": "ipython",
    "version": 3
   },
   "file_extension": ".py",
   "mimetype": "text/x-python",
   "name": "python",
   "nbconvert_exporter": "python",
   "pygments_lexer": "ipython3",
   "version": "3.6.6"
  }
 },
 "nbformat": 4,
 "nbformat_minor": 2
}
