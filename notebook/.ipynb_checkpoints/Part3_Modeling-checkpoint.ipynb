{
 "cells": [
  {
   "cell_type": "code",
   "execution_count": 1,
   "metadata": {},
   "outputs": [],
   "source": [
    "# monte carlo\n",
    "import pymc3 as pm\n",
    "# regression\n",
    "import lmfit\n",
    "# basic\n",
    "import math\n",
    "import random\n",
    "from collections import Counter\n",
    "import matplotlib.pyplot as plt\n",
    "import seaborn as sns"
   ]
  },
  {
   "cell_type": "code",
   "execution_count": 42,
   "metadata": {},
   "outputs": [],
   "source": [
    "%%capture\n",
    "%run Part1_DataPreparation.ipynb\n",
    "#%run Astronomy.ipynb\n",
    "%run CoordinateTransformation.ipynb\n",
    "#%run Part2_Modeling.ipynb"
   ]
  },
  {
   "cell_type": "code",
   "execution_count": 3,
   "metadata": {},
   "outputs": [],
   "source": [
    "#d=Digi2Pixel(\"images/GR_QLBII.jpg\", marker=quedlII)"
   ]
  },
  {
   "cell_type": "code",
   "execution_count": 4,
   "metadata": {},
   "outputs": [],
   "source": [
    "#x=list(d[0]['x [Pixel]'])\n",
    "#y=list(d[0]['y [Pixel]'])"
   ]
  },
  {
   "cell_type": "code",
   "execution_count": 5,
   "metadata": {},
   "outputs": [],
   "source": [
    "#maxi=len(y)\n",
    "#ind=random.randint(0,maxi)\n",
    "#y.pop(ind)\n",
    "#y;"
   ]
  },
  {
   "cell_type": "markdown",
   "metadata": {},
   "source": [
    "#### Define replace function "
   ]
  },
  {
   "cell_type": "code",
   "execution_count": 43,
   "metadata": {},
   "outputs": [],
   "source": [
    "def replace(tup, x, y):\n",
    "   tup_list = list(tup)\n",
    "   for element in tup_list:\n",
    "      if element == x:\n",
    "         tup_list[tup_list.index(element)] = y\n",
    "   new_tuple = tuple(tup_list)\n",
    "   return new_tuple"
   ]
  },
  {
   "cell_type": "code",
   "execution_count": 44,
   "metadata": {},
   "outputs": [],
   "source": [
    "def DumpJSON(filename, path):\n",
    "    with open(path, 'w') as outfile:\n",
    "        json.dump(filename, outfile)\n",
    "    return;"
   ]
  },
  {
   "cell_type": "markdown",
   "metadata": {},
   "source": [
    "# Linear regression"
   ]
  },
  {
   "cell_type": "code",
   "execution_count": 45,
   "metadata": {},
   "outputs": [],
   "source": [
    "def replace_all(text):\n",
    "    \n",
    "    d = { \",\": \"/\", \")(\":\",\", \"/ \":\"/\", \"(\":\"\" ,\")\":\"\"}\n",
    "    for i in d.items():\n",
    "        text = text.replace(i[0], i[1])\n",
    "    return text"
   ]
  },
  {
   "cell_type": "code",
   "execution_count": 57,
   "metadata": {},
   "outputs": [],
   "source": [
    "def ConvertCoordinates(digi=listobjs[0][0][\"marker\"]):\n",
    "    x=[]\n",
    "    y=[]\n",
    "\n",
    "    digi_coord=digi.split('mk=')\n",
    "    digi_coord=digi_coord[1].split(',')\n",
    "    for i in range(0, len(digi_coord)):\n",
    "        x.append((float(digi_coord[i].split('/')[0])))\n",
    "        y.append(1-((float(digi_coord[i].split('/')[1]))))\n",
    "    return x,y\n",
    "# FIT I\n",
    "def Regression(objects, objects1, mod=1, threshold=10, side=\"left\", sigm=0.2, startvalue=0.5):\n",
    "    azimuth=list()\n",
    "    digiliblist=list()\n",
    "    model = lmfit.models.LinearModel()\n",
    "    for element in list(objects[\"gates\"].keys()):\n",
    "      \n",
    "        try:\n",
    "            elements=objects[\"gates\"][element][\"elements\"].keys()\n",
    "            xmean=list()\n",
    "            ymean=list()\n",
    "            if mod==3 or mod==4:\n",
    "                for i in elements:\n",
    "                    c=nested_lookup(i, objects[\"gates\"][element][\"elements\"])\n",
    "                    #print(len(objects[\"gates\"][element][\"elements\"]))\n",
    "                    #for side in [\"left\", \"right\"]:\n",
    "                    xleft,yleft = ConvertCoordinates(digi=objects[\"digilib\"]+','.join(nested_lookup(\"left\", c)))\n",
    "                    xright,yright = ConvertCoordinates(digi=objects[\"digilib\"]+','.join(nested_lookup(\"right\", c)))\n",
    "                    xmean.append(np.mean([xleft, xright]))\n",
    "                    ymean.append(np.mean([yleft, yright]))\n",
    "\n",
    "\n",
    "\n",
    "            # METHOD 3 ------------\n",
    "            if mod==3:\n",
    "                x=xmean\n",
    "                y=ymean\n",
    "                mu, sigma = 1, sigm # mean and standard deviation\n",
    "                s = np.random.normal(mu, sigma, 2)\n",
    "                x.append(startvalue*s[0])\n",
    "                y.append(startvalue*s[1])\n",
    "                # required for regression procedure!\n",
    "                x.append(startvalue*s[0])\n",
    "                y.append(startvalue*s[1])\n",
    "            if mod==4:\n",
    "                x=xmean\n",
    "                y=ymean\n",
    "                mu, sigma = 1, sigm # mean and standard deviation\n",
    "                s = np.random.normal(mu, sigma, 2)\n",
    "                x.append(startvalue*s[0])\n",
    "                y.append(startvalue*s[1])\n",
    "                # required for regression procedure!\n",
    "                x.append(startvalue*s[0])\n",
    "                y.append(startvalue*s[1])\n",
    "                mu, sigma = 1, 0.01 # mean and standard deviation\n",
    "                for i in range(len(y)-1):\n",
    "                    s = np.random.normal(mu, sigma, 2)\n",
    "                    x=replace(x, x[i], x[i]*s[0])\n",
    "                    y=replace(y, y[i], y[i]*s[1])\n",
    "               \n",
    "\n",
    "            fit = model.fit(y,x=x)\n",
    "            d=fit.params[\"slope\"]\n",
    "            if abs(d.stderr/d.value)*100 < threshold:\n",
    "                # convert data to digilib\n",
    "                y = [1 - i for i in y]\n",
    "                f=list(zip(x, y))\n",
    "                f1=''.join(map(str,f))\n",
    "                final=objects[\"digilib\"]+replace_all(f1)\n",
    "                digiliblist.append(replace_all(f1))\n",
    "                # define azimuth\n",
    "                if objects[\"gates\"][element][\"sector\"]==1:\n",
    "                    azim=90-abs(math.degrees(math.atan(fit.values[\"slope\"])))\n",
    "                    azimuth.append({\"digilib\": final,\"azimuth\":round(azim,5), \"stderr[%]\": abs(d.stderr/d.value)*100,\"gate\":float(element), \"side\":side, \"#elements\":len(objects[\"gates\"][element][\"elements\"]), \"azimuth(michel)\":objects1[\"gate\"][\"Michel\"]})\n",
    "                if objects[\"gates\"][element][\"sector\"]==2:\n",
    "                    azim=90+abs(math.degrees(math.atan(fit.values[\"slope\"])))\n",
    "                    azimuth.append({\"digilib\": final,\"azimuth\":round(azim,5), \"stderr[%]\": abs(d.stderr/d.value)*100,\"gate\":float(element), \"side\":side, \"#elements\":len(objects[\"gates\"][element][\"elements\"]), \"azimuth(michel)\":objects1[\"gate\"][\"Michel\"]})\n",
    "                if objects[\"gates\"][element][\"sector\"]==3:\n",
    "                    azim=270-abs(math.degrees(math.atan(fit.values[\"slope\"])))\n",
    "                    azimuth.append({\"digilib\": final,\"azimuth\":round(azim,5), \"stderr[%]\": abs(d.stderr/d.value)*100,\"gate\":float(element), \"side\":side, \"#elements\":len(objects[\"gates\"][element][\"elements\"]), \"azimuth(michel)\":objects1[\"gate\"][\"Michel\"]})\n",
    "                if objects[\"gates\"][element][\"sector\"]==4:\n",
    "                    azim=270+abs(math.degrees(math.atan(fit.values[\"slope\"])))\n",
    "                    azimuth.append({\"digilib\": final,\"azimuth\":round(azim,5), \"stderr[%]\": abs(d.stderr/d.value)*100,\"gate\":float(element), \"side\":side, \"#elements\":len(objects[\"gates\"][element][\"elements\"]), \"azimuth(michel)\":objects1[\"gate\"][\"Michel\"]})\n",
    "\n",
    "        except:\n",
    "            pass\n",
    "    plt.show()\n",
    "    try:\n",
    "        azimuth={\"fitted_marker\": objects[\"digilib\"]+','.join(digiliblist) , \"object\":objects[\"object\"],\"latitude\": np.mean(nested_lookup(\"lat\", objects[\"referencepoints\"])),\"longitude\": np.mean(nested_lookup(\"long\", objects[\"referencepoints\"])),\"mean azimuth\": azimuth}\n",
    "    except:\n",
    "        pass\n",
    "        #azimuth={\"fitted_marker\": \"\" , \"object\":objects[\"object\"], \"latitude\": None,\"mean azimuth\": azimuth}\n",
    "    return azimuth"
   ]
  },
  {
   "cell_type": "code",
   "execution_count": 60,
   "metadata": {},
   "outputs": [],
   "source": [
    "f=Regression(listobjs[0][0], listobjs[0][2], mod=3, side=\"both\");"
   ]
  },
  {
   "cell_type": "code",
   "execution_count": 61,
   "metadata": {},
   "outputs": [],
   "source": [
    "def Modification(objects=\"\", objects1=\"\", iterat=400, mods=1, threshold=20, side=\"left\", sigma=0.2, startvalue=0.5):\n",
    "    listReg=list()\n",
    "    for i in range(iterat):\n",
    "        listReg.append(Regression(objects, objects1, mod=mods, threshold=threshold, side=side, sigm=sigma, startvalue=startvalue))\n",
    "    templist=list()\n",
    "    finallist={}\n",
    "    try:\n",
    "        for i in range(len(listReg)):\n",
    "            templist.append(listReg[i][\"mean azimuth\"])\n",
    "        finallist[\"object\"]=listReg[0][\"object\"]\n",
    "       \n",
    "        finallist[\"latitude\"]=listReg[0][\"latitude\"]\n",
    "        finallist[\"longitude\"]=listReg[0][\"longitude\"]\n",
    "        finallist[\"mean azimuth\"]=templist\n",
    "        finallist[\"fitted marker\"]=listReg[0][\"fitted_marker\"]\n",
    "        \n",
    "            \n",
    "    except:\n",
    "        pass\n",
    "    return finallist"
   ]
  },
  {
   "cell_type": "code",
   "execution_count": 62,
   "metadata": {},
   "outputs": [],
   "source": [
    "f=Modification(objects=listobjs[0][0], objects1=listobjs[0][2], iterat=20, mods=3, threshold=255, side=\"both\", sigma=10.2, startvalue=10.5)\n",
    "f"
   ]
  },
  {
   "cell_type": "markdown",
   "metadata": {},
   "source": [
    "### Create data list for \"Modeling_Part4\""
   ]
  },
  {
   "cell_type": "code",
   "execution_count": 64,
   "metadata": {},
   "outputs": [],
   "source": [
    "def Run(mod=3, iteration=10, threshold=10, side=\"left\"):\n",
    "    datalist=list()\n",
    "    for element in listobjs:\n",
    "        datalist.append(Modification(objects=element[0], objects1=element[2], iterat=iteration, mods=mod, threshold=threshold, side=side))\n",
    "    return datalist"
   ]
  },
  {
   "cell_type": "code",
   "execution_count": null,
   "metadata": {},
   "outputs": [],
   "source": [
    "#%%capture\n",
    "#e=Run(mod=1, iteration=2, threshold=10)\n",
    "#e"
   ]
  },
  {
   "cell_type": "code",
   "execution_count": null,
   "metadata": {},
   "outputs": [],
   "source": [
    "#datalist"
   ]
  },
  {
   "cell_type": "code",
   "execution_count": null,
   "metadata": {},
   "outputs": [],
   "source": [
    "#azimuth_values[\"4.0\"]"
   ]
  },
  {
   "cell_type": "code",
   "execution_count": null,
   "metadata": {},
   "outputs": [],
   "source": [
    "#plt.figure(figsize=(16,12))\n",
    "#plt.hist(azimuth_values[\"1.0\"], bins=12)\n",
    "#plt.hist(azimuth_values[\"2.0\"], bins=12)\n",
    "#plt.hist(azimuth_values[\"3.0\"], bins=12)\n",
    "#plt.hist(azimuth_values[\"4.0\"], bins=12)\n",
    "#plt.hist(azimuth_values[\"5.0\"], bins=12)"
   ]
  },
  {
   "cell_type": "code",
   "execution_count": null,
   "metadata": {},
   "outputs": [],
   "source": [
    "#df_data=pd.DataFrame(datalist)\n",
    "#df_data.head()"
   ]
  },
  {
   "cell_type": "code",
   "execution_count": null,
   "metadata": {},
   "outputs": [],
   "source": [
    "#plt.figure(figsize=(18,10))\n",
    "#plt.title('distributions of orientations in azimuth at horizon for side: left')\n",
    "#g=sns.swarmplot(x=\"site\", y=\"mean azimuth\",data=df_data)\n",
    "#plt.xticks(rotation=90);"
   ]
  },
  {
   "cell_type": "code",
   "execution_count": null,
   "metadata": {},
   "outputs": [],
   "source": [
    "#def az2dec(phi,A):\n",
    " #   rad_phi=radians(phi)\n",
    " #   rad_A=radians(A)\n",
    "#    a=degrees(asin(cos(rad_phi)*cos(rad_A))) # for alt=0\n",
    "#    return(round(a,5))\n",
    "#def hor_to_equ1(x):\n",
    "#    return(az2dec(x[1],x[2]))"
   ]
  },
  {
   "cell_type": "code",
   "execution_count": null,
   "metadata": {},
   "outputs": [],
   "source": [
    "#df_data[\"delta\"]=df_data.apply(hor_to_equ1,axis=1)\n",
    "#df_data.head()"
   ]
  },
  {
   "cell_type": "code",
   "execution_count": null,
   "metadata": {},
   "outputs": [],
   "source": [
    "#plt.figure(figsize=(18,10))\n",
    "#plt.title('distributions of orientations in declination at horizon for side: left')\n",
    "#g=sns.swarmplot(x=\"site\", y=\"delta\",data=df_data)\n",
    "#plt.xticks(rotation=90);"
   ]
  },
  {
   "cell_type": "code",
   "execution_count": null,
   "metadata": {},
   "outputs": [],
   "source": [
    "#listobjs[0]"
   ]
  },
  {
   "cell_type": "code",
   "execution_count": null,
   "metadata": {},
   "outputs": [],
   "source": [
    "              \n",
    "            \n",
    "            #for side in [\"left\", \"right\"]:\n",
    "            #if side in [\"left\", \"right\"]:\n",
    "            #    # METHOD 1 ------------\n",
    "            #    if mod==1:\n",
    "            #        x,y = ConvertCoordinates(digi=objects[\"digilib\"]+','.join(nested_lookup(side, objects[\"gates\"][element][\"elements\"])))\n",
    "            #         maxi=len(y)\n",
    "            #        ind=random.randint(0,maxi) # select index coincidentally\n",
    "            #        sign=[-1,1][random.randrange(2)] # select sign coincidentally\n",
    "            #        x=replace(x, x[ind], x[ind]+0.1*x[ind]*sign)\n",
    "            #        y=replace(y, y[ind], y[ind]+0.1*y[ind]*sign)\n",
    "                  \n",
    "                # METHOD 2 ------------\n",
    "            #    if mod==2:\n",
    "            #        x,y = ConvertCoordinates(digi=objects[\"digilib\"]+','.join(nested_lookup(side, objects[\"gates\"][element][\"elements\"])))\n",
    "            #        ind=random.randint(1,100)\n",
    "            #        sign=[-1,1][random.randrange(2)] # select sign coincidentally\n",
    "            #       x.append(0.5+0.15/ind*sign)\n",
    "            #       y.append(0.5+0.15/ind*sign)\n",
    "            #        x.append(0.5+0.15/ind*sign)\n",
    "            #        y.append(0.5+0.15/ind*sign)\n",
    "                    "
   ]
  }
 ],
 "metadata": {
  "kernelspec": {
   "display_name": "kreisgrabenanlage",
   "language": "python",
   "name": "kreisgrabenanlage"
  },
  "language_info": {
   "codemirror_mode": {
    "name": "ipython",
    "version": 3
   },
   "file_extension": ".py",
   "mimetype": "text/x-python",
   "name": "python",
   "nbconvert_exporter": "python",
   "pygments_lexer": "ipython3",
   "version": "3.6.6"
  }
 },
 "nbformat": 4,
 "nbformat_minor": 2
}
