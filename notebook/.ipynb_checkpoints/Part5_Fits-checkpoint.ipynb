{
 "cells": [
  {
   "cell_type": "code",
   "execution_count": 32,
   "metadata": {},
   "outputs": [],
   "source": [
    "import pandas as pd\n",
    "import matplotlib.pyplot as plt\n",
    "from pylab import *\n",
    "from scipy.optimize import curve_fit\n",
    "from scipy import stats\n",
    "import scipy.cluster.hierarchy as sch\n",
    "from scipy.stats import norm\n",
    "from nested_lookup import nested_lookup\n",
    "import json \n",
    "from citableclass import Citable\n",
    "import warnings"
   ]
  },
  {
   "cell_type": "code",
   "execution_count": 33,
   "metadata": {},
   "outputs": [],
   "source": [
    "def front(self, n):\n",
    "    return self.iloc[:, :n]\n",
    "pd.DataFrame.front = front\n",
    "def back(self, n):\n",
    "    return self.iloc[:, -n:]\n",
    "pd.DataFrame.back = back"
   ]
  },
  {
   "cell_type": "markdown",
   "metadata": {},
   "source": [
    "## Current dataset "
   ]
  },
  {
   "cell_type": "code",
   "execution_count": 21,
   "metadata": {},
   "outputs": [],
   "source": [
    "%%capture\n",
    "%run Part4_Modeling.ipynb\n",
    "#declination = Run(iterationsteps=200, threshold=157, bins=12, mods=3, sigma=0.2, startvalue=0.5);\n",
    "#with open('current_data.json', 'w') as outfile:\n",
    "#    json.dump(declination, outfile)"
   ]
  },
  {
   "cell_type": "code",
   "execution_count": 34,
   "metadata": {},
   "outputs": [],
   "source": [
    "%%capture\n",
    "declination = Run(iterationsteps=550, threshold=55, bins=12, mods=3, sigma=0.2, startvalue=0.5);\n",
    "#with open('current_data.json', 'w') as outfile:\n",
    "#    json.dump(declination, outfile)"
   ]
  },
  {
   "cell_type": "code",
   "execution_count": 5,
   "metadata": {},
   "outputs": [],
   "source": [
    "#with open('current_data.json') as f:\n",
    "#    declinationjson = json.load(f)"
   ]
  },
  {
   "cell_type": "code",
   "execution_count": 35,
   "metadata": {},
   "outputs": [],
   "source": [
    "def FirstFit(data=\"\"):\n",
    "    data=data\n",
    "    print(data)\n",
    "#    #data = [item for sublist in l for item in sublist]\n",
    "    if len(data)>0:\n",
    "        bins=20\n",
    "        # best fit of data\n",
    "        (mu, sigma) = norm.fit(data)\n",
    "        # the histogram of the data\n",
    "        n, bins, patches = plt.hist(data,  bins=bins, normed=1, facecolor='green', alpha=0.75)\n",
    "        # add a 'best fit' line\n",
    "        y = mlab.normpdf(bins, mu, sigma)\n",
    "        #l = plt.plot(bins, y, 'r--', linewidth=2)\n",
    "        #plot\n",
    "        return bins, y, mu, sigma"
   ]
  },
  {
   "cell_type": "code",
   "execution_count": 36,
   "metadata": {},
   "outputs": [],
   "source": [
    "%%capture\n",
    "distributions=pd.DataFrame.from_dict(declination)\n",
    "flatlist=list()\n",
    "for objects in list(distributions.keys()):\n",
    "    \n",
    "    for element in [\"1.0\", \"2.0\", \"3.0\", \"4.0\", \"5.0\", \"6.0\", \"7.0\", \"8.0\", \"9.0\", \"10.0\"]:\n",
    "        try:\n",
    "            if len(distributions[objects][\"azimuth\"][element])>0:\n",
    "                \n",
    "                azimuth=[i[0] for i in distributions[objects][\"azimuth\"][element]]\n",
    "                declinations= [i[0] for i in distributions[objects][\"declination\"][element]]\n",
    "                azimuth_mean=np.mean(azimuth)\n",
    "                declination_mean=np.mean(declinations)\n",
    "                latitude=distributions[objects][\"latitude\"]\n",
    "                longitude=distributions[objects][\"longitude\"]\n",
    "                binsdec, ydec, mudec, sigmadec = FirstFit(declinations)\n",
    "                binsazi, yazi, muazi, sigmaazi = FirstFit(azimuth)\n",
    "                number_elements = distributions[objects][\"declination\"][element][0][1]\n",
    "                azimuth_michel = distributions[objects][\"declination\"][element][0][2]\n",
    "                flatlist.append((element, objects, latitude, longitude, azimuth, yazi, binsazi, muazi, sigmaazi, declinations, ydec, binsdec, mudec, sigmadec, number_elements, azimuth_michel))\n",
    "        except:\n",
    "            pass\n",
    "df=pd.DataFrame(flatlist)\n",
    "df=df.rename(columns={0:'gate', 1: 'object', 2: \"latitude\", 3:'longitude', 4:'azimuth', 5: \"prob (az)\",  6: \"bins (az)\", 7: \"mean azimuth\", 8: \"sigma azimuth\", 9:'declination', 10: \"prob (dec)\", 11: \"bins (dec)\", 12: \"mean declination\",13: \"sigma declination\", 14: \"number elements\", 15:\"azimuth(michel)\"})\n",
    "#df.head()"
   ]
  },
  {
   "cell_type": "code",
   "execution_count": 24,
   "metadata": {},
   "outputs": [],
   "source": [
    "#distributions[\"QuedlinburgI\"]"
   ]
  },
  {
   "cell_type": "code",
   "execution_count": 37,
   "metadata": {},
   "outputs": [
    {
     "data": {
      "text/html": [
       "<div>\n",
       "<style scoped>\n",
       "    .dataframe tbody tr th:only-of-type {\n",
       "        vertical-align: middle;\n",
       "    }\n",
       "\n",
       "    .dataframe tbody tr th {\n",
       "        vertical-align: top;\n",
       "    }\n",
       "\n",
       "    .dataframe thead th {\n",
       "        text-align: right;\n",
       "    }\n",
       "</style>\n",
       "<table border=\"1\" class=\"dataframe\">\n",
       "  <thead>\n",
       "    <tr style=\"text-align: right;\">\n",
       "      <th></th>\n",
       "      <th>gate</th>\n",
       "      <th>object</th>\n",
       "      <th>latitude</th>\n",
       "      <th>longitude</th>\n",
       "      <th>azimuth</th>\n",
       "      <th>prob (az)</th>\n",
       "      <th>bins (az)</th>\n",
       "      <th>mean azimuth</th>\n",
       "      <th>sigma azimuth</th>\n",
       "      <th>declination</th>\n",
       "      <th>prob (dec)</th>\n",
       "      <th>bins (dec)</th>\n",
       "      <th>mean declination</th>\n",
       "      <th>sigma declination</th>\n",
       "      <th>number elements</th>\n",
       "      <th>azimuth(michel)</th>\n",
       "    </tr>\n",
       "  </thead>\n",
       "  <tbody>\n",
       "    <tr>\n",
       "      <th>0</th>\n",
       "      <td>1.0</td>\n",
       "      <td>QuedlinburgI</td>\n",
       "      <td>51.813308</td>\n",
       "      <td>11.178354</td>\n",
       "      <td>[330.0737, 315.47189, 324.98327, 331.34081, 32...</td>\n",
       "      <td>[0.0006139203391661239, 0.0011889488250392904,...</td>\n",
       "      <td>[288.72932, 291.27250499999997, 293.8156899999...</td>\n",
       "      <td>319.090246</td>\n",
       "      <td>10.579579</td>\n",
       "      <td>[32.39794, 26.15093, 30.41884, 32.85302, 29.95...</td>\n",
       "      <td>[0.00046920449252568124, 0.0009831401130030691...</td>\n",
       "      <td>[11.44989, 12.6479035, 13.845917, 15.043930499...</td>\n",
       "      <td>27.466094</td>\n",
       "      <td>4.996915</td>\n",
       "      <td>5</td>\n",
       "      <td>[[134, 136], [21, 23], [214, 217], [312, 313]]</td>\n",
       "    </tr>\n",
       "    <tr>\n",
       "      <th>1</th>\n",
       "      <td>2.0</td>\n",
       "      <td>QuedlinburgI</td>\n",
       "      <td>51.813308</td>\n",
       "      <td>11.178354</td>\n",
       "      <td>[338.80694, 351.6713, 357.19346, 358.21324, 33...</td>\n",
       "      <td>[5.147966062144608e-07, 2.1168978045825936e-06...</td>\n",
       "      <td>[309.46452, 311.990956, 314.517392, 317.043828...</td>\n",
       "      <td>349.067301</td>\n",
       "      <td>8.276810</td>\n",
       "      <td>[35.1987, 37.71293, 38.13266, 38.16478, 32.801...</td>\n",
       "      <td>[4.323376171997256e-16, 1.5811124180992993e-14...</td>\n",
       "      <td>[23.13784, 23.8902825, 24.642725, 25.3951675, ...</td>\n",
       "      <td>36.942658</td>\n",
       "      <td>1.675503</td>\n",
       "      <td>1</td>\n",
       "      <td>[[134, 136], [21, 23], [214, 217], [312, 313]]</td>\n",
       "    </tr>\n",
       "    <tr>\n",
       "      <th>2</th>\n",
       "      <td>3.0</td>\n",
       "      <td>QuedlinburgI</td>\n",
       "      <td>51.813308</td>\n",
       "      <td>11.178354</td>\n",
       "      <td>[32.10405, 38.99056, 39.54892, 18.9073, 39.515...</td>\n",
       "      <td>[0.0029551077408366227, 0.005017051546686616, ...</td>\n",
       "      <td>[6.71438, 9.859362, 13.004344, 16.149326000000...</td>\n",
       "      <td>33.557735</td>\n",
       "      <td>12.253642</td>\n",
       "      <td>[31.58006, 28.7191, 28.47025, 35.79373, 28.485...</td>\n",
       "      <td>[0.00011280739583580588, 0.0002773957351650861...</td>\n",
       "      <td>[12.43632, 13.7084165, 14.980513, 16.2526095, ...</td>\n",
       "      <td>30.361982</td>\n",
       "      <td>4.944115</td>\n",
       "      <td>2</td>\n",
       "      <td>[[134, 136], [21, 23], [214, 217], [312, 313]]</td>\n",
       "    </tr>\n",
       "    <tr>\n",
       "      <th>3</th>\n",
       "      <td>5.0</td>\n",
       "      <td>QuedlinburgI</td>\n",
       "      <td>51.813308</td>\n",
       "      <td>11.178354</td>\n",
       "      <td>[191.83126, 249.08304, 233.07714, 192.28796, 2...</td>\n",
       "      <td>[0.004605081805550003, 0.007324304636198494, 0...</td>\n",
       "      <td>[180.15635, 184.4572445, 188.758139, 193.05903...</td>\n",
       "      <td>209.343037</td>\n",
       "      <td>15.829816</td>\n",
       "      <td>[-37.23547, -12.75107, -21.80152, -37.16141, -...</td>\n",
       "      <td>[0.035072286665202464, 0.04757174355168819, 0....</td>\n",
       "      <td>[-38.18652, -36.395399000000005, -34.604278, -...</td>\n",
       "      <td>-31.435745</td>\n",
       "      <td>5.865522</td>\n",
       "      <td>1</td>\n",
       "      <td>[[134, 136], [21, 23], [214, 217], [312, 313]]</td>\n",
       "    </tr>\n",
       "    <tr>\n",
       "      <th>4</th>\n",
       "      <td>6.0</td>\n",
       "      <td>QuedlinburgI</td>\n",
       "      <td>51.813308</td>\n",
       "      <td>11.178354</td>\n",
       "      <td>[278.90264, 326.36338, 280.41582, 299.95191, 2...</td>\n",
       "      <td>[0.014639293121970586, 0.01962312354508429, 0....</td>\n",
       "      <td>[270.03975, 272.8559315, 275.672113, 278.48829...</td>\n",
       "      <td>285.127550</td>\n",
       "      <td>11.466619</td>\n",
       "      <td>[5.49012, 30.97839, 6.41733, 17.9787, 11.6949,...</td>\n",
       "      <td>[0.023621300688798093, 0.031507530407419826, 0...</td>\n",
       "      <td>[0.02457, 1.572261, 3.119952, 4.66764299999999...</td>\n",
       "      <td>9.129168</td>\n",
       "      <td>6.690051</td>\n",
       "      <td>1</td>\n",
       "      <td>[[134, 136], [21, 23], [214, 217], [312, 313]]</td>\n",
       "    </tr>\n",
       "  </tbody>\n",
       "</table>\n",
       "</div>"
      ],
      "text/plain": [
       "  gate        object   latitude  longitude  \\\n",
       "0  1.0  QuedlinburgI  51.813308  11.178354   \n",
       "1  2.0  QuedlinburgI  51.813308  11.178354   \n",
       "2  3.0  QuedlinburgI  51.813308  11.178354   \n",
       "3  5.0  QuedlinburgI  51.813308  11.178354   \n",
       "4  6.0  QuedlinburgI  51.813308  11.178354   \n",
       "\n",
       "                                             azimuth  \\\n",
       "0  [330.0737, 315.47189, 324.98327, 331.34081, 32...   \n",
       "1  [338.80694, 351.6713, 357.19346, 358.21324, 33...   \n",
       "2  [32.10405, 38.99056, 39.54892, 18.9073, 39.515...   \n",
       "3  [191.83126, 249.08304, 233.07714, 192.28796, 2...   \n",
       "4  [278.90264, 326.36338, 280.41582, 299.95191, 2...   \n",
       "\n",
       "                                           prob (az)  \\\n",
       "0  [0.0006139203391661239, 0.0011889488250392904,...   \n",
       "1  [5.147966062144608e-07, 2.1168978045825936e-06...   \n",
       "2  [0.0029551077408366227, 0.005017051546686616, ...   \n",
       "3  [0.004605081805550003, 0.007324304636198494, 0...   \n",
       "4  [0.014639293121970586, 0.01962312354508429, 0....   \n",
       "\n",
       "                                           bins (az)  mean azimuth  \\\n",
       "0  [288.72932, 291.27250499999997, 293.8156899999...    319.090246   \n",
       "1  [309.46452, 311.990956, 314.517392, 317.043828...    349.067301   \n",
       "2  [6.71438, 9.859362, 13.004344, 16.149326000000...     33.557735   \n",
       "3  [180.15635, 184.4572445, 188.758139, 193.05903...    209.343037   \n",
       "4  [270.03975, 272.8559315, 275.672113, 278.48829...    285.127550   \n",
       "\n",
       "   sigma azimuth                                        declination  \\\n",
       "0      10.579579  [32.39794, 26.15093, 30.41884, 32.85302, 29.95...   \n",
       "1       8.276810  [35.1987, 37.71293, 38.13266, 38.16478, 32.801...   \n",
       "2      12.253642  [31.58006, 28.7191, 28.47025, 35.79373, 28.485...   \n",
       "3      15.829816  [-37.23547, -12.75107, -21.80152, -37.16141, -...   \n",
       "4      11.466619  [5.49012, 30.97839, 6.41733, 17.9787, 11.6949,...   \n",
       "\n",
       "                                          prob (dec)  \\\n",
       "0  [0.00046920449252568124, 0.0009831401130030691...   \n",
       "1  [4.323376171997256e-16, 1.5811124180992993e-14...   \n",
       "2  [0.00011280739583580588, 0.0002773957351650861...   \n",
       "3  [0.035072286665202464, 0.04757174355168819, 0....   \n",
       "4  [0.023621300688798093, 0.031507530407419826, 0...   \n",
       "\n",
       "                                          bins (dec)  mean declination  \\\n",
       "0  [11.44989, 12.6479035, 13.845917, 15.043930499...         27.466094   \n",
       "1  [23.13784, 23.8902825, 24.642725, 25.3951675, ...         36.942658   \n",
       "2  [12.43632, 13.7084165, 14.980513, 16.2526095, ...         30.361982   \n",
       "3  [-38.18652, -36.395399000000005, -34.604278, -...        -31.435745   \n",
       "4  [0.02457, 1.572261, 3.119952, 4.66764299999999...          9.129168   \n",
       "\n",
       "   sigma declination  number elements  \\\n",
       "0           4.996915                5   \n",
       "1           1.675503                1   \n",
       "2           4.944115                2   \n",
       "3           5.865522                1   \n",
       "4           6.690051                1   \n",
       "\n",
       "                                  azimuth(michel)  \n",
       "0  [[134, 136], [21, 23], [214, 217], [312, 313]]  \n",
       "1  [[134, 136], [21, 23], [214, 217], [312, 313]]  \n",
       "2  [[134, 136], [21, 23], [214, 217], [312, 313]]  \n",
       "3  [[134, 136], [21, 23], [214, 217], [312, 313]]  \n",
       "4  [[134, 136], [21, 23], [214, 217], [312, 313]]  "
      ]
     },
     "execution_count": 37,
     "metadata": {},
     "output_type": "execute_result"
    }
   ],
   "source": [
    "df.head()"
   ]
  },
  {
   "cell_type": "code",
   "execution_count": 38,
   "metadata": {},
   "outputs": [
    {
     "name": "stdout",
     "output_type": "stream",
     "text": [
      "Please add metadata:\n",
      "Wrote metadata file /home/gordon.fischer/ResearchCloud/Projects/kreisgrabenanlage/data/values_n550_th55_metadata.json\n",
      "Please add documentation:\n",
      "Wrote documentation file /home/gordon.fischer/ResearchCloud/Projects/kreisgrabenanlage/data/values_n550_th55_documentation.json\n"
     ]
    }
   ],
   "source": [
    "citen = Citable(\"values_n550_th55_sig0.2_start0.5.json\", formats=\"local\", project=\"kreisgrabenanlage\")\n",
    "citen.write(df)"
   ]
  },
  {
   "cell_type": "markdown",
   "metadata": {},
   "source": [
    "## Create flat dataframe"
   ]
  },
  {
   "cell_type": "code",
   "execution_count": null,
   "metadata": {},
   "outputs": [],
   "source": [
    "citenew = Citable(\"Azimuth.json\", formats=\"local\")\n",
    "citenew1= Citable(\"AllParameter.json\", formats=\"local\")"
   ]
  },
  {
   "cell_type": "code",
   "execution_count": null,
   "metadata": {},
   "outputs": [],
   "source": [
    "citenew.write(df.front(8))"
   ]
  },
  {
   "cell_type": "code",
   "execution_count": null,
   "metadata": {},
   "outputs": [],
   "source": [
    "citenew1.write(df)"
   ]
  },
  {
   "cell_type": "code",
   "execution_count": null,
   "metadata": {},
   "outputs": [],
   "source": [
    "citenew.documentation()"
   ]
  },
  {
   "cell_type": "code",
   "execution_count": null,
   "metadata": {},
   "outputs": [],
   "source": [
    "df=citenew.digitalresource()"
   ]
  },
  {
   "cell_type": "markdown",
   "metadata": {},
   "source": [
    "## Fit procedure"
   ]
  },
  {
   "cell_type": "markdown",
   "metadata": {},
   "source": [
    "### Plot prob-values for azimuth"
   ]
  },
  {
   "cell_type": "code",
   "execution_count": null,
   "metadata": {},
   "outputs": [],
   "source": [
    "plt.figure(figsize=(17,10))\n",
    "overall=list()\n",
    "overall_azi=list()\n",
    "overall_bins=list()\n",
    "for element in range(len(df['prob (az)'])):\n",
    "    overall.append((df[\"bins (az)\"][element],df['prob (az)'][element] ))\n",
    "    overall_azi.append(list(df['prob (az)'][element]))\n",
    "    overall_bins.append(list(df[\"bins (az)\"][element]))\n",
    "    plt.title(\"uncorrected probability for azimuth\", fontsize=15)\n",
    "    plt.xlabel(\"azimuth [°]\", fontsize=15)\n",
    "    plt.ylabel(\"prob\", fontsize=15)\n",
    "    plt.plot(df[\"bins (az)\"][element], df['prob (az)'][element])\n",
    "    plt.hist(df[\"bins (az)\"][element], color=\"green\", weights=df['prob (az)'][element], bins=5, stacked=True)"
   ]
  },
  {
   "cell_type": "markdown",
   "metadata": {},
   "source": [
    "### Plot prob-values for declination"
   ]
  },
  {
   "cell_type": "code",
   "execution_count": null,
   "metadata": {},
   "outputs": [],
   "source": [
    "#df = citenew1.digitalresource()\n",
    "#plt.figure(figsize=(17,10))\n",
    "#overall=list()\n",
    "#overall_dec=list()\n",
    "#overall_bins=list()\n",
    "#for element in range(len(df['prob (dec)'])):\n",
    "#    overall.append((df[\"bins (dec)\"][element],df['prob (dec)'][element] ))\n",
    "#    overall_dec.append(list(df['prob (dec)'][element]))\n",
    "#    overall_bins.append(list(df[\"bins (dec)\"][element]))\n",
    "#    plt.title(\"uncorrected probability for declination\", fontsize=15)\n",
    "#    plt.xlabel(\"declination [°]\", fontsize=15)\n",
    "#    plt.ylabel(\"prob\", fontsize=15)\n",
    "#    plt.plot(df[\"bins (dec)\"][element], df['prob (dec)'][element])\n",
    "#    plt.hist(df[\"bins (dec)\"][element], color=\"green\", weights=df['prob (dec)'][element], bins=5, stacked=True)"
   ]
  },
  {
   "cell_type": "code",
   "execution_count": null,
   "metadata": {},
   "outputs": [],
   "source": [
    "def Fit( minimum=31, maximum=39, bins=20, weighted=False):\n",
    "    selected=df.loc[(df['mean declination'] > minimum) & (df['mean declination'] <maximum)]\n",
    "    if weighted==True:\n",
    "        data=list(selected[\"mean declination\"])\n",
    "    else:\n",
    "        l=list(selected[\"declination\"])\n",
    "        data = [item for sublist in l for item in sublist]\n",
    "    if len(data)>0:\n",
    "        plt.figure(figsize=(12,10))\n",
    "        # best fit of data\n",
    "        (mu, sigma) = norm.fit(data)\n",
    "        # the histogram of the data\n",
    "        n, bins, patches = plt.hist(data,  bins=bins, normed=1, facecolor='green', alpha=0.75)\n",
    "        # add a 'best fit' line\n",
    "        y = mlab.normpdf(bins, mu, sigma)\n",
    "        #l = plt.plot(bins, y, 'r--', linewidth=2)\n",
    "        #plot\n",
    "        plt.xlabel(\"declination [°]\")\n",
    "        plt.ylabel(\"prob\")\n",
    "        #plt.title('declination=%.3f°, $\\sigma=%.3f$' %(mu,sigma))\n",
    "        plt.show()\n",
    "#Fit(minimum=20, maximum=40, bins=6, weighted=True)"
   ]
  },
  {
   "cell_type": "code",
   "execution_count": 9,
   "metadata": {},
   "outputs": [],
   "source": [
    "c1=Citable(\"values_n200_th10_sig0.2_start0.5.json\", formats=\"local\", project=\"kreisgrabenanlage\")\n",
    "df=c1.digitalresource()\n",
    "c2=Citable(\"~/ResearchCloud/Projects/kreisgrabenanlage/data/test.json\", formats=\"local\", project=\"kreisgrabenanlage\")"
   ]
  },
  {
   "cell_type": "code",
   "execution_count": 11,
   "metadata": {},
   "outputs": [],
   "source": [
    "#c2.write(df)"
   ]
  },
  {
   "cell_type": "code",
   "execution_count": null,
   "metadata": {},
   "outputs": [],
   "source": []
  }
 ],
 "metadata": {
  "kernelspec": {
   "display_name": "kreisgrabenanlage",
   "language": "python",
   "name": "kreisgrabenanlage"
  },
  "language_info": {
   "codemirror_mode": {
    "name": "ipython",
    "version": 3
   },
   "file_extension": ".py",
   "mimetype": "text/x-python",
   "name": "python",
   "nbconvert_exporter": "python",
   "pygments_lexer": "ipython3",
   "version": "3.6.6"
  }
 },
 "nbformat": 4,
 "nbformat_minor": 2
}
