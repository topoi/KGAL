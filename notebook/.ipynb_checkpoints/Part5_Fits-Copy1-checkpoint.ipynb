{
 "cells": [
  {
   "cell_type": "code",
   "execution_count": 1,
   "metadata": {},
   "outputs": [],
   "source": [
    "import pandas as pd\n",
    "import matplotlib.pyplot as plt\n",
    "from pylab import *\n",
    "from scipy.optimize import curve_fit\n",
    "from scipy import stats\n",
    "import scipy.cluster.hierarchy as sch\n",
    "from scipy.stats import norm\n",
    "from nested_lookup import nested_lookup"
   ]
  },
  {
   "cell_type": "code",
   "execution_count": 2,
   "metadata": {},
   "outputs": [],
   "source": [
    "%%capture\n",
    "%run Part4_Modeling.ipynb"
   ]
  },
  {
   "cell_type": "code",
   "execution_count": 3,
   "metadata": {},
   "outputs": [],
   "source": [
    "%%capture\n",
    "declination = Run(iterationsteps=500, threshold=10, bins=12, mods=3);"
   ]
  },
  {
   "cell_type": "code",
   "execution_count": 4,
   "metadata": {},
   "outputs": [],
   "source": [
    "distributions=pd.DataFrame.from_dict(declination)\n",
    "#distributions"
   ]
  },
  {
   "cell_type": "markdown",
   "metadata": {},
   "source": [
    "## Create flat dataframe"
   ]
  },
  {
   "cell_type": "code",
   "execution_count": 5,
   "metadata": {},
   "outputs": [],
   "source": [
    "flatlist=list()\n",
    "for objects in list(distributions.keys()):\n",
    "    for element in [\"1.0\", \"2.0\", \"3.0\", \"4.0\", \"5.0\", \"6.0\", \"7.0\", \"8.0\", \"9.0\", \"10.0\"]:\n",
    "        try:\n",
    "            if len(distributions[objects][\"azimuth\"][element])>0:\n",
    "                azimuth=distributions[objects][\"azimuth\"][element]\n",
    "                declination= distributions[objects][\"declination\"][element]\n",
    "                azimuth_mean=np.mean(azimuth)\n",
    "                declination_mean=np.mean(declination)\n",
    "                latitude=distributions[objects][\"latitude\"]\n",
    "                flatlist.append((objects, latitude, element, azimuth, azimuth_mean, declination, declination_mean))\n",
    "        except:\n",
    "            pass"
   ]
  },
  {
   "cell_type": "code",
   "execution_count": 6,
   "metadata": {},
   "outputs": [
    {
     "data": {
      "text/html": [
       "<div>\n",
       "<style scoped>\n",
       "    .dataframe tbody tr th:only-of-type {\n",
       "        vertical-align: middle;\n",
       "    }\n",
       "\n",
       "    .dataframe tbody tr th {\n",
       "        vertical-align: top;\n",
       "    }\n",
       "\n",
       "    .dataframe thead th {\n",
       "        text-align: right;\n",
       "    }\n",
       "</style>\n",
       "<table border=\"1\" class=\"dataframe\">\n",
       "  <thead>\n",
       "    <tr style=\"text-align: right;\">\n",
       "      <th></th>\n",
       "      <th>object</th>\n",
       "      <th>latitude</th>\n",
       "      <th>gate</th>\n",
       "      <th>azimuth</th>\n",
       "      <th>mean azimuth</th>\n",
       "      <th>declination</th>\n",
       "      <th>mean declination</th>\n",
       "    </tr>\n",
       "  </thead>\n",
       "  <tbody>\n",
       "    <tr>\n",
       "      <th>0</th>\n",
       "      <td>QuedlinburgI</td>\n",
       "      <td>51.813308</td>\n",
       "      <td>1.0</td>\n",
       "      <td>[325.67878, 308.42582, 328.63344, 324.376, 325...</td>\n",
       "      <td>320.127715</td>\n",
       "      <td>[30.70289, 22.59582, 31.86199, 30.16747, 30.50...</td>\n",
       "      <td>28.213226</td>\n",
       "    </tr>\n",
       "    <tr>\n",
       "      <th>1</th>\n",
       "      <td>QuedlinburgI</td>\n",
       "      <td>51.813308</td>\n",
       "      <td>2.0</td>\n",
       "      <td>[353.9823, 344.77201, 349.72716, 348.1463, 348...</td>\n",
       "      <td>348.505476</td>\n",
       "      <td>[37.93878, 36.62099, 37.4678, 37.23189, 37.359...</td>\n",
       "      <td>36.836138</td>\n",
       "    </tr>\n",
       "    <tr>\n",
       "      <th>2</th>\n",
       "      <td>QuedlinburgI</td>\n",
       "      <td>51.813308</td>\n",
       "      <td>3.0</td>\n",
       "      <td>[29.00165, 20.1596, 31.63067, 38.80791, 39.417...</td>\n",
       "      <td>28.908693</td>\n",
       "      <td>[32.73157, 35.47524, 31.7616, 28.79998, 28.529...</td>\n",
       "      <td>32.500224</td>\n",
       "    </tr>\n",
       "    <tr>\n",
       "      <th>3</th>\n",
       "      <td>QuedlinburgI</td>\n",
       "      <td>51.813308</td>\n",
       "      <td>5.0</td>\n",
       "      <td>[210.81737, 200.26974, 198.60793, 183.482, 186...</td>\n",
       "      <td>208.516991</td>\n",
       "      <td>[-32.06867, -35.44635, -35.86714, -38.10354, -...</td>\n",
       "      <td>-31.533463</td>\n",
       "    </tr>\n",
       "    <tr>\n",
       "      <th>4</th>\n",
       "      <td>QuedlinburgI</td>\n",
       "      <td>51.813308</td>\n",
       "      <td>6.0</td>\n",
       "      <td>[280.02042, 283.82742, 290.25647, 272.7291, 28...</td>\n",
       "      <td>284.875040</td>\n",
       "      <td>[6.1753, 8.49684, 12.35945, 1.68681, 11.92701,...</td>\n",
       "      <td>8.977625</td>\n",
       "    </tr>\n",
       "  </tbody>\n",
       "</table>\n",
       "</div>"
      ],
      "text/plain": [
       "         object   latitude gate  \\\n",
       "0  QuedlinburgI  51.813308  1.0   \n",
       "1  QuedlinburgI  51.813308  2.0   \n",
       "2  QuedlinburgI  51.813308  3.0   \n",
       "3  QuedlinburgI  51.813308  5.0   \n",
       "4  QuedlinburgI  51.813308  6.0   \n",
       "\n",
       "                                             azimuth  mean azimuth  \\\n",
       "0  [325.67878, 308.42582, 328.63344, 324.376, 325...    320.127715   \n",
       "1  [353.9823, 344.77201, 349.72716, 348.1463, 348...    348.505476   \n",
       "2  [29.00165, 20.1596, 31.63067, 38.80791, 39.417...     28.908693   \n",
       "3  [210.81737, 200.26974, 198.60793, 183.482, 186...    208.516991   \n",
       "4  [280.02042, 283.82742, 290.25647, 272.7291, 28...    284.875040   \n",
       "\n",
       "                                         declination  mean declination  \n",
       "0  [30.70289, 22.59582, 31.86199, 30.16747, 30.50...         28.213226  \n",
       "1  [37.93878, 36.62099, 37.4678, 37.23189, 37.359...         36.836138  \n",
       "2  [32.73157, 35.47524, 31.7616, 28.79998, 28.529...         32.500224  \n",
       "3  [-32.06867, -35.44635, -35.86714, -38.10354, -...        -31.533463  \n",
       "4  [6.1753, 8.49684, 12.35945, 1.68681, 11.92701,...          8.977625  "
      ]
     },
     "execution_count": 6,
     "metadata": {},
     "output_type": "execute_result"
    }
   ],
   "source": [
    "df=pd.DataFrame(flatlist)\n",
    "df=df.rename(columns={0:'object', 1: 'latitude', 2:'gate', 3:'azimuth',4: 'mean azimuth', 5:'declination', 6: \"mean declination\"})\n",
    "df.head()"
   ]
  },
  {
   "cell_type": "markdown",
   "metadata": {},
   "source": [
    "## Fit procedure"
   ]
  },
  {
   "cell_type": "code",
   "execution_count": 7,
   "metadata": {},
   "outputs": [],
   "source": [
    "def Fit(minimum=31, maximum=39):\n",
    "    selected=df.loc[(df['mean declination'] > minimum) & (df['mean declination'] <maximum)]\n",
    "    l=list(selected[\"declination\"])\n",
    "    data = [item for sublist in l for item in sublist]\n",
    "    if len(data)>0:\n",
    "        plt.figure(figsize=(12,10))\n",
    "        # read data from a text file. One number per line\n",
    "        # best fit of data\n",
    "        (mu, sigma) = norm.fit(data)\n",
    "        # the histogram of the data\n",
    "        n, bins, patches = plt.hist(data,  bins=30, normed=1, facecolor='green', alpha=0.75)\n",
    "        # add a 'best fit' line\n",
    "        y = mlab.normpdf(bins, mu, sigma)\n",
    "        l = plt.plot(bins, y, 'r--', linewidth=2)\n",
    "        #plot\n",
    "        plt.xlabel(\"declination [°]\")\n",
    "        plt.ylabel(\"prob\")\n",
    "        plt.title('declination=%.3f°, $\\sigma=%.3f$' %(mu,sigma))\n",
    "        plt.show()"
   ]
  },
  {
   "cell_type": "code",
   "execution_count": 13,
   "metadata": {},
   "outputs": [
    {
     "data": {
      "image/png": "[encoded data removed]",
      "text/plain": [
       "<Figure size 864x720 with 1 Axes>"
      ]
     },
     "metadata": {
      "needs_background": "light"
     },
     "output_type": "display_data"
    }
   ],
   "source": [
    "import warnings\n",
    "warnings.filterwarnings('ignore')\n",
    "Fit(minimum=31, maximum=37)"
   ]
  },
  {
   "cell_type": "code",
   "execution_count": 9,
   "metadata": {},
   "outputs": [],
   "source": [
    "#%%capture\n",
    "#import warnings\n",
    "#warnings.filterwarnings('ignore')\n",
    "#plots=list()\n",
    "#for element in list(declination.keys()):\n",
    "#    print(\"########################################################################################################################\")\n",
    "#    print(element)\n",
    "#    print(\"########################################################################################################################\")\n",
    "#    print(\"\")\n",
    "#    for coord in [\"azimuth\", \"declination\"]:\n",
    "#        print(\"####### \"+coord+\"##############\")\n",
    "#        k=0\n",
    "#        for gate in [\"1.0\", \"2.0\", \"3.0\", \"4.0\", \"5.0\", \"6.0\", \"7.0\", \"8.0\", \"9.0\", \"10.0\"]:\n",
    "#            data=distributions[element][coord][gate]\n",
    "#            if len(data)>0:\n",
    "#                k=k+1\n",
    "#        #plt.clear()\n",
    "#\n",
    "#        if k>1:        \n",
    "#            figs, axes = plt.subplots(nrows=1, ncols=k, figsize=(30, 7), sharey=True)\n",
    "#        i=0\n",
    "#        j=0\n",
    "#        for gate in [\"1.0\", \"2.0\", \"3.0\", \"4.0\", \"5.0\", \"6.0\", \"7.0\", \"8.0\", \"9.0\", \"10.0\"]:\n",
    "#            data=distributions[element][coord][gate]\n",
    "#           \n",
    "#            if len(data)>0:\n",
    "#                try:\n",
    "#                    (mu, sigma) = norm.fit(data)\n",
    "#                    # the histogram of the data\n",
    "#                    n, bins, patches = axes[j].hist(data,  bins=30, normed=1, facecolor='green', alpha=0.75)\n",
    "#                    #n, bins, patches = plt.hist(data,  bins=30, normed=1, facecolor='green', alpha=0.75)\n",
    "#                    # add a 'best fit' line\n",
    "#                    y = mlab.normpdf(bins, mu, sigma)\n",
    "#                    l = axes[j].plot(bins, y, 'r--', linewidth=2) \n",
    "#                    axes[j].set_xlabel(coord+' [°]')\n",
    "#                    axes[j].set_title('object='+element+ '  gate='+gate + '\\n'+r' '+coord+'=%.3f°, $\\sigma=%.3f$' %(mu,sigma))\n",
    "#                    axes[j].grid(True)\n",
    "#                    j=j+1\n",
    "#                except:\n",
    "#                    pass\n",
    "#        if k>0:\n",
    "#            plt.show()"
   ]
  },
  {
   "cell_type": "markdown",
   "metadata": {},
   "source": [
    "### multi fit"
   ]
  },
  {
   "cell_type": "code",
   "execution_count": 10,
   "metadata": {},
   "outputs": [],
   "source": [
    "#multifit\n",
    "\n",
    "#data=distributions[\"Bielen\"][\"azimuth\"][\"2.0\"]\n",
    "#figure(figsize=(12,10))\n",
    "#y,x,_=hist(data,12,alpha=.3,label='data')\n",
    "\n",
    "#x=(x[1:]+x[:-1])/2 # for len(x)==len(y)\n",
    "\n",
    "#def gauss(x,mu,sigma,A):\n",
    "#    return A*exp(-(x-mu)**2/2/sigma**2)\n",
    "\n",
    "#def single(x,mu1,sigma1,A1):\n",
    "#    return gauss(x,mu1,sigma1,A1)\n",
    "\n",
    "#def bimodal(x,mu1,sigma1,A1,mu2,sigma2,A2):\n",
    "#    return gauss(x,mu1,sigma1,A1)+gauss(x,mu2,sigma2,A2)\n",
    "\n",
    "#expected=(10,.4,15)\n",
    "#params,cov=curve_fit(single,x,y,expected)\n",
    "#sigma=sqrt(diag(cov))\n",
    "#s=plot(x,single(x,*params),color='red',lw=3,label='model')\n",
    "#legend()\n",
    "#print(params,'\\n',sigma) "
   ]
  },
  {
   "cell_type": "code",
   "execution_count": 11,
   "metadata": {},
   "outputs": [],
   "source": [
    "#def read_xyz(fin):\n",
    "#import requests\n",
    "#r = requests.get(\"http://141.20.159.79/user/gordon.fischer/lab/tree/ResearchCloud%2FProjects%2Fcolumns%2Fdata%2FPantheInnen.xyz\")\n"
   ]
  },
  {
   "cell_type": "code",
   "execution_count": 12,
   "metadata": {},
   "outputs": [],
   "source": [
    "#read_xyz(\"../data/PantheInnen.xyz\")"
   ]
  },
  {
   "cell_type": "code",
   "execution_count": null,
   "metadata": {},
   "outputs": [],
   "source": []
  }
 ],
 "metadata": {
  "kernelspec": {
   "display_name": "kreisgrabenanlage",
   "language": "python",
   "name": "kreisgrabenanlage"
  },
  "language_info": {
   "codemirror_mode": {
    "name": "ipython",
    "version": 3
   },
   "file_extension": ".py",
   "mimetype": "text/x-python",
   "name": "python",
   "nbconvert_exporter": "python",
   "pygments_lexer": "ipython3",
   "version": "3.6.6"
  }
 },
 "nbformat": 4,
 "nbformat_minor": 2
}
