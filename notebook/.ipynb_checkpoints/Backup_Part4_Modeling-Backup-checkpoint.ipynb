{
 "cells": [
  {
   "cell_type": "markdown",
   "metadata": {},
   "source": [
    "# Clustering of declinations"
   ]
  },
  {
   "cell_type": "markdown",
   "metadata": {},
   "source": [
    "## Libraries"
   ]
  },
  {
   "cell_type": "code",
   "execution_count": 1,
   "metadata": {},
   "outputs": [],
   "source": [
    "import pandas as pd\n",
    "from math import *\n",
    "from collections import Counter\n",
    "import matplotlib.pyplot as plt\n",
    "import numpy as np\n",
    "import seaborn as sns\n",
    "# import hierarchical clustering libraries\n",
    "from scipy import stats\n",
    "import scipy.cluster.hierarchy as sch\n",
    "import sklearn.cluster as cluster\n",
    "from sklearn.cluster import DBSCAN\n",
    "from sklearn.cluster import AgglomerativeClustering\n",
    "from sklearn.datasets import make_blobs\n",
    "import time\n",
    "from itertools import permutations, combinations"
   ]
  },
  {
   "cell_type": "code",
   "execution_count": 2,
   "metadata": {},
   "outputs": [],
   "source": [
    "def GetJSON(path):\n",
    "    with open(path, encoding=\"iso-8859-15\" ) as data_file:    \n",
    "        data = json.load(data_file)\n",
    "    return data;"
   ]
  },
  {
   "cell_type": "code",
   "execution_count": 3,
   "metadata": {},
   "outputs": [],
   "source": [
    "%%capture\n",
    "%run Part3_Modeling.ipynb"
   ]
  },
  {
   "cell_type": "code",
   "execution_count": 4,
   "metadata": {},
   "outputs": [],
   "source": [
    "#listobjs"
   ]
  },
  {
   "cell_type": "code",
   "execution_count": 5,
   "metadata": {},
   "outputs": [],
   "source": [
    "#datalist=GetJSON(\"currentdata.json\");"
   ]
  },
  {
   "cell_type": "markdown",
   "metadata": {},
   "source": [
    "# Astronomy\n",
    "## Convert declination to azimuth\n",
    "- cos(A) = { sin(δ) - sin(φ) sin(a) } / cos(φ) cos(a)\n",
    "- see: http://star-www.st-and.ac.uk/~fv/webnotes/chapter7.htm"
   ]
  },
  {
   "cell_type": "code",
   "execution_count": 6,
   "metadata": {},
   "outputs": [],
   "source": [
    "def equ_to_horiz(decl, Nlat, a):\n",
    "    A =  acos((sin(decl)-sin(Nlat)*sin(a))/(cos(Nlat)*cos(a)))\n",
    "    return A"
   ]
  },
  {
   "cell_type": "markdown",
   "metadata": {},
   "source": [
    "## Convert azimuth to declination\n",
    "\n",
    "sin(δ) = sin(a)sin(φ) + cos(a) cos(φ) cos(A) \n",
    "\n",
    "for a=0 (horizon) the formula simplify to \n",
    "\n",
    "sin(δ) = cos(φ) cos(A) "
   ]
  },
  {
   "cell_type": "code",
   "execution_count": 7,
   "metadata": {},
   "outputs": [],
   "source": [
    "def az2dec(phi,A, sd):\n",
    "    rad_phi=radians(phi)\n",
    "    rad_A=radians(A)\n",
    "    a=degrees(asin(cos(rad_phi)*cos(rad_A))) # for alt=0\n",
    "    return(round(a,5))"
   ]
  },
  {
   "cell_type": "code",
   "execution_count": 8,
   "metadata": {},
   "outputs": [],
   "source": [
    "x = np.linspace(0,360, 200)\n",
    "y=[az2dec(51,y,2) for y in x]\n",
    "sd = 0.5"
   ]
  },
  {
   "cell_type": "code",
   "execution_count": 9,
   "metadata": {},
   "outputs": [
    {
     "data": {
      "image/png": "[encoded data removed]",
      "text/plain": [
       "<Figure size 432x288 with 1 Axes>"
      ]
     },
     "metadata": {
      "needs_background": "light"
     },
     "output_type": "display_data"
    }
   ],
   "source": [
    "plt.plot(x,y)\n",
    "plt.xlabel(\"azimuth\")\n",
    "plt.ylabel('declination')\n",
    "plt.title('Declination at horizon as function of azimuth for phi=51deg')\n",
    "plt.show()"
   ]
  },
  {
   "cell_type": "code",
   "execution_count": 10,
   "metadata": {},
   "outputs": [],
   "source": [
    "def hor_to_equ1(x):\n",
    "    return(az2dec(x[4],x[2], x[3]))"
   ]
  },
  {
   "cell_type": "code",
   "execution_count": 11,
   "metadata": {},
   "outputs": [],
   "source": [
    "#%%capture\n",
    "#datalist=Run(mod=2, iteration=1000)"
   ]
  },
  {
   "cell_type": "code",
   "execution_count": 15,
   "metadata": {},
   "outputs": [],
   "source": [
    "%%capture\n",
    "def RunAll(modus=1, iterationsteps=100, threshold=10, side=\"left\"):\n",
    "    datalist=Run(mod=modus, iteration=iterationsteps, threshold=threshold, side=side);\n",
    "    df=list()\n",
    "    for i in range(len(datalist)):\n",
    "        siteNo=list()\n",
    "        for j in range(len(nested_lookup(\"azimuth\", datalist[i]))):\n",
    "            siteNo.append(int(i))\n",
    "        t=len(nested_lookup(\"azimuth\", datalist[i]))\n",
    "        df.append(pd.DataFrame({'siteNo': siteNo , \"gateNo\":  nested_lookup(\"gate\", datalist[i])  ,'az':nested_lookup(\"azimuth\", datalist[i]) , 'sd': nested_lookup(\"stderr[%]\", datalist[i]),  \"lat\": nested_lookup(\"latitude\", datalist[i])*t }))\n",
    "\n",
    "    frames=list()\n",
    "    for j in range(len(df)):\n",
    "        frames.append(df[j])\n",
    "    df_azi=pd.concat(frames)\n",
    "\n",
    "    df_azi[\"delta\"]=df_azi.apply(hor_to_equ1,axis=1)\n",
    "    df_azi = df_azi.sort_values(\"siteNo\")\n",
    "    df_azi = df_azi[[\"siteNo\",\"gateNo\",\"lat\",\"az\",\"delta\"]]\n",
    "    df_azi = df_azi.reset_index(drop=True)\n",
    "\n",
    "\n",
    "    f0 = df_azi[\"siteNo\"].values\n",
    "    f1 = df_azi[\"gateNo\"].values\n",
    "    f2 = df_azi[\"lat\"].values\n",
    "    f3 = df_azi[\"az\"].values\n",
    "    f4 = df_azi[\"delta\"].values\n",
    "    data = np.array(list(zip(f0,f1,f2,f3,f4)))\n",
    "    df_data=pd.DataFrame(data)\n",
    "    df_data.rename(columns={0:\"siteNo\",1:\"gateNo\",2:\"lat\",3:\"az\",4:\"delta\"},inplace=True)\n",
    "\n",
    "    df_azi.groupby(\"siteNo\")\n",
    "    #plt.figure(figsize=(16,6))\n",
    "    #plt.title('distributions of orientations in azimuth at horizon')\n",
    "    #display(sns.swarmplot(x=\"siteNo\", y=\"az\",data=df_azi))\n",
    "\n",
    "    display(df_data.head())\n",
    "    plt.figure(figsize=(16,6))\n",
    "    plt.title('distributions of orientations in azimuth at horizon for side: '+side)\n",
    "    display(sns.swarmplot(x=\"siteNo\", y=\"delta\",data=df_data))\n",
    "    try:\n",
    "        for i in range(len(datalist)):\n",
    "            digi=datalist[i][\"fitted marker\"]\n",
    "            print(\"###################\")\n",
    "            print(datalist[i]['object'])\n",
    "            print(\"###################\")\n",
    "            display(HTML('<iframe id=gordon src='+digi+' + width=100% height=450></iframe>'))\n",
    "    except:\n",
    "        pass\n",
    "    return df_data"
   ]
  },
  {
   "cell_type": "code",
   "execution_count": 17,
   "metadata": {},
   "outputs": [],
   "source": [
    "#%%capture\n",
    "data1=RunAll(modus=1, iterationsteps=215, threshold=110, side=\"right\")\n",
    "data2=RunAll(modus=2, iterationsteps=215, threshold=110, side=\"right\")\n",
    "data3=RunAll(modus=1, iterationsteps=215, threshold=110, side=\"left\")\n",
    "data4=RunAll(modus=2, iterationsteps=215, threshold=110, side=\"left\")\n",
    "data5=RunAll(modus=3, iterationsteps=215, threshold=110, side=\"both\")\n",
    "data6=RunAll(modus=4, iterationsteps=215, threshold=110, side=\"both\")"
   ]
  },
  {
   "cell_type": "markdown",
   "metadata": {},
   "source": [
    "# T-test for two declinations refer zu the same delta"
   ]
  },
  {
   "cell_type": "code",
   "execution_count": null,
   "metadata": {},
   "outputs": [],
   "source": [
    "np.random.seed(12345678)\n",
    "\n",
    "# t-test\n",
    "# reject equal means if probability <5%\n",
    "def match_distrib(m1,m2,s1=sd,s2=sd):\n",
    "    '''returns the probability of a two-tale t-test on the same mean value\n",
    "    with difference variance'''\n",
    "    m1=float(m1)\n",
    "    m2=float(m2)\n",
    "    r1=stats.norm.rvs(loc=m1,scale=s1,size=1000)\n",
    "    r2=stats.norm.rvs(loc=m2,scale=s2,size=1000)\n",
    "    t=stats.ttest_ind(r1,r2,equal_var=False)\n",
    "    return(t[1])\n",
    "# example\n",
    "mean=240\n",
    "\n",
    "x = np.linspace(mean-10,mean+10, 200)\n",
    "# reference normal distribution around mean value with standard derivation sd\n",
    "# will be compared with a comparison distribution\n",
    "rvs1 = stats.norm.rvs(loc=mean,scale=sd,size=1000)\n",
    "y1=[]  # type: List[Union[float]]\n",
    "for i in range(len(x)):\n",
    "    y1.append(match_distrib(mean,x[i],sd,sd))\n",
    "\n",
    "plt.plot(x,y1)\n",
    "plt.xlabel('significance of difference in means of two samples')\n",
    "plt.ylabel('probability')\n",
    "plt.title('probability of equal means via t-test')\n",
    "plt.show()"
   ]
  },
  {
   "cell_type": "markdown",
   "metadata": {},
   "source": [
    "# Clustern\n",
    "\n",
    "Different clustering methods see documentation"
   ]
  },
  {
   "cell_type": "code",
   "execution_count": null,
   "metadata": {},
   "outputs": [],
   "source": [
    "#plt.scatter(f1, f2, c='black', s=7)\n",
    "#plt.xlabel('azimuth')\n",
    "#plt.ylabel('declination $\\delta$')\n",
    "#plt.title('distribution of orientations of gates')"
   ]
  },
  {
   "cell_type": "markdown",
   "metadata": {},
   "source": [
    "## different cluster methods\n",
    "- https://hdbscan.readthedocs.io/en/latest/comparing_clustering_algorithms.html"
   ]
  },
  {
   "cell_type": "code",
   "execution_count": null,
   "metadata": {},
   "outputs": [],
   "source": [
    "plot_kwds = {'alpha' : 0.25, 's' : 40, 'linewidths':0}\n",
    "plt.scatter(f1, f2, c='b', **plot_kwds)\n",
    "frame = plt.gca()\n",
    "frame.axes.get_xaxis().set_visible(False)\n",
    "frame.axes.get_yaxis().set_visible(False)"
   ]
  },
  {
   "cell_type": "code",
   "execution_count": null,
   "metadata": {},
   "outputs": [],
   "source": [
    "def plot_clusters(data, algorithm, args, kwds):\n",
    "    start_time = time.time()\n",
    "    labels = algorithm(*args, **kwds).fit_predict(data)\n",
    "    end_time = time.time()\n",
    "    palette = sns.color_palette('deep', np.unique(labels).max() + 1)\n",
    "    colors = [palette[x] if x >= 0 else (0.0, 0.0, 0.0) for x in labels]\n",
    "    plt.scatter(f1, f2, c=colors, **plot_kwds)\n",
    "    frame = plt.gca()\n",
    "    frame.axes.get_xaxis().set_visible(False)\n",
    "    frame.axes.get_yaxis().set_visible(False)\n",
    "    plt.title('Clusters found by {}'.format(str(algorithm.__name__)), fontsize=24)\n",
    "    plt.text(-0.5, 0.7, 'Clustering took {:.2f} s'.format(end_time - start_time), fontsize=14)"
   ]
  },
  {
   "cell_type": "code",
   "execution_count": null,
   "metadata": {},
   "outputs": [],
   "source": [
    "plot_clusters(data, cluster.KMeans, (), {'n_clusters':6})"
   ]
  },
  {
   "cell_type": "code",
   "execution_count": null,
   "metadata": {},
   "outputs": [],
   "source": [
    "plot_clusters(data, cluster.DBSCAN, (), {'eps':6.025})"
   ]
  },
  {
   "cell_type": "markdown",
   "metadata": {},
   "source": [
    "## https://github.com/scikit-learn-contrib/hdbscan"
   ]
  },
  {
   "cell_type": "code",
   "execution_count": null,
   "metadata": {},
   "outputs": [],
   "source": [
    "# import hdbscan\n",
    "# plot_clusters(data, hdbscan.HDBSCAN, (), {'min_cluster_size':15})"
   ]
  },
  {
   "cell_type": "markdown",
   "metadata": {},
   "source": [
    "# Pairwise exclusion principle forming reference groups"
   ]
  },
  {
   "cell_type": "code",
   "execution_count": null,
   "metadata": {},
   "outputs": [],
   "source": [
    "sd=0.5\n",
    "lf1=list(f2)\n",
    "df_comb=pd.DataFrame([c for c in combinations(lf1,2)])"
   ]
  },
  {
   "cell_type": "code",
   "execution_count": null,
   "metadata": {},
   "outputs": [],
   "source": [
    "# abolute difference between declinations\n",
    "df_comb[\"p\"]=df_comb.apply(lambda x: abs(x[0]-x[1]),axis=1)\n",
    "print(len(df_comb))\n",
    "df_comb.head()"
   ]
  },
  {
   "cell_type": "code",
   "execution_count": null,
   "metadata": {},
   "outputs": [],
   "source": [
    "df_comb[df_comb[\"p\"]>0.05]"
   ]
  }
 ],
 "metadata": {
  "kernelspec": {
   "display_name": "kreisgrabenanlage",
   "language": "python",
   "name": "kreisgrabenanlage"
  },
  "language_info": {
   "codemirror_mode": {
    "name": "ipython",
    "version": 3
   },
   "file_extension": ".py",
   "mimetype": "text/x-python",
   "name": "python",
   "nbconvert_exporter": "python",
   "pygments_lexer": "ipython3",
   "version": "3.7.0"
  }
 },
 "nbformat": 4,
 "nbformat_minor": 2
}
