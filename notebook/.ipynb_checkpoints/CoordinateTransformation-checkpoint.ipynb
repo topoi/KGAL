{
 "cells": [
  {
   "cell_type": "code",
   "execution_count": 2,
   "metadata": {},
   "outputs": [],
   "source": [
    " #LIBS\n",
    "#from PIL import \n",
    "import pandas as pd\n",
    "#from __future__ import print_function\n",
    "import math\n",
    "import numpy as np\n",
    "import matplotlib.pyplot as plt\n",
    "from skimage import data\n",
    "from skimage import transform as tf\n",
    "import pymc3 as pm \n",
    "import theano\n",
    "import theano.tensor as T\n",
    "from matplotlib.pyplot import *\n",
    "from math import *\n",
    "from scipy.optimize import *\n",
    "from sklearn.neighbors import NearestNeighbors\n",
    "from lmfit import Parameters, minimize, report_fit, fit_report\n",
    "from lmfit.models import *"
   ]
  },
  {
   "cell_type": "markdown",
   "metadata": {},
   "source": [
    "### test data"
   ]
  },
  {
   "cell_type": "code",
   "execution_count": 2,
   "metadata": {},
   "outputs": [],
   "source": [
    "inputcoord=np.array([[  0, 670],[793, 670],[793,   0],[  0,   0],  [  10, 60],[93,170],[793,23],[  10,   54],[  0, 670],[793, 670],[793,   0],[  30,   30] ])\n",
    "observedcoord=np.array([[  1, 670],[793, 1670],[93,   0],[  0,   0],[  0, 670],[793, 670],[793,   0],[ 100,   0],[  10, 670],[793, 670],[7932,   0],[  220,   120]  ])"
   ]
  },
  {
   "cell_type": "markdown",
   "metadata": {},
   "source": [
    "### function"
   ]
  },
  {
   "cell_type": "code",
   "execution_count": 3,
   "metadata": {},
   "outputs": [],
   "source": [
    "# FUNCTION FOR TRANSFORMATION I\n",
    "def pixel2object(x_inp=1, A=0, B=0, C=0, D=0, E=0, F=0):\n",
    "    conv=list()\n",
    "    for k in range(0, len(x_inp)):\n",
    "        pixelx = float(x_inp[k][0])\n",
    "        pixely = float(x_inp[k][1])\n",
    "        conv.append((C+pixelx*A+pixely*B,  F+pixelx*D+pixely*E) )\n",
    "    return [item for sublist in conv for item in sublist];"
   ]
  },
  {
   "cell_type": "code",
   "execution_count": 10,
   "metadata": {},
   "outputs": [],
   "source": [
    "# FUNCTION FOR TRANSFORMATION I\n",
    "def pixel2object_affine(x_inp=1, A=0, B=0, C=0, D=0, E=0, F=0):\n",
    "    conv=list()\n",
    "    #print(len(x_inp[0]))\n",
    "    for k in range(0, len(x_inp[0])):\n",
    "        pixelx = float(x_inp[0][k])\n",
    "        pixely = float(x_inp[0][k])\n",
    "        conv.append((C+pixelx*A+pixely*B,  F+pixelx*D+pixely*E) )\n",
    "    f=[item for sublist in conv for item in sublist];\n",
    "    return pd.DataFrame([f[i:i+2] for i  in range(0, len(f), 2)], columns=[\"long[°]\", \"lat[°]\"])"
   ]
  },
  {
   "cell_type": "markdown",
   "metadata": {},
   "source": [
    "### class definition"
   ]
  },
  {
   "cell_type": "code",
   "execution_count": 5,
   "metadata": {},
   "outputs": [],
   "source": [
    "class affine_transformation_2d(object):\n",
    "    \"\"\"\n",
    "    different methods for affine transformation\n",
    "    \"\"\"\n",
    "    def __init__(self, input_coord, observed_coord):\n",
    "          self.inputs = input_coord\n",
    "          self.observed = observed_coord\n",
    "     \n",
    "    pass\n",
    "\n",
    "    # SKIMAGE\n",
    "    def skimage(self):\n",
    "        text = data.text()\n",
    "        src = self.inputs\n",
    "        dst = self.observed\n",
    "        tform3 = tf.AffineTransform()\n",
    "        r1=tform3.estimate(src, dst)\n",
    "        warped = tf.warp(text, tform3, output_shape=(50, 300))\n",
    "        return tform3.params;\n",
    "\n",
    "    # BAYSIAN\n",
    "    def baysian(self, sigma=0.5, step=\"Metropolis\"):\n",
    "        model = pm.Model()\n",
    "        with model:\n",
    "\n",
    "            # Priors for unknown model parameters \n",
    "            a = pm.Normal('a', mu=1.0, sd=sigma)\n",
    "            b = pm.Normal('b', mu=1.0, sd=sigma)\n",
    "            c = pm.Normal('c', mu=1.0, sd=sigma)\n",
    "            d = pm.Normal('d', mu=1.0, sd=sigma)\n",
    "            e = pm.Normal('e', mu=1.0, sd=sigma)\n",
    "            f = pm.Normal('f', mu=1.0, sd=sigma)\n",
    "        \n",
    "            # Modeling function of expected outcome\n",
    "            sigma = pm.HalfNormal('sigma', sd=0.5)\n",
    "            theoretical = pixel2object(x_inp=self.inputs,  A=a, B=b, C=c, D=d, E=e, F=f)\n",
    "\n",
    "            # Likelihood (sampling distribution) of observations\n",
    "            observed_flatten=list(self.observed.flatten())\n",
    "            y_obs = pm.Normal('y_obs', mu=theoretical, sd=sigma, observed=observed_flatten)\n",
    "            if step==\"Metropolis\":\n",
    "                trace = pm.sample(2000, cores = 2, step=pm.Metropolis())\n",
    "            if step==\"NUTS\":\n",
    "                trace = pm.sample(2000, cores = 2, step=pm.NUTS())\n",
    "        return pm.summary(trace)\n",
    "\n",
    "    # LMFIT\n",
    "    def lmfit(self):\n",
    "        def residual(params, xp, data):\n",
    "            a = params['a'].value\n",
    "            b = params['b'].value\n",
    "            c = params['c'].value\n",
    "            d = params['d'].value\n",
    "            e = params['e'].value\n",
    "            f = params['f'].value\n",
    "            # fix values\n",
    "\n",
    "            #data\n",
    "            pixelx = [x[0] for x in xp]\n",
    "            pixelx.extend(pixelx)\n",
    "            pixely = [x[1] for x in xp]\n",
    "            pixely.extend(pixely)\n",
    "            # array\n",
    "            long_emp=[x[0] for x in data]\n",
    "            long_emp.extend(long_emp)\n",
    "            lat_emp=[x[1] for x in data]\n",
    "            lat_emp.extend(lat_emp)\n",
    "            model=list()\n",
    "            for i in range(len(pixelx)):\n",
    "                lat_model=pixelx[i]*a+pixely[i]*b+c\n",
    "                long_model=pixelx[i]*d+pixely[i]*e+f\n",
    "                \"\"\"euclidean distance between data points (data x,y) and empirical points (lon,lat) \"\"\"\n",
    "                model.append(math.sqrt((long_model-long_emp[i])**2+(lat_model-lat_emp[i])**2))\n",
    "            return model\n",
    "        \n",
    "        params = Parameters()\n",
    "        params.add('a', value = 1.0)\n",
    "        params.add('b', value = 1.0)\n",
    "        params.add('c', value = 1.0)\n",
    "        params.add('d', value = 1.0)\n",
    "        params.add('e', value = 1.0)\n",
    "        params.add('f', value = 1.0)\n",
    "        out=minimize(residual, params, args=(self.inputs, self.observed))\n",
    "        out.residual\n",
    "        return report_fit(out.params)"
   ]
  },
  {
   "cell_type": "code",
   "execution_count": 6,
   "metadata": {},
   "outputs": [],
   "source": [
    "s=affine_transformation_2d(inputcoord, observedcoord)"
   ]
  },
  {
   "cell_type": "code",
   "execution_count": 7,
   "metadata": {},
   "outputs": [
    {
     "data": {
      "text/plain": [
       "array([[ 5.12742999e+00, -7.27674279e+00,  1.03487088e+03],\n",
       "       [-1.61060579e-01,  4.87858079e+00, -7.43086783e+02],\n",
       "       [ 0.00000000e+00,  0.00000000e+00,  1.00000000e+00]])"
      ]
     },
     "execution_count": 7,
     "metadata": {},
     "output_type": "execute_result"
    }
   ],
   "source": [
    "s.skimage()"
   ]
  },
  {
   "cell_type": "code",
   "execution_count": 8,
   "metadata": {},
   "outputs": [
    {
     "name": "stdout",
     "output_type": "stream",
     "text": [
      "[[Variables]]\n",
      "    a:  0.04988559 +/- 5.77670148 (11579.90%) (init = 1)\n",
      "    b:  1.23633521 +/- 7.85738478 (635.54%) (init = 1)\n",
      "    c:  100.375443 +/- 1701.71046 (1695.35%) (init = 1)\n",
      "    d:  2.57420219 +/- 1.37489221 (53.41%) (init = 1)\n",
      "    e: -1.70589060 +/- 2.15264149 (126.19%) (init = 1)\n",
      "    f:  508.146477 +/- 851.408732 (167.55%) (init = 1)\n",
      "[[Correlations]] (unreported correlations are < 0.100)\n",
      "    C(a, b) = -0.875\n",
      "    C(d, f) = -0.663\n",
      "    C(b, c) = -0.626\n",
      "    C(b, e) =  0.579\n",
      "    C(a, e) = -0.560\n",
      "    C(b, d) = -0.378\n",
      "    C(b, f) =  0.360\n",
      "    C(a, d) =  0.343\n",
      "    C(c, f) = -0.319\n",
      "    C(a, c) =  0.313\n",
      "    C(a, f) = -0.304\n",
      "    C(c, d) =  0.216\n",
      "    C(e, f) = -0.202\n",
      "    C(d, e) = -0.164\n",
      "    C(c, e) = -0.155\n"
     ]
    }
   ],
   "source": [
    "s.lmfit()"
   ]
  },
  {
   "cell_type": "code",
   "execution_count": 9,
   "metadata": {},
   "outputs": [],
   "source": [
    "#s.baysian(sigma=0.8, step=\"Metropolis\")"
   ]
  },
  {
   "cell_type": "code",
   "execution_count": null,
   "metadata": {},
   "outputs": [],
   "source": []
  }
 ],
 "metadata": {
  "kernelspec": {
   "display_name": "kreisgrabenanlage",
   "language": "python",
   "name": "kreisgrabenanlage"
  },
  "language_info": {
   "codemirror_mode": {
    "name": "ipython",
    "version": 3
   },
   "file_extension": ".py",
   "mimetype": "text/x-python",
   "name": "python",
   "nbconvert_exporter": "python",
   "pygments_lexer": "ipython3",
   "version": "3.6.6"
  }
 },
 "nbformat": 4,
 "nbformat_minor": 2
}
