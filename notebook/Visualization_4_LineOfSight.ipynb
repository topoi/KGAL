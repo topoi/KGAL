{
 "cells": [
  {
   "cell_type": "markdown",
   "metadata": {},
   "source": [
    "$\\mathrm{\\huge{Neolithic\\,Circular\\,Enclosures}}$\n",
    "\n",
    "$\\mathrm{\\large{Notebook\\,IV:\\,Compare\\,different\\,line\\,of\\,sight\\,models}}$\n",
    "\n",
    "\n",
    "$\\mathrm{Gerd\\,Graßhoff^{1,2,3}, Gordon\\,Fischer^{2}}$\n",
    "  \n",
    "1: Humboldt Universität zu Berlin, 2: Excellence Cluster Topoi  \n",
    "3: Max Planck Institute for history  of science  \n",
    "Corresponding mail: gerd.grasshoff@hu-berlin.de, gordon.fischer@topoi.org  \n",
    "Date: 20.06.2018\n",
    "\n",
    "**goal of research:** Compare gates (azimuth) for all objects in order to find a systematic\n",
    "        \n",
    "**keywords**: Neolithic Circular Enclosures, gates, altitude, azimuth"
   ]
  },
  {
   "cell_type": "code",
   "execution_count": 3,
   "metadata": {
    "code_folding": [
     0
    ]
   },
   "outputs": [],
   "source": [
    "#IMPORT LIBRARIES\n",
    "from citableclass import Citable \n",
    "import csv\n",
    "import json\n",
    "import yaml\n",
    "# import astronomia\n",
    "import ephem\n",
    "import lmfit\n",
    "from ephem import *\n",
    "import numpy as np\n",
    "from ephem import stars \n",
    "import pandas as pd\n",
    "db=stars.db\n",
    "import numpy as np\n",
    "import math\n",
    "import sys\n",
    "from IPython.display import display\n",
    "from ipywidgets import widgets, interactive\n",
    "import matplotlib.pyplot as plt\n",
    "import matplotlib.patches as mpatches\n",
    "from collections import Counter\n",
    "from ephem import Equatorial, Ecliptic\n",
    "from nested_lookup import nested_lookup\n",
    "from IPython.display import Image, clear_output\n",
    "from ipywidgets import FloatSlider,IntSlider,Dropdown,Label, Button, Layout, Textarea, HBox, VBox, ToggleButtons, RadioButtons, jslink,interact, interact_manual,Output, Text, FloatText, Select"
   ]
  },
  {
   "cell_type": "markdown",
   "metadata": {},
   "source": [
    "## Gräben und Palisadendurchlass"
   ]
  },
  {
   "cell_type": "code",
   "execution_count": 4,
   "metadata": {},
   "outputs": [],
   "source": [
    "%matplotlib inline"
   ]
  },
  {
   "cell_type": "code",
   "execution_count": 5,
   "metadata": {},
   "outputs": [
    {
     "ename": "FileNotFoundError",
     "evalue": "[Errno 2] No such file or directory: 'data/QuedlinburgGeogCoord.yaml'",
     "output_type": "error",
     "traceback": [
      "\u001b[0;31m---------------------------------------------------------------------------\u001b[0m",
      "\u001b[0;31mFileNotFoundError\u001b[0m                         Traceback (most recent call last)",
      "\u001b[0;32m<ipython-input-5-02dba4880c88>\u001b[0m in \u001b[0;36m<module>\u001b[0;34m\u001b[0m\n\u001b[0;32m----> 1\u001b[0;31m \u001b[0;32mwith\u001b[0m \u001b[0mopen\u001b[0m\u001b[0;34m(\u001b[0m\u001b[0;34m\"data/QuedlinburgGeogCoord.yaml\"\u001b[0m\u001b[0;34m,\u001b[0m \u001b[0;34m'r'\u001b[0m\u001b[0;34m)\u001b[0m \u001b[0;32mas\u001b[0m \u001b[0mstream\u001b[0m\u001b[0;34m:\u001b[0m\u001b[0;34m\u001b[0m\u001b[0m\n\u001b[0m\u001b[1;32m      2\u001b[0m     \u001b[0;32mtry\u001b[0m\u001b[0;34m:\u001b[0m\u001b[0;34m\u001b[0m\u001b[0m\n\u001b[1;32m      3\u001b[0m         \u001b[0mquedlinburg\u001b[0m\u001b[0;34m=\u001b[0m\u001b[0myaml\u001b[0m\u001b[0;34m.\u001b[0m\u001b[0mload\u001b[0m\u001b[0;34m(\u001b[0m\u001b[0mstream\u001b[0m\u001b[0;34m)\u001b[0m\u001b[0;34m\u001b[0m\u001b[0m\n\u001b[1;32m      4\u001b[0m     \u001b[0;32mexcept\u001b[0m \u001b[0myaml\u001b[0m\u001b[0;34m.\u001b[0m\u001b[0mYAMLError\u001b[0m \u001b[0;32mas\u001b[0m \u001b[0mexc\u001b[0m\u001b[0;34m:\u001b[0m\u001b[0;34m\u001b[0m\u001b[0m\n\u001b[1;32m      5\u001b[0m         \u001b[0mprint\u001b[0m\u001b[0;34m(\u001b[0m\u001b[0mexc\u001b[0m\u001b[0;34m)\u001b[0m\u001b[0;34m\u001b[0m\u001b[0m\n",
      "\u001b[0;31mFileNotFoundError\u001b[0m: [Errno 2] No such file or directory: 'data/QuedlinburgGeogCoord.yaml'"
     ]
    }
   ],
   "source": [
    "with open(\"data/QuedlinburgGeogCoord.yaml\", 'r') as stream:\n",
    "    try:\n",
    "        quedlinburg=yaml.load(stream)\n",
    "    except yaml.YAMLError as exc:\n",
    "        print(exc)"
   ]
  },
  {
   "cell_type": "markdown",
   "metadata": {},
   "source": [
    "### Zeige die Tore\n",
    "\n",
    "- Angabe der Himmelsrichtungen (z.B. NW heißt Nord-West)"
   ]
  },
  {
   "cell_type": "code",
   "execution_count": null,
   "metadata": {},
   "outputs": [],
   "source": [
    "list(quedlinburg[\"gates\"].keys())"
   ]
  },
  {
   "cell_type": "markdown",
   "metadata": {},
   "source": [
    "### Zeige Punkte für ein Tor\n",
    "\n",
    "- Die Markierungen (geografische Koordinaten (longitude & latitude)) für Gräben und Palisaden werden so definiert:   \n",
    "    **P2li_a** = Zweite Palisade (links),  Punkt a  \n",
    "    **G1re_b** = erster Graben (rechts), Punkt b"
   ]
  },
  {
   "cell_type": "code",
   "execution_count": null,
   "metadata": {},
   "outputs": [],
   "source": [
    "list(quedlinburg[\"gates\"][\"NW\"].keys())"
   ]
  },
  {
   "cell_type": "code",
   "execution_count": null,
   "metadata": {
    "code_folding": [
     0
    ]
   },
   "outputs": [],
   "source": [
    "# PREPARE LIST\n",
    "gatemarker=list()\n",
    "fitmarkerleft=list()\n",
    "fitmarkerright=list()\n",
    "corners=[ [\"G1li_a\", \"G1li_b\"], [\"G2li_a\", \"G2li_b\"], [\"G3li_a\", \"G3li_b\"],  [\"G1re_a\", \"G1re_b\"], [\"G2re_a\", \"G2re_b\"], [\"G3re_a\", \"G3re_b\"]]\n",
    "fitpoints=[[\"G1li_a\", \"G1li_b\", \"G2li_a\", \"G2li_b\", \"G3li_a\", \"G3li_b\"], [\"G1re_a\", \"G1re_b\", \"G2re_a\", \"G2re_b\", \"G3re_a\", \"G3re_b\"]] \n",
    "\n",
    "for element in list(quedlinburg[\"gates\"].keys()):\n",
    "    templeft=list()\n",
    "    tempright=list()\n",
    "    v=quedlinburg[\"gates\"][element]\n",
    " \n",
    "    for element in corners:\n",
    "        try:\n",
    "            gatemarker.append((v[element[0]], v[element[1 ]]))\n",
    "        except:\n",
    "            pass\n",
    "    \n",
    "    for z in list(v.keys()):\n",
    "   \n",
    "        if z in fitpoints[0]:\n",
    "\n",
    "            templeft.append(v[z])\n",
    "        if z in fitpoints[1]:\n",
    "           \n",
    "            tempright.append(v[z])\n",
    "        \n",
    "    fitmarkerleft.append(templeft)\n",
    "    fitmarkerright.append(tempright)"
   ]
  },
  {
   "cell_type": "markdown",
   "metadata": {},
   "source": [
    "### Visualization (z.B. Quedlinburg I)"
   ]
  },
  {
   "cell_type": "code",
   "execution_count": null,
   "metadata": {},
   "outputs": [],
   "source": [
    "v=Citable(\"KGAL0001/0\", formats=\"et\")\n",
    "v.datatype()"
   ]
  },
  {
   "cell_type": "code",
   "execution_count": null,
   "metadata": {
    "code_folding": [
     0
    ]
   },
   "outputs": [],
   "source": [
    "# PLOT 1\n",
    "plt.figure(figsize=(15,15))\n",
    "# PLOT POINTS\n",
    "for element in gatemarker:\n",
    "    plt.plot(element[0]['coordinates']['long'],element[0]['coordinates']['lat'], 'ko')\n",
    "    plt.plot(element[1]['coordinates']['long'],element[1]['coordinates']['lat'], 'ko')\n",
    "# PLOT LINES\n",
    "    #plt.plot([element[0]['coordinates']['long'],element[1]['coordinates']['long'] ],[element[0]['coordinates']['lat'],element[1]['coordinates']['lat']], 'r-')\n",
    "\n",
    "plt.title('gate', fontsize=18)\n",
    "plt.xlabel('', fontsize=18)\n",
    "plt.ylabel('', fontsize=18)\n",
    "\n",
    "plt.show()"
   ]
  },
  {
   "cell_type": "markdown",
   "metadata": {},
   "source": [
    "## heading proclus secret calculation"
   ]
  },
  {
   "cell_type": "code",
   "execution_count": null,
   "metadata": {
    "code_folding": [
     0
    ],
    "scrolled": false
   },
   "outputs": [],
   "source": [
    "# FIT \n",
    "plt.figure(figsize=(15,15))\n",
    "model = lmfit.models.LinearModel()\n",
    "\n",
    "for j in range(len(fitmarkerleft)):\n",
    "    lon1=list()\n",
    "    lat1=list()\n",
    "\n",
    "    for i in range(len(fitmarkerleft[j])):\n",
    "        lon1.append(fitmarkerleft[j][i]['coordinates']['long'])\n",
    "        lat1.append(fitmarkerleft[j][i]['coordinates']['lat'])\n",
    "    \n",
    "    fit1 = model.fit(lat1,x=lon1)\n",
    "\n",
    "    plt.plot(lon1, fit1.best_fit, 'r-')\n",
    "    \n",
    "    #print(fit1.fit_report())\n",
    "    print(fit1.values)\n",
    "    \n",
    "    \n",
    "for j in range(len(fitmarkerright)):\n",
    "    lon2=list()\n",
    "    lat2=list()\n",
    "    for i in range(len(fitmarkerright[j])):\n",
    "        \n",
    "        lon2.append(fitmarkerright[j][i]['coordinates']['long'])\n",
    "        lat2.append(fitmarkerright[j][i]['coordinates']['lat'])\n",
    "    fit2 = model.fit(lat2,x=lon2)\n",
    "\n",
    "    plt.plot(lon2, fit2.best_fit, 'r-')\n",
    "    \n",
    "    #print(fit2.fit_report())\n",
    "    print(fit2.values)\n",
    "plt.legend=False\n",
    "plt.ylim((11.1778, 11.1792)) \n",
    "plt.title('gate', fontsize=18)\n",
    "plt.xlabel('', fontsize=18)\n",
    "plt.ylabel('', fontsize=18)\n",
    "plt.show()"
   ]
  },
  {
   "cell_type": "code",
   "execution_count": null,
   "metadata": {},
   "outputs": [],
   "source": []
  }
 ],
 "metadata": {
  "kernelspec": {
   "display_name": "kreisgrabenanlage",
   "language": "python",
   "name": "kreisgrabenanlage"
  },
  "language_info": {
   "codemirror_mode": {
    "name": "ipython",
    "version": 3
   },
   "file_extension": ".py",
   "mimetype": "text/x-python",
   "name": "python",
   "nbconvert_exporter": "python",
   "pygments_lexer": "ipython3",
   "version": "3.6.6"
  },
  "latex_envs": {
   "LaTeX_envs_menu_present": true,
   "autocomplete": true,
   "bibliofile": "biblio.bib",
   "cite_by": "apalike",
   "current_citInitial": 1,
   "eqLabelWithNumbers": true,
   "eqNumInitial": 1,
   "hotkeys": {
    "equation": "Ctrl-E",
    "itemize": "Ctrl-I"
   },
   "labels_anchors": false,
   "latex_user_defs": false,
   "report_style_numbering": false,
   "user_envs_cfg": false
  },
  "toc": {
   "colors": {
    "hover_highlight": "#DAA520",
    "running_highlight": "#FF0000",
    "selected_highlight": "#FFD700"
   },
   "moveMenuLeft": true,
   "navigate_menu": false,
   "number_sections": true,
   "sideBar": true,
   "threshold": 4,
   "toc_cell": false,
   "toc_section_display": "block",
   "toc_window_display": true,
   "widenNotebook": true
  }
 },
 "nbformat": 4,
 "nbformat_minor": 2
}
