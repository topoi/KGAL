{
 "cells": [
  {
   "cell_type": "markdown",
   "metadata": {},
   "source": [
    "# Modellierung der Sichtlinien für Kreisgrabenanlagen"
   ]
  },
  {
   "cell_type": "markdown",
   "metadata": {},
   "source": [
    "## Libraries"
   ]
  },
  {
   "cell_type": "code",
   "execution_count": 17,
   "metadata": {},
   "outputs": [],
   "source": [
    "# monte carlo\n",
    "import numpy as np\n",
    "import pymc3 as pm\n",
    "import pandas as pd\n",
    "# astronomy\n",
    "import ephem\n",
    "# citable class\n",
    "from citableclass import Citable\n",
    "# misc\n",
    "import yaml\n",
    "import lmfit\n",
    "import math\n",
    "import matplotlib.pyplot as plt"
   ]
  },
  {
   "cell_type": "markdown",
   "metadata": {},
   "source": [
    "## Star Parameter"
   ]
  },
  {
   "cell_type": "markdown",
   "metadata": {},
   "source": [
    "### Star Catalogue"
   ]
  },
  {
   "cell_type": "code",
   "execution_count": 2,
   "metadata": {},
   "outputs": [
    {
     "data": {
      "text/html": [
       "<div>\n",
       "<style scoped>\n",
       "    .dataframe tbody tr th:only-of-type {\n",
       "        vertical-align: middle;\n",
       "    }\n",
       "\n",
       "    .dataframe tbody tr th {\n",
       "        vertical-align: top;\n",
       "    }\n",
       "\n",
       "    .dataframe thead th {\n",
       "        text-align: right;\n",
       "    }\n",
       "</style>\n",
       "<table border=\"1\" class=\"dataframe\">\n",
       "  <thead>\n",
       "    <tr style=\"text-align: right;\">\n",
       "      <th></th>\n",
       "      <th>star</th>\n",
       "      <th></th>\n",
       "      <th></th>\n",
       "      <th></th>\n",
       "      <th>magnitude</th>\n",
       "      <th></th>\n",
       "      <th></th>\n",
       "    </tr>\n",
       "  </thead>\n",
       "  <tbody>\n",
       "    <tr>\n",
       "      <th>0</th>\n",
       "      <td>Sirrah</td>\n",
       "      <td>f|S|B9</td>\n",
       "      <td>0:08:23.2|135.68</td>\n",
       "      <td>29:05:27|-162.95</td>\n",
       "      <td>2.07</td>\n",
       "      <td>2000</td>\n",
       "      <td>0</td>\n",
       "    </tr>\n",
       "    <tr>\n",
       "      <th>1</th>\n",
       "      <td>Caph</td>\n",
       "      <td>f|S|F2</td>\n",
       "      <td>0:09:10.1|523.39</td>\n",
       "      <td>59:09:01|-180.42</td>\n",
       "      <td>2.28</td>\n",
       "      <td>2000</td>\n",
       "      <td>0</td>\n",
       "    </tr>\n",
       "    <tr>\n",
       "      <th>2</th>\n",
       "      <td>Algenib</td>\n",
       "      <td>f|S|B2</td>\n",
       "      <td>0:13:14.2|4.7</td>\n",
       "      <td>15:11:01|-8.24</td>\n",
       "      <td>2.83</td>\n",
       "      <td>2000</td>\n",
       "      <td>0</td>\n",
       "    </tr>\n",
       "    <tr>\n",
       "      <th>3</th>\n",
       "      <td>Schedar</td>\n",
       "      <td>f|S|K0</td>\n",
       "      <td>0:40:30.4|50.36</td>\n",
       "      <td>56:32:15|-32.17</td>\n",
       "      <td>2.24</td>\n",
       "      <td>2000</td>\n",
       "      <td>0</td>\n",
       "    </tr>\n",
       "    <tr>\n",
       "      <th>4</th>\n",
       "      <td>Mirach</td>\n",
       "      <td>f|S|M0</td>\n",
       "      <td>1:09:43.8|175.59</td>\n",
       "      <td>35:37:15|-112.23</td>\n",
       "      <td>2.07</td>\n",
       "      <td>2000</td>\n",
       "      <td>0</td>\n",
       "    </tr>\n",
       "  </tbody>\n",
       "</table>\n",
       "</div>"
      ],
      "text/plain": [
       "      star                                             magnitude         \n",
       "0   Sirrah  f|S|B9  0:08:23.2|135.68  29:05:27|-162.95      2.07  2000  0\n",
       "1     Caph  f|S|F2  0:09:10.1|523.39  59:09:01|-180.42      2.28  2000  0\n",
       "2  Algenib  f|S|B2     0:13:14.2|4.7    15:11:01|-8.24      2.83  2000  0\n",
       "3  Schedar  f|S|K0   0:40:30.4|50.36   56:32:15|-32.17      2.24  2000  0\n",
       "4   Mirach  f|S|M0  1:09:43.8|175.59  35:37:15|-112.23      2.07  2000  0"
      ]
     },
     "execution_count": 2,
     "metadata": {},
     "output_type": "execute_result"
    }
   ],
   "source": [
    "#LOAD STAR CATALOGUE\n",
    "cite=Citable(\"BAAP00028\", formats=\"et\")\n",
    "pyephembsc = []\n",
    "reader=cite.csv()\n",
    "for row in reader:\n",
    "    pyephembsc.append(row)\n",
    "pd.DataFrame(pyephembsc, columns=['star', \"\",\"\",\"\",'magnitude',\"\",\"\"]).head()"
   ]
  },
  {
   "cell_type": "markdown",
   "metadata": {},
   "source": [
    "### Position Calculation "
   ]
  },
  {
   "cell_type": "code",
   "execution_count": 3,
   "metadata": {},
   "outputs": [],
   "source": [
    "# DEFINE FUNCTION\n",
    "def Position(year=1000, longitude='40', latitude='12', star=\"Sirius\"):\n",
    "    observer = ephem.Observer()\n",
    "    observer.date = str(year)+'/1/1 00:00:00'\n",
    "    star=ephem.star(star)\n",
    "    star.compute(observer)\n",
    "    observer.lon = ephem.degrees(longitude)\n",
    "    observer.lat = ephem.degrees(latitude)\n",
    "    star.compute(observer)\n",
    "    return {\"azimuth\":float(star.az), \"altitude\":float(star.alt)}"
   ]
  },
  {
   "cell_type": "code",
   "execution_count": 4,
   "metadata": {},
   "outputs": [
    {
     "data": {
      "text/plain": [
       "{'azimuth': 4.260807037353516, 'altitude': 0.5070967078208923}"
      ]
     },
     "execution_count": 4,
     "metadata": {},
     "output_type": "execute_result"
    }
   ],
   "source": [
    "Position()"
   ]
  },
  {
   "cell_type": "markdown",
   "metadata": {},
   "source": [
    "## Neolithic circular enclosure (nce)"
   ]
  },
  {
   "cell_type": "code",
   "execution_count": 5,
   "metadata": {},
   "outputs": [],
   "source": [
    "# YAML NOT YET IN CITABLE CLASS\n",
    "nce=Citable(\"KGAL0004\", formats=\"et\")"
   ]
  },
  {
   "cell_type": "code",
   "execution_count": 6,
   "metadata": {},
   "outputs": [],
   "source": [
    "# TEMP SOLUTION\n",
    "with open(\"data/QuedlinburgGeogCoord.yaml\", 'r') as stream:\n",
    "    try:\n",
    "        quedlinburg=yaml.load(stream)\n",
    "    except yaml.YAMLError as exc:\n",
    "        print(exc)"
   ]
  },
  {
   "cell_type": "code",
   "execution_count": 41,
   "metadata": {},
   "outputs": [],
   "source": [
    "# PREPARE LIST\n",
    "gatemarker=list()\n",
    "fitmarkerleft=list()\n",
    "fitmarkerright=list()\n",
    "corners=[ [\"G1li_a\", \"G1li_b\"], [\"G2li_a\", \"G2li_b\"], [\"G3li_a\", \"G3li_b\"],  [\"G1re_a\", \"G1re_b\"], [\"G2re_a\", \"G2re_b\"], [\"G3re_a\", \"G3re_b\"]]\n",
    "fitpoints=[[\"G1li_a\", \"G1li_b\", \"G2li_a\", \"G2li_b\", \"G3li_a\", \"G3li_b\"], [\"G1re_a\", \"G1re_b\", \"G2re_a\", \"G2re_b\", \"G3re_a\", \"G3re_b\"]] \n",
    "\n",
    "for sector in list(quedlinburg[\"gates\"].keys()):\n",
    "    templeft=list()\n",
    "    tempright=list()\n",
    "    v=quedlinburg[\"gates\"][sector]\n",
    "    for element in corners:\n",
    "        try:\n",
    "            gatemarker.append((v[element[0]], v[element[1 ]],sector))\n",
    "        except:\n",
    "            pass\n",
    "    \n",
    "    for z in list(v.keys()):\n",
    "   \n",
    "        if z in fitpoints[0]:\n",
    "\n",
    "            templeft.append(v[z])\n",
    "        if z in fitpoints[1]:\n",
    "           \n",
    "            tempright.append(v[z])\n",
    "        \n",
    "    fitmarkerleft.append((templeft, sector))\n",
    "    fitmarkerright.append((tempright, sector))"
   ]
  },
  {
   "cell_type": "code",
   "execution_count": 104,
   "metadata": {},
   "outputs": [
    {
     "data": {
      "image/png": "[encoded data removed]",
      "text/plain": [
       "<Figure size 864x864 with 1 Axes>"
      ]
     },
     "metadata": {},
     "output_type": "display_data"
    }
   ],
   "source": [
    "# PLOT 1\n",
    "plt.figure(figsize=(12,12))\n",
    "# PLOT POINTS\n",
    "for element in gatemarker:\n",
    "    plt.plot(element[0]['coordinates']['long'],element[0]['coordinates']['lat'], 'ko')\n",
    "    plt.plot(element[1]['coordinates']['long'],element[1]['coordinates']['lat'], 'ko')\n",
    "# PLOT LINES\n",
    "    #plt.plot([element[0]['coordinates']['long'],element[1]['coordinates']['long'] ],[element[0]['coordinates']['lat'],element[1]['coordinates']['lat']], 'r-')\n",
    "\n",
    "plt.title('gate', fontsize=18)\n",
    "plt.xlabel('', fontsize=18)\n",
    "plt.ylabel('', fontsize=18)\n",
    "\n",
    "plt.show()"
   ]
  },
  {
   "cell_type": "code",
   "execution_count": 142,
   "metadata": {},
   "outputs": [],
   "source": [
    "# FIT \n",
    "def Fit(long=11.1784, lat=51.8134, center=False):\n",
    "    plt.figure(figsize=(11,11))\n",
    "    model = lmfit.models.LinearModel()\n",
    "    azimuth=list()\n",
    "    for j in range(len(fitmarkerleft)):\n",
    "        lon1=list()\n",
    "        lat1=list()\n",
    "\n",
    "        for i in range(len(fitmarkerleft[j][0])):\n",
    "            lon1.append(fitmarkerleft[j][0][i]['coordinates']['long'])\n",
    "            lat1.append(fitmarkerleft[j][0][i]['coordinates']['lat'])\n",
    "            #define center\n",
    "            if center==True:\n",
    "                lat1.append(lat)\n",
    "                lon1.append(long)\n",
    "        fit1 = model.fit(lat1,x=lon1)\n",
    "        plt.plot(lon1, fit1.best_fit, 'r-')\n",
    "        #print(fit1.values,fitmarkerleft[j][1] )\n",
    "        if fitmarkerleft[j][1]==\"NE\":\n",
    "            azim=90-abs(math.atan(fit1.values[\"slope\"])*180/3.14)\n",
    "        if fitmarkerleft[j][1]==\"SE\":\n",
    "            azim=90+abs(math.atan(fit1.values[\"slope\"])*180/3.14)\n",
    "        if fitmarkerleft[j][1]==\"SW\":\n",
    "            azim=270-abs(math.atan(fit1.values[\"slope\"])*180/3.14) \n",
    "        if fitmarkerleft[j][1]==\"NW\":\n",
    "            azim=270+abs(math.atan(fit1.values[\"slope\"])*180/3.14)  \n",
    "        azimuth.append((fitmarkerleft[j][1], azim))\n",
    "\n",
    "    for j in range(len(fitmarkerright)):\n",
    "        lon2=list()\n",
    "        lat2=list()\n",
    "        for i in range(len(fitmarkerright[j][0])):\n",
    "\n",
    "            lon2.append(fitmarkerright[j][0][i]['coordinates']['long'])\n",
    "            lat2.append(fitmarkerright[j][0][i]['coordinates']['lat'])\n",
    "            # define center\n",
    "            if center==True:\n",
    "                lat2.append(lat)\n",
    "                lon2.append(long)\n",
    "\n",
    "        fit2 = model.fit(lat2,x=lon2)\n",
    "        plt.plot(lon2, fit2.best_fit, 'r-')\n",
    "        #print(fit2.values, fitmarkerright[j][1])\n",
    "        if fitmarkerright[j][1]==\"NE\":\n",
    "            azim=90-abs(math.atan(fit2.values[\"slope\"])*180/3.14)\n",
    "        if fitmarkerright[j][1]==\"SE\":\n",
    "            azim=90+abs(math.atan(fit2.values[\"slope\"])*180/3.14)\n",
    "        if fitmarkerright[j][1]==\"SW\":\n",
    "            azim=270-abs(math.atan(fit2.values[\"slope\"])*180/3.14) \n",
    "        if fitmarkerright[j][1]==\"NW\":\n",
    "            azim=270+abs(math.atan(fit2.values[\"slope\"])*180/3.14)  \n",
    "        azimuth.append((fitmarkerright[j][1], azim))\n",
    "        \n",
    "    plt.legend=False\n",
    "    plt.ylim((51.813, 51.814)) \n",
    "    plt.title('gate', fontsize=18)\n",
    "    plt.xlabel('', fontsize=18)\n",
    "    plt.ylabel('', fontsize=18)\n",
    "    plt.show()\n",
    "    return pd.DataFrame(sorted(azimuth), columns=['Sector', 'Azimuth[°]'])\n",
    "    "
   ]
  },
  {
   "cell_type": "code",
   "execution_count": 143,
   "metadata": {},
   "outputs": [
    {
     "data": {
      "image/png": "[encoded data removed]",
      "text/plain": [
       "<Figure size 792x792 with 1 Axes>"
      ]
     },
     "metadata": {},
     "output_type": "display_data"
    },
    {
     "data": {
      "text/html": [
       "<div>\n",
       "<style scoped>\n",
       "    .dataframe tbody tr th:only-of-type {\n",
       "        vertical-align: middle;\n",
       "    }\n",
       "\n",
       "    .dataframe tbody tr th {\n",
       "        vertical-align: top;\n",
       "    }\n",
       "\n",
       "    .dataframe thead th {\n",
       "        text-align: right;\n",
       "    }\n",
       "</style>\n",
       "<table border=\"1\" class=\"dataframe\">\n",
       "  <thead>\n",
       "    <tr style=\"text-align: right;\">\n",
       "      <th></th>\n",
       "      <th>Sector</th>\n",
       "      <th>Azimuth[°]</th>\n",
       "    </tr>\n",
       "  </thead>\n",
       "  <tbody>\n",
       "    <tr>\n",
       "      <th>0</th>\n",
       "      <td>NE</td>\n",
       "      <td>33.769689</td>\n",
       "    </tr>\n",
       "    <tr>\n",
       "      <th>1</th>\n",
       "      <td>NE</td>\n",
       "      <td>33.936128</td>\n",
       "    </tr>\n",
       "    <tr>\n",
       "      <th>2</th>\n",
       "      <td>NW</td>\n",
       "      <td>301.184881</td>\n",
       "    </tr>\n",
       "    <tr>\n",
       "      <th>3</th>\n",
       "      <td>NW</td>\n",
       "      <td>302.388027</td>\n",
       "    </tr>\n",
       "    <tr>\n",
       "      <th>4</th>\n",
       "      <td>SE</td>\n",
       "      <td>113.850832</td>\n",
       "    </tr>\n",
       "    <tr>\n",
       "      <th>5</th>\n",
       "      <td>SE</td>\n",
       "      <td>144.189819</td>\n",
       "    </tr>\n",
       "    <tr>\n",
       "      <th>6</th>\n",
       "      <td>SW</td>\n",
       "      <td>229.937563</td>\n",
       "    </tr>\n",
       "    <tr>\n",
       "      <th>7</th>\n",
       "      <td>SW</td>\n",
       "      <td>233.184848</td>\n",
       "    </tr>\n",
       "  </tbody>\n",
       "</table>\n",
       "</div>"
      ],
      "text/plain": [
       "  Sector  Azimuth[°]\n",
       "0     NE   33.769689\n",
       "1     NE   33.936128\n",
       "2     NW  301.184881\n",
       "3     NW  302.388027\n",
       "4     SE  113.850832\n",
       "5     SE  144.189819\n",
       "6     SW  229.937563\n",
       "7     SW  233.184848"
      ]
     },
     "execution_count": 143,
     "metadata": {},
     "output_type": "execute_result"
    }
   ],
   "source": [
    "Fit()"
   ]
  },
  {
   "cell_type": "code",
   "execution_count": null,
   "metadata": {},
   "outputs": [],
   "source": []
  }
 ],
 "metadata": {
  "kernelspec": {
   "display_name": "Python 3",
   "language": "python",
   "name": "python3"
  },
  "language_info": {
   "codemirror_mode": {
    "name": "ipython",
    "version": 3
   },
   "file_extension": ".py",
   "mimetype": "text/x-python",
   "name": "python",
   "nbconvert_exporter": "python",
   "pygments_lexer": "ipython3",
   "version": "3.6.5"
  }
 },
 "nbformat": 4,
 "nbformat_minor": 2
}
