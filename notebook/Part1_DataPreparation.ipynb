{
 "cells": [
  {
   "cell_type": "code",
   "execution_count": 3,
   "metadata": {},
   "outputs": [],
   "source": [
    "import numpy\n",
    "# citable class\n",
    "from citableclass import Citable\n",
    "# basic\n",
    "import pymc3\n",
    "#import yaml\n",
    "import math\n",
    "import json\n",
    "import pandas as pd\n",
    "import lmfit\n",
    "import numpy as np\n",
    "import matplotlib.pyplot as plt\n",
    "#from PIL import Image\n",
    "from nested_lookup import nested_lookup\n",
    "from IPython.display import HTML"
   ]
  },
  {
   "cell_type": "code",
   "execution_count": 4,
   "metadata": {},
   "outputs": [],
   "source": [
    "def GetJSON(path):\n",
    "    with open(path, encoding=\"iso-8859-15\" ) as data_file:    \n",
    "        data = json.load(data_file)\n",
    "    return data;"
   ]
  },
  {
   "cell_type": "markdown",
   "metadata": {},
   "source": [
    "### Import Dataset"
   ]
  },
  {
   "cell_type": "code",
   "execution_count": 59,
   "metadata": {},
   "outputs": [],
   "source": [
    "#repository folder \n",
    "folder=['KGAL0003', 'KGAL0007', 'KGAL0011', 'KGAL0015','KGAL0019', 'KGAL0023', \n",
    "        'KGAL0027', 'KGAL0031','KGAL0035','KGAL0039', 'KGAL0043', 'KGAL0047', 'KGAL0051', 'KGAL0055',\n",
    "        'KGAL0059', 'KGAL0063','KGAL0067', 'KGAL0071', 'KGAL0075', 'KGAL0079','KGAL0083', 'KGAL0087',\n",
    "        'KGAL0091', 'KGAL0095','KGAL0099', 'KGAL0103', 'KGAL0107', 'KGAL0111','KGAL0115']\n",
    "listobjs=list()\n",
    "listcoords=list()\n",
    "series=list()\n",
    "for element in folder:\n",
    "    cite=Citable(element, formats=\"dev\")\n",
    "    tmp=cite.json()\n",
    "    try:\n",
    "        listobjs.append((tmp[\"marker\"], tmp[\"marker\"][\"object\"], tmp[\"general\"]))\n",
    "        listcoords.append((tmp[\"general\"][\"coordinates\"], tmp[\"general\"][\"object\"] ))\n",
    "        series.append(pd.Series(tmp[\"general\"]))\n",
    "        \n",
    "    except:\n",
    "        pass"
   ]
  },
  {
   "cell_type": "code",
   "execution_count": 56,
   "metadata": {},
   "outputs": [
    {
     "data": {
      "text/plain": [
       "29"
      ]
     },
     "execution_count": 56,
     "metadata": {},
     "output_type": "execute_result"
    }
   ],
   "source": [
    "len(series)"
   ]
  },
  {
   "cell_type": "code",
   "execution_count": 6,
   "metadata": {},
   "outputs": [],
   "source": [
    "cite=Citable(\"KGAL0067\", formats=\"dev\")"
   ]
  },
  {
   "cell_type": "code",
   "execution_count": 25,
   "metadata": {},
   "outputs": [
    {
     "data": {
      "text/plain": [
       "dict_keys(['object', 'coordinates', 'altitude_asl', 'inner_diameter', 'outer_diameter', 'diameter', 'number_ditches', 'number_palisades', 'outlet_numbers', 'outlet _type', 'outlet _orientation', 'outlet_info', 'location_parameter', 'slope', 'aspect', 'distance_water', 'soil_type', 'dating', 'research_history', 'references', 'orientation', 'profile', 'gate', 'specialfeatures', 'resources'])"
      ]
     },
     "execution_count": 25,
     "metadata": {},
     "output_type": "execute_result"
    }
   ],
   "source": [
    "data=cite.json()\n",
    "data[\"general\"].keys()"
   ]
  },
  {
   "cell_type": "code",
   "execution_count": 62,
   "metadata": {},
   "outputs": [],
   "source": [
    "t=pd.DataFrame(series)"
   ]
  },
  {
   "cell_type": "code",
   "execution_count": 67,
   "metadata": {},
   "outputs": [
    {
     "name": "stdout",
     "output_type": "stream",
     "text": [
      "Please add metadata:\n",
      "Wrote metadata file /home/gordon.fischer/ResearchCloud/Projects/kreisgrabenanlage/data/sites_metadata.json\n",
      "Please add documentation:\n",
      "Wrote documentation file /home/gordon.fischer/ResearchCloud/Projects/kreisgrabenanlage/data/sites_documentation.json\n"
     ]
    }
   ],
   "source": [
    "ci = Citable(\"sites.json\", formats=\"local\", project=\"kreisgrabenanlage\")\n",
    "ci.write(t)"
   ]
  },
  {
   "cell_type": "code",
   "execution_count": 66,
   "metadata": {},
   "outputs": [
    {
     "data": {
      "text/html": [
       "<div>\n",
       "<style scoped>\n",
       "    .dataframe tbody tr th:only-of-type {\n",
       "        vertical-align: middle;\n",
       "    }\n",
       "\n",
       "    .dataframe tbody tr th {\n",
       "        vertical-align: top;\n",
       "    }\n",
       "\n",
       "    .dataframe thead th {\n",
       "        text-align: right;\n",
       "    }\n",
       "</style>\n",
       "<table border=\"1\" class=\"dataframe\">\n",
       "  <thead>\n",
       "    <tr style=\"text-align: right;\">\n",
       "      <th></th>\n",
       "      <th>object</th>\n",
       "      <th>resources</th>\n",
       "    </tr>\n",
       "  </thead>\n",
       "  <tbody>\n",
       "    <tr>\n",
       "      <th>0</th>\n",
       "      <td>Quedlinburg I</td>\n",
       "      <td>{'overview': 'KGAL0001', 'plots': 'KGAL0002', ...</td>\n",
       "    </tr>\n",
       "    <tr>\n",
       "      <th>1</th>\n",
       "      <td>Quedlinburg II</td>\n",
       "      <td>{'overview': 'KGAL0005', 'plots': 'KGAL0006', ...</td>\n",
       "    </tr>\n",
       "    <tr>\n",
       "      <th>2</th>\n",
       "      <td>Bielen</td>\n",
       "      <td>{'overview': 'KGAL0009', 'plots': 'KGAL0010', ...</td>\n",
       "    </tr>\n",
       "    <tr>\n",
       "      <th>3</th>\n",
       "      <td>Bochow</td>\n",
       "      <td>{'overview': 'KGAL0013', 'plots': 'KGAL0014', ...</td>\n",
       "    </tr>\n",
       "    <tr>\n",
       "      <th>4</th>\n",
       "      <td>Goseck</td>\n",
       "      <td>{'overview': 'KGAL0017', 'plots': 'KGAL0018', ...</td>\n",
       "    </tr>\n",
       "    <tr>\n",
       "      <th>5</th>\n",
       "      <td>Hopferstadt</td>\n",
       "      <td>{'overview': 'KGAL0021', 'plots': 'KGAL0022', ...</td>\n",
       "    </tr>\n",
       "    <tr>\n",
       "      <th>6</th>\n",
       "      <td>Ippesheim</td>\n",
       "      <td>{'overview': 'KGAL0025', 'plots': 'KGAL0026', ...</td>\n",
       "    </tr>\n",
       "    <tr>\n",
       "      <th>7</th>\n",
       "      <td>Kötschlitz</td>\n",
       "      <td>{'overview': 'KGAL0029', 'plots': 'KGAL0030', ...</td>\n",
       "    </tr>\n",
       "    <tr>\n",
       "      <th>8</th>\n",
       "      <td>Stephansposching</td>\n",
       "      <td>{'overview': 'KGAL0033', 'plots': 'KGAL0034', ...</td>\n",
       "    </tr>\n",
       "    <tr>\n",
       "      <th>9</th>\n",
       "      <td>Dresden-Nickern I (DD-02)</td>\n",
       "      <td>{'overview': 'KGAL0037', 'plots': 'KGAL0038', ...</td>\n",
       "    </tr>\n",
       "    <tr>\n",
       "      <th>10</th>\n",
       "      <td>Dresden-Nickern II (DD-98)</td>\n",
       "      <td>{'overview': 'KGAL0041', 'plots': 'KGAL0042', ...</td>\n",
       "    </tr>\n",
       "    <tr>\n",
       "      <th>11</th>\n",
       "      <td>Dresden-Nickern III (NIE-09)</td>\n",
       "      <td>{'overview': 'KGAL0045', 'plots': 'KGAL0046', ...</td>\n",
       "    </tr>\n",
       "    <tr>\n",
       "      <th>12</th>\n",
       "      <td>Kyhna1</td>\n",
       "      <td>{'overview': 'KGAL0049', 'plots': 'KGAL0050', ...</td>\n",
       "    </tr>\n",
       "    <tr>\n",
       "      <th>13</th>\n",
       "      <td>Kyhna2</td>\n",
       "      <td>{'overview': 'KGAL0053', 'plots': 'KGAL0054', ...</td>\n",
       "    </tr>\n",
       "    <tr>\n",
       "      <th>14</th>\n",
       "      <td>Kyhna3</td>\n",
       "      <td>{'overview': 'KGAL0057', 'plots': 'KGAL0058', ...</td>\n",
       "    </tr>\n",
       "    <tr>\n",
       "      <th>15</th>\n",
       "      <td>Kyhna4</td>\n",
       "      <td>{'overview': 'KGAL0061', 'plots': 'KGAL0062', ...</td>\n",
       "    </tr>\n",
       "    <tr>\n",
       "      <th>16</th>\n",
       "      <td>Eythra II</td>\n",
       "      <td>{'overview': 'KGAL0065', 'plots': 'KGAL0066', ...</td>\n",
       "    </tr>\n",
       "    <tr>\n",
       "      <th>17</th>\n",
       "      <td>Gneiding</td>\n",
       "      <td>{'overview': 'KGAL0069', 'plots': 'KGAL0070', ...</td>\n",
       "    </tr>\n",
       "    <tr>\n",
       "      <th>18</th>\n",
       "      <td>Kothingeichendorf</td>\n",
       "      <td>{'overview': 'KGAL0073', 'plots': 'KGAL0074', ...</td>\n",
       "    </tr>\n",
       "    <tr>\n",
       "      <th>19</th>\n",
       "      <td>Ramsdorf</td>\n",
       "      <td>{'overview': 'KGAL0077', 'plots': 'KGAL0078', ...</td>\n",
       "    </tr>\n",
       "    <tr>\n",
       "      <th>20</th>\n",
       "      <td>Viecht</td>\n",
       "      <td>{'overview': 'KGAL0081', 'plots': 'KGAL0082', ...</td>\n",
       "    </tr>\n",
       "    <tr>\n",
       "      <th>21</th>\n",
       "      <td>Meisternthal</td>\n",
       "      <td>{'overview': 'KGAL0085', 'plots': 'KGAL0086', ...</td>\n",
       "    </tr>\n",
       "    <tr>\n",
       "      <th>22</th>\n",
       "      <td>Schmiedorf I</td>\n",
       "      <td>{'overview': 'KGAL0089', 'plots': 'KGAL0090', ...</td>\n",
       "    </tr>\n",
       "    <tr>\n",
       "      <th>23</th>\n",
       "      <td>Schmiedorf II</td>\n",
       "      <td>{'overview': 'KGAL0093', 'plots': 'KGAL0094', ...</td>\n",
       "    </tr>\n",
       "    <tr>\n",
       "      <th>24</th>\n",
       "      <td>Watenstedt</td>\n",
       "      <td>{'overview': 'KGAL0097', 'plots': 'KGAL0098', ...</td>\n",
       "    </tr>\n",
       "    <tr>\n",
       "      <th>25</th>\n",
       "      <td>Künzing-Unternberg</td>\n",
       "      <td>{'overview': 'KGAL0101', 'plots': 'KGAL0102', ...</td>\n",
       "    </tr>\n",
       "    <tr>\n",
       "      <th>26</th>\n",
       "      <td>Mirskofen</td>\n",
       "      <td>{'overview': 'KGAL0105', 'plots': 'KGAL0106', ...</td>\n",
       "    </tr>\n",
       "    <tr>\n",
       "      <th>27</th>\n",
       "      <td>Warburg-Daseburg</td>\n",
       "      <td>{'overview': 'KGAL0109', 'plots': 'KGAL0110', ...</td>\n",
       "    </tr>\n",
       "    <tr>\n",
       "      <th>28</th>\n",
       "      <td>Bochum-Harpen</td>\n",
       "      <td>{'overview': 'KGAL0113', 'plots': 'KGAL0114', ...</td>\n",
       "    </tr>\n",
       "  </tbody>\n",
       "</table>\n",
       "</div>"
      ],
      "text/plain": [
       "                          object  \\\n",
       "0                  Quedlinburg I   \n",
       "1                 Quedlinburg II   \n",
       "2                         Bielen   \n",
       "3                         Bochow   \n",
       "4                         Goseck   \n",
       "5                    Hopferstadt   \n",
       "6                      Ippesheim   \n",
       "7                     Kötschlitz   \n",
       "8               Stephansposching   \n",
       "9      Dresden-Nickern I (DD-02)   \n",
       "10    Dresden-Nickern II (DD-98)   \n",
       "11  Dresden-Nickern III (NIE-09)   \n",
       "12                        Kyhna1   \n",
       "13                        Kyhna2   \n",
       "14                        Kyhna3   \n",
       "15                        Kyhna4   \n",
       "16                     Eythra II   \n",
       "17                      Gneiding   \n",
       "18             Kothingeichendorf   \n",
       "19                      Ramsdorf   \n",
       "20                        Viecht   \n",
       "21                  Meisternthal   \n",
       "22                  Schmiedorf I   \n",
       "23                 Schmiedorf II   \n",
       "24                    Watenstedt   \n",
       "25            Künzing-Unternberg   \n",
       "26                     Mirskofen   \n",
       "27              Warburg-Daseburg   \n",
       "28                 Bochum-Harpen   \n",
       "\n",
       "                                            resources  \n",
       "0   {'overview': 'KGAL0001', 'plots': 'KGAL0002', ...  \n",
       "1   {'overview': 'KGAL0005', 'plots': 'KGAL0006', ...  \n",
       "2   {'overview': 'KGAL0009', 'plots': 'KGAL0010', ...  \n",
       "3   {'overview': 'KGAL0013', 'plots': 'KGAL0014', ...  \n",
       "4   {'overview': 'KGAL0017', 'plots': 'KGAL0018', ...  \n",
       "5   {'overview': 'KGAL0021', 'plots': 'KGAL0022', ...  \n",
       "6   {'overview': 'KGAL0025', 'plots': 'KGAL0026', ...  \n",
       "7   {'overview': 'KGAL0029', 'plots': 'KGAL0030', ...  \n",
       "8   {'overview': 'KGAL0033', 'plots': 'KGAL0034', ...  \n",
       "9   {'overview': 'KGAL0037', 'plots': 'KGAL0038', ...  \n",
       "10  {'overview': 'KGAL0041', 'plots': 'KGAL0042', ...  \n",
       "11  {'overview': 'KGAL0045', 'plots': 'KGAL0046', ...  \n",
       "12  {'overview': 'KGAL0049', 'plots': 'KGAL0050', ...  \n",
       "13  {'overview': 'KGAL0053', 'plots': 'KGAL0054', ...  \n",
       "14  {'overview': 'KGAL0057', 'plots': 'KGAL0058', ...  \n",
       "15  {'overview': 'KGAL0061', 'plots': 'KGAL0062', ...  \n",
       "16  {'overview': 'KGAL0065', 'plots': 'KGAL0066', ...  \n",
       "17  {'overview': 'KGAL0069', 'plots': 'KGAL0070', ...  \n",
       "18  {'overview': 'KGAL0073', 'plots': 'KGAL0074', ...  \n",
       "19  {'overview': 'KGAL0077', 'plots': 'KGAL0078', ...  \n",
       "20  {'overview': 'KGAL0081', 'plots': 'KGAL0082', ...  \n",
       "21  {'overview': 'KGAL0085', 'plots': 'KGAL0086', ...  \n",
       "22  {'overview': 'KGAL0089', 'plots': 'KGAL0090', ...  \n",
       "23  {'overview': 'KGAL0093', 'plots': 'KGAL0094', ...  \n",
       "24  {'overview': 'KGAL0097', 'plots': 'KGAL0098', ...  \n",
       "25  {'overview': 'KGAL0101', 'plots': 'KGAL0102', ...  \n",
       "26  {'overview': 'KGAL0105', 'plots': 'KGAL0106', ...  \n",
       "27  {'overview': 'KGAL0109', 'plots': 'KGAL0110', ...  \n",
       "28  {'overview': 'KGAL0113', 'plots': 'KGAL0114', ...  "
      ]
     },
     "execution_count": 66,
     "metadata": {},
     "output_type": "execute_result"
    }
   ],
   "source": [
    "#t[[\"object\",\"resources\"]]"
   ]
  },
  {
   "cell_type": "code",
   "execution_count": null,
   "metadata": {},
   "outputs": [],
   "source": []
  }
 ],
 "metadata": {
  "kernelspec": {
   "display_name": "kreisgrabenanlage",
   "language": "python",
   "name": "kreisgrabenanlage"
  },
  "language_info": {
   "codemirror_mode": {
    "name": "ipython",
    "version": 3
   },
   "file_extension": ".py",
   "mimetype": "text/x-python",
   "name": "python",
   "nbconvert_exporter": "python",
   "pygments_lexer": "ipython3",
   "version": "3.6.6"
  }
 },
 "nbformat": 4,
 "nbformat_minor": 2
}
