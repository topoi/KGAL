{
 "cells": [
  {
   "cell_type": "code",
   "execution_count": 1,
   "metadata": {},
   "outputs": [],
   "source": [
    "%matplotlib inline\n",
    "import matplotlib.pyplot as plt\n",
    "import seaborn; seaborn.set_style('whitegrid')\n",
    "import numpy as np\n",
    "import pandas as pd\n",
    "\n",
    "from scipy.stats import norm\n",
    "from sklearn.mixture import GaussianMixture\n",
    "from sklearn.model_selection import GridSearchCV\n",
    "from sklearn.neighbors import KernelDensity\n",
    "\n",
    "from citableclass import Citable\n",
    "from corpussearch import gui\n",
    "from corpussearch import search"
   ]
  },
  {
   "cell_type": "markdown",
   "metadata": {},
   "source": [
    "### Load data"
   ]
  },
  {
   "cell_type": "markdown",
   "metadata": {},
   "source": [
    "n200  = number of iterations steps  \n",
    "th10  = allowed std err for linear regression   \n",
    "sig0.2 = observer deviation from start point  \n",
    "start0.5 = observer start point  "
   ]
  },
  {
   "cell_type": "code",
   "execution_count": 9,
   "metadata": {},
   "outputs": [],
   "source": [
    "cite1 = Citable(\"values_n200_th10_sig0.2_start0.5.json\", formats=\"local\", project=\"kreisgrabenanlage\")\n",
    "cite2 = Citable(\"values_n500_th15_sig0.2_start0.5.json\", formats=\"local\", project=\"kreisgrabenanlage\")\n",
    "cite3 = Citable(\"values_n1500_th10_sig0.3_start0.5.json\", formats=\"local\", project=\"kreisgrabenanlage\")\n",
    "cite4 = Citable(\"values_n2500_th5_sig0.4_start0.5.json\", formats=\"local\", project=\"kreisgrabenanlage\")"
   ]
  },
  {
   "cell_type": "code",
   "execution_count": 15,
   "metadata": {},
   "outputs": [
    {
     "data": {
      "text/html": [
       "<style  type=\"text/css\" >\n",
       "    #T_4735640e_e8c0_11e8_bf54_9fc6475c5009 th {\n",
       "          text-align: left;\n",
       "    }    #T_4735640e_e8c0_11e8_bf54_9fc6475c5009row0_col0 {\n",
       "            text-align:  left;\n",
       "        }    #T_4735640e_e8c0_11e8_bf54_9fc6475c5009row0_col1 {\n",
       "            text-align:  left;\n",
       "        }    #T_4735640e_e8c0_11e8_bf54_9fc6475c5009row1_col0 {\n",
       "            text-align:  left;\n",
       "        }    #T_4735640e_e8c0_11e8_bf54_9fc6475c5009row1_col1 {\n",
       "            text-align:  left;\n",
       "        }    #T_4735640e_e8c0_11e8_bf54_9fc6475c5009row2_col0 {\n",
       "            text-align:  left;\n",
       "        }    #T_4735640e_e8c0_11e8_bf54_9fc6475c5009row2_col1 {\n",
       "            text-align:  left;\n",
       "        }    #T_4735640e_e8c0_11e8_bf54_9fc6475c5009row3_col0 {\n",
       "            text-align:  left;\n",
       "        }    #T_4735640e_e8c0_11e8_bf54_9fc6475c5009row3_col1 {\n",
       "            text-align:  left;\n",
       "        }    #T_4735640e_e8c0_11e8_bf54_9fc6475c5009row4_col0 {\n",
       "            text-align:  left;\n",
       "        }    #T_4735640e_e8c0_11e8_bf54_9fc6475c5009row4_col1 {\n",
       "            text-align:  left;\n",
       "        }    #T_4735640e_e8c0_11e8_bf54_9fc6475c5009row5_col0 {\n",
       "            text-align:  left;\n",
       "        }    #T_4735640e_e8c0_11e8_bf54_9fc6475c5009row5_col1 {\n",
       "            text-align:  left;\n",
       "        }    #T_4735640e_e8c0_11e8_bf54_9fc6475c5009row6_col0 {\n",
       "            text-align:  left;\n",
       "        }    #T_4735640e_e8c0_11e8_bf54_9fc6475c5009row6_col1 {\n",
       "            text-align:  left;\n",
       "        }    #T_4735640e_e8c0_11e8_bf54_9fc6475c5009row7_col0 {\n",
       "            text-align:  left;\n",
       "        }    #T_4735640e_e8c0_11e8_bf54_9fc6475c5009row7_col1 {\n",
       "            text-align:  left;\n",
       "        }    #T_4735640e_e8c0_11e8_bf54_9fc6475c5009row8_col0 {\n",
       "            text-align:  left;\n",
       "        }    #T_4735640e_e8c0_11e8_bf54_9fc6475c5009row8_col1 {\n",
       "            text-align:  left;\n",
       "        }    #T_4735640e_e8c0_11e8_bf54_9fc6475c5009row9_col0 {\n",
       "            text-align:  left;\n",
       "        }    #T_4735640e_e8c0_11e8_bf54_9fc6475c5009row9_col1 {\n",
       "            text-align:  left;\n",
       "        }    #T_4735640e_e8c0_11e8_bf54_9fc6475c5009row10_col0 {\n",
       "            text-align:  left;\n",
       "        }    #T_4735640e_e8c0_11e8_bf54_9fc6475c5009row10_col1 {\n",
       "            text-align:  left;\n",
       "        }    #T_4735640e_e8c0_11e8_bf54_9fc6475c5009row11_col0 {\n",
       "            text-align:  left;\n",
       "        }    #T_4735640e_e8c0_11e8_bf54_9fc6475c5009row11_col1 {\n",
       "            text-align:  left;\n",
       "        }    #T_4735640e_e8c0_11e8_bf54_9fc6475c5009row12_col0 {\n",
       "            text-align:  left;\n",
       "        }    #T_4735640e_e8c0_11e8_bf54_9fc6475c5009row12_col1 {\n",
       "            text-align:  left;\n",
       "        }    #T_4735640e_e8c0_11e8_bf54_9fc6475c5009row13_col0 {\n",
       "            text-align:  left;\n",
       "        }    #T_4735640e_e8c0_11e8_bf54_9fc6475c5009row13_col1 {\n",
       "            text-align:  left;\n",
       "        }</style>  \n",
       "<table id=\"T_4735640e_e8c0_11e8_bf54_9fc6475c5009\" > \n",
       "<thead>    <tr> \n",
       "        <th class=\"blank level0\" ></th> \n",
       "        <th class=\"col_heading level0 col0\" >Value</th> \n",
       "        <th class=\"col_heading level0 col1\" >Description</th> \n",
       "    </tr></thead> \n",
       "<tbody>    <tr> \n",
       "        <th id=\"T_4735640e_e8c0_11e8_bf54_9fc6475c5009level0_row0\" class=\"row_heading level0 row0\" >0</th> \n",
       "        <td id=\"T_4735640e_e8c0_11e8_bf54_9fc6475c5009row0_col0\" class=\"data row0 col0\" >gate</td> \n",
       "        <td id=\"T_4735640e_e8c0_11e8_bf54_9fc6475c5009row0_col1\" class=\"data row0 col1\" >number of gate </td> \n",
       "    </tr>    <tr> \n",
       "        <th id=\"T_4735640e_e8c0_11e8_bf54_9fc6475c5009level0_row1\" class=\"row_heading level0 row1\" >1</th> \n",
       "        <td id=\"T_4735640e_e8c0_11e8_bf54_9fc6475c5009row1_col0\" class=\"data row1 col0\" >object</td> \n",
       "        <td id=\"T_4735640e_e8c0_11e8_bf54_9fc6475c5009row1_col1\" class=\"data row1 col1\" >name of place</td> \n",
       "    </tr>    <tr> \n",
       "        <th id=\"T_4735640e_e8c0_11e8_bf54_9fc6475c5009level0_row2\" class=\"row_heading level0 row2\" >2</th> \n",
       "        <td id=\"T_4735640e_e8c0_11e8_bf54_9fc6475c5009row2_col0\" class=\"data row2 col0\" >latitude</td> \n",
       "        <td id=\"T_4735640e_e8c0_11e8_bf54_9fc6475c5009row2_col1\" class=\"data row2 col1\" >geographic latitude</td> \n",
       "    </tr>    <tr> \n",
       "        <th id=\"T_4735640e_e8c0_11e8_bf54_9fc6475c5009level0_row3\" class=\"row_heading level0 row3\" >3</th> \n",
       "        <td id=\"T_4735640e_e8c0_11e8_bf54_9fc6475c5009row3_col0\" class=\"data row3 col0\" >longitude</td> \n",
       "        <td id=\"T_4735640e_e8c0_11e8_bf54_9fc6475c5009row3_col1\" class=\"data row3 col1\" >geographic longitude</td> \n",
       "    </tr>    <tr> \n",
       "        <th id=\"T_4735640e_e8c0_11e8_bf54_9fc6475c5009level0_row4\" class=\"row_heading level0 row4\" >4</th> \n",
       "        <td id=\"T_4735640e_e8c0_11e8_bf54_9fc6475c5009row4_col0\" class=\"data row4 col0\" >azimuth</td> \n",
       "        <td id=\"T_4735640e_e8c0_11e8_bf54_9fc6475c5009row4_col1\" class=\"data row4 col1\" >astronomical azimuth</td> \n",
       "    </tr>    <tr> \n",
       "        <th id=\"T_4735640e_e8c0_11e8_bf54_9fc6475c5009level0_row5\" class=\"row_heading level0 row5\" >5</th> \n",
       "        <td id=\"T_4735640e_e8c0_11e8_bf54_9fc6475c5009row5_col0\" class=\"data row5 col0\" >prob (az)</td> \n",
       "        <td id=\"T_4735640e_e8c0_11e8_bf54_9fc6475c5009row5_col1\" class=\"data row5 col1\" >probability azimuth value</td> \n",
       "    </tr>    <tr> \n",
       "        <th id=\"T_4735640e_e8c0_11e8_bf54_9fc6475c5009level0_row6\" class=\"row_heading level0 row6\" >6</th> \n",
       "        <td id=\"T_4735640e_e8c0_11e8_bf54_9fc6475c5009row6_col0\" class=\"data row6 col0\" >bins (az)</td> \n",
       "        <td id=\"T_4735640e_e8c0_11e8_bf54_9fc6475c5009row6_col1\" class=\"data row6 col1\" >azimuth value</td> \n",
       "    </tr>    <tr> \n",
       "        <th id=\"T_4735640e_e8c0_11e8_bf54_9fc6475c5009level0_row7\" class=\"row_heading level0 row7\" >7</th> \n",
       "        <td id=\"T_4735640e_e8c0_11e8_bf54_9fc6475c5009row7_col0\" class=\"data row7 col0\" >mean azimuth</td> \n",
       "        <td id=\"T_4735640e_e8c0_11e8_bf54_9fc6475c5009row7_col1\" class=\"data row7 col1\" >mean azimuth value from normal distribution</td> \n",
       "    </tr>    <tr> \n",
       "        <th id=\"T_4735640e_e8c0_11e8_bf54_9fc6475c5009level0_row8\" class=\"row_heading level0 row8\" >8</th> \n",
       "        <td id=\"T_4735640e_e8c0_11e8_bf54_9fc6475c5009row8_col0\" class=\"data row8 col0\" >sigma azimuth</td> \n",
       "        <td id=\"T_4735640e_e8c0_11e8_bf54_9fc6475c5009row8_col1\" class=\"data row8 col1\" >standard deviation</td> \n",
       "    </tr>    <tr> \n",
       "        <th id=\"T_4735640e_e8c0_11e8_bf54_9fc6475c5009level0_row9\" class=\"row_heading level0 row9\" >9</th> \n",
       "        <td id=\"T_4735640e_e8c0_11e8_bf54_9fc6475c5009row9_col0\" class=\"data row9 col0\" >declination</td> \n",
       "        <td id=\"T_4735640e_e8c0_11e8_bf54_9fc6475c5009row9_col1\" class=\"data row9 col1\" >astronomical declination</td> \n",
       "    </tr>    <tr> \n",
       "        <th id=\"T_4735640e_e8c0_11e8_bf54_9fc6475c5009level0_row10\" class=\"row_heading level0 row10\" >10</th> \n",
       "        <td id=\"T_4735640e_e8c0_11e8_bf54_9fc6475c5009row10_col0\" class=\"data row10 col0\" >prob (dec)</td> \n",
       "        <td id=\"T_4735640e_e8c0_11e8_bf54_9fc6475c5009row10_col1\" class=\"data row10 col1\" >probability declination value</td> \n",
       "    </tr>    <tr> \n",
       "        <th id=\"T_4735640e_e8c0_11e8_bf54_9fc6475c5009level0_row11\" class=\"row_heading level0 row11\" >11</th> \n",
       "        <td id=\"T_4735640e_e8c0_11e8_bf54_9fc6475c5009row11_col0\" class=\"data row11 col0\" >bins (dec)</td> \n",
       "        <td id=\"T_4735640e_e8c0_11e8_bf54_9fc6475c5009row11_col1\" class=\"data row11 col1\" >declination value</td> \n",
       "    </tr>    <tr> \n",
       "        <th id=\"T_4735640e_e8c0_11e8_bf54_9fc6475c5009level0_row12\" class=\"row_heading level0 row12\" >12</th> \n",
       "        <td id=\"T_4735640e_e8c0_11e8_bf54_9fc6475c5009row12_col0\" class=\"data row12 col0\" >mean declination</td> \n",
       "        <td id=\"T_4735640e_e8c0_11e8_bf54_9fc6475c5009row12_col1\" class=\"data row12 col1\" >mean declination value from normal distribution</td> \n",
       "    </tr>    <tr> \n",
       "        <th id=\"T_4735640e_e8c0_11e8_bf54_9fc6475c5009level0_row13\" class=\"row_heading level0 row13\" >13</th> \n",
       "        <td id=\"T_4735640e_e8c0_11e8_bf54_9fc6475c5009row13_col0\" class=\"data row13 col0\" >sigma declination</td> \n",
       "        <td id=\"T_4735640e_e8c0_11e8_bf54_9fc6475c5009row13_col1\" class=\"data row13 col1\" >standard deviation </td> \n",
       "    </tr></tbody> \n",
       "</table> "
      ],
      "text/plain": [
       "<pandas.io.formats.style.Styler at 0x7fb173b19860>"
      ]
     },
     "execution_count": 15,
     "metadata": {},
     "output_type": "execute_result"
    }
   ],
   "source": [
    "cite4.documentation()"
   ]
  },
  {
   "cell_type": "markdown",
   "metadata": {},
   "source": [
    "### Erstelle Dataframe mit relevanten Größen"
   ]
  },
  {
   "cell_type": "code",
   "execution_count": 3,
   "metadata": {},
   "outputs": [
    {
     "data": {
      "text/html": [
       "<div>\n",
       "<style scoped>\n",
       "    .dataframe tbody tr th:only-of-type {\n",
       "        vertical-align: middle;\n",
       "    }\n",
       "\n",
       "    .dataframe tbody tr th {\n",
       "        vertical-align: top;\n",
       "    }\n",
       "\n",
       "    .dataframe thead th {\n",
       "        text-align: right;\n",
       "    }\n",
       "</style>\n",
       "<table border=\"1\" class=\"dataframe\">\n",
       "  <thead>\n",
       "    <tr style=\"text-align: right;\">\n",
       "      <th></th>\n",
       "      <th>gate</th>\n",
       "      <th>object</th>\n",
       "      <th>mean declination</th>\n",
       "      <th>sigma declination</th>\n",
       "      <th>number elements</th>\n",
       "    </tr>\n",
       "  </thead>\n",
       "  <tbody>\n",
       "    <tr>\n",
       "      <th>0</th>\n",
       "      <td>1</td>\n",
       "      <td>QuedlinburgI</td>\n",
       "      <td>27.737216</td>\n",
       "      <td>3.623801</td>\n",
       "      <td>5</td>\n",
       "    </tr>\n",
       "    <tr>\n",
       "      <th>1</th>\n",
       "      <td>2</td>\n",
       "      <td>QuedlinburgI</td>\n",
       "      <td>36.773284</td>\n",
       "      <td>1.981355</td>\n",
       "      <td>1</td>\n",
       "    </tr>\n",
       "    <tr>\n",
       "      <th>2</th>\n",
       "      <td>3</td>\n",
       "      <td>QuedlinburgI</td>\n",
       "      <td>31.286241</td>\n",
       "      <td>3.636081</td>\n",
       "      <td>2</td>\n",
       "    </tr>\n",
       "    <tr>\n",
       "      <th>3</th>\n",
       "      <td>5</td>\n",
       "      <td>QuedlinburgI</td>\n",
       "      <td>-31.711064</td>\n",
       "      <td>6.069680</td>\n",
       "      <td>1</td>\n",
       "    </tr>\n",
       "    <tr>\n",
       "      <th>4</th>\n",
       "      <td>6</td>\n",
       "      <td>QuedlinburgI</td>\n",
       "      <td>8.674223</td>\n",
       "      <td>6.809249</td>\n",
       "      <td>1</td>\n",
       "    </tr>\n",
       "  </tbody>\n",
       "</table>\n",
       "</div>"
      ],
      "text/plain": [
       "   gate        object  mean declination  sigma declination  number elements\n",
       "0     1  QuedlinburgI         27.737216           3.623801                5\n",
       "1     2  QuedlinburgI         36.773284           1.981355                1\n",
       "2     3  QuedlinburgI         31.286241           3.636081                2\n",
       "3     5  QuedlinburgI        -31.711064           6.069680                1\n",
       "4     6  QuedlinburgI          8.674223           6.809249                1"
      ]
     },
     "execution_count": 3,
     "metadata": {},
     "output_type": "execute_result"
    }
   ],
   "source": [
    "df = cite2.digitalresource()\n",
    "df_sub = pd.DataFrame(df[[\"gate\",\"object\", \"mean declination\", \"sigma declination\", \"number elements\"]])\n",
    "df_sub.head()"
   ]
  },
  {
   "cell_type": "markdown",
   "metadata": {},
   "source": [
    "### zwei Kriterien: \n",
    "- number elements: Anzahl der Elemente (Graben, Palisade), die zum Gate beitragen  \n",
    "- sigma: Standardabweichung "
   ]
  },
  {
   "cell_type": "code",
   "execution_count": 4,
   "metadata": {},
   "outputs": [],
   "source": [
    "# auxiliary to simplify normal distributions\n",
    "def ndi(mu,sd,n):\n",
    "    b=np.random.normal(mu,sd,n)\n",
    "    return(b)\n",
    "def RunCheck(number=2, sigma=3):\n",
    "    # no of Gaussian distributions\n",
    "    n_dist= 4\n",
    "    # mean values\n",
    "    x = gui(df_sub,colname='object',pathType='variable',dataIndex='single')\n",
    "    x.resetSearch()\n",
    "    \n",
    "    mu1 = x.logicReduce([('number elements', '> {0}'.format(number)),'&',('sigma declination', '< {0}'.format(sigma))]).results()\n",
    "    mu=list(mu1[\"mean declination\"])\n",
    "    # std. variations\n",
    "    sd=list(mu1[\"sigma declination\"])\n",
    "    #sd=list(df[\"sigma declination\"][(df[\"number elements\"] > number) & (df[\"sigma declination\"]< sigma)])\n",
    "    noise_bmg = 0.5\n",
    "    n=2500\n",
    "    \n",
    "    # mixed \n",
    "    a = tuple([ndi(mu[i],sd[i],n) for i in range(n_dist)])\n",
    "    bmg=np.concatenate(a)\n",
    "    data = np.random.normal(bmg, noise_bmg)[:, np.newaxis]\n",
    "    \n",
    "    n_components = np.arange(1, 21)\n",
    "    models = [GaussianMixture(n, covariance_type='spherical', random_state=0).fit(data)\n",
    "              for n in n_components]\n",
    "\n",
    "    \n",
    "    plt.figure(figsize=(9,7))\n",
    "    plt.plot(n_components, [m.bic(data) for m in models], label='BIC')\n",
    "    plt.plot(n_components, [m.aic(data) for m in models], label='AIC')\n",
    "    plt.legend(loc='best')\n",
    "    plt.xlabel('n_components');\n",
    "    gmm = GaussianMixture(n_components=n_dist, covariance_type='spherical')\n",
    "    gmm.fit(data)\n",
    "    for i in np.arange(n_dist):\n",
    "        mu=gmm.means_[i,0]\n",
    "        var=gmm.covariances_[i]\n",
    "        wei=gmm.weights_[i]\n",
    "    return data"
   ]
  },
  {
   "cell_type": "code",
   "execution_count": 5,
   "metadata": {},
   "outputs": [],
   "source": [
    "# make X axis for plots\n",
    "def RunGMM(gaussians=3, data=\"\"):\n",
    "    gmm = GaussianMixture(n_components=gaussians, covariance_type='spherical')\n",
    "    gmm.fit(data)\n",
    "    x = np.linspace(5, 35, 3 * 2500 + 1)\n",
    "    plt.figure(figsize=(9,7))\n",
    "    plt.hist(data, bins='auto', alpha=.3, density=True, log=False)\n",
    "\n",
    "    for i in np.arange(gaussians):\n",
    "        mu=gmm.means_[i,0]\n",
    "        var=gmm.covariances_[i]\n",
    "        print(\"value: \", mu)\n",
    "        plt.vlines(mu, ymin=0, ymax=0.05, label='Fitted Means')\n",
    "        plt.plot(x, norm.pdf(x, mu, np.sqrt(var)))\n",
    "    plt.legend()\n",
    "    plt.title('Gaussian Mixture Model')"
   ]
  },
  {
   "cell_type": "code",
   "execution_count": 6,
   "metadata": {},
   "outputs": [
    {
     "data": {
      "image/png": "[encoded data removed]",
      "text/plain": [
       "<Figure size 648x504 with 1 Axes>"
      ]
     },
     "metadata": {
      "needs_background": "light"
     },
     "output_type": "display_data"
    }
   ],
   "source": [
    "data = RunCheck(number=0, sigma=25);"
   ]
  },
  {
   "cell_type": "markdown",
   "metadata": {},
   "source": [
    "### Anzahl der Gaussians entnommen aus AIC/BIC "
   ]
  },
  {
   "cell_type": "code",
   "execution_count": 7,
   "metadata": {},
   "outputs": [
    {
     "name": "stdout",
     "output_type": "stream",
     "text": [
      "value:  -31.84162369528842\n",
      "value:  31.9373305660927\n"
     ]
    },
    {
     "data": {
      "image/png": "[encoded data removed]",
      "text/plain": [
       "<Figure size 648x504 with 1 Axes>"
      ]
     },
     "metadata": {
      "needs_background": "light"
     },
     "output_type": "display_data"
    }
   ],
   "source": [
    "RunGMM(gaussians=2, data=data)"
   ]
  },
  {
   "cell_type": "markdown",
   "metadata": {},
   "source": [
    "The optimal number of clusters is the value that minimizes the AIC or BIC, depending on which approximation we wish to use. The AIC tells us that our choice of 16 components above was probably too many: around 8-12 components would have been a better choice. As is typical with this sort of problem, the BIC recommends a simpler model.\n",
    "\n",
    "Notice the important point: this choice of number of components measures how well GMM works as a density estimator, not how well it works as a clustering algorithm. I'd encourage you to think of GMM primarily as a density estimator, and use it for clustering only when warranted within simple datasets."
   ]
  },
  {
   "cell_type": "markdown",
   "metadata": {},
   "source": [
    "# 1d GMM Modeling Literature\n",
    "\n",
    "https://km3pipe.readthedocs.io/en/latest/auto_examples/stats/plot_fitting_dists.html\n",
    "\n",
    "B.W. Silverman, “Density Estimation for Statistics and Data Analysis”\n",
    "Hastie, Tibshirani and Friedman, “The Elements of Statistical Learning: Data Mining, Inference, and Prediction”, Springer (2009)\n",
    "Liu, R., Yang, L. “Kernel estimation of multivariate cumulative distribution function.” Journal of Nonparametric Statistics (2008)"
   ]
  }
 ],
 "metadata": {
  "kernelspec": {
   "display_name": "kreisgrabenanlage",
   "language": "python",
   "name": "kreisgrabenanlage"
  },
  "language_info": {
   "codemirror_mode": {
    "name": "ipython",
    "version": 3
   },
   "file_extension": ".py",
   "mimetype": "text/x-python",
   "name": "python",
   "nbconvert_exporter": "python",
   "pygments_lexer": "ipython3",
   "version": "3.6.6"
  }
 },
 "nbformat": 4,
 "nbformat_minor": 2
}
