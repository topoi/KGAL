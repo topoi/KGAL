{
 "cells": [
  {
   "cell_type": "code",
   "execution_count": 1,
   "metadata": {},
   "outputs": [],
   "source": [
    "# monte carlo\n",
    "import numpy as np\n",
    "# import pymc3 as pm\n",
    "import pandas as pd\n",
    "# astronomy\n",
    "import ephem\n",
    "# citable class\n",
    "from citableclass import Citable\n",
    "# misc\n",
    "import yaml\n",
    "import lmfit\n",
    "import math\n",
    "import matplotlib.pyplot as plt"
   ]
  },
  {
   "cell_type": "markdown",
   "metadata": {},
   "source": [
    "## Star Parameter"
   ]
  },
  {
   "cell_type": "markdown",
   "metadata": {},
   "source": [
    "### Star Catalogue"
   ]
  },
  {
   "cell_type": "code",
   "execution_count": 33,
   "metadata": {},
   "outputs": [
    {
     "data": {
      "text/plain": [
       "115"
      ]
     },
     "execution_count": 33,
     "metadata": {},
     "output_type": "execute_result"
    }
   ],
   "source": [
    "#LOAD STAR CATALOGUE\n",
    "cite=Citable(\"BAAP00028\", formats=\"et\")\n",
    "pyephembsc = []\n",
    "reader=cite.csv()\n",
    "for row in reader:\n",
    "    pyephembsc.append(row)\n",
    "dfS=pd.DataFrame(pyephembsc, columns=['star', \"\",\"\",\"\",'magnitude',\"\",\"\"])\n",
    "len(dfS)"
   ]
  },
  {
   "cell_type": "code",
   "execution_count": 36,
   "metadata": {},
   "outputs": [],
   "source": [
    "bool=(dfS[\"magnitude\"].astype(float) < 2.0)\n",
    "dfStars=dfS[bool]\n",
    "star_list=dfStars[\"star\"].tolist()"
   ]
  },
  {
   "cell_type": "code",
   "execution_count": 68,
   "metadata": {},
   "outputs": [],
   "source": [
    "# DEFINE FUNCTION\n",
    "def StellarPosition(year=-4800, longitude='10', latitude='51', star=\"Sirius\"):\n",
    "    observer = ephem.Observer()\n",
    "    observer.date = str(year)+'/1/1 00:00:00'\n",
    "    starname=ephem.star(star)\n",
    "    ra,dec = observer.radec_of(star.az, 0)\n",
    "    #setting\n",
    "    setting = ephem.Observer()\n",
    "    setting.lon = ephem.degrees(longitude)\n",
    "    setting.lat = ephem.degrees(latitude)\n",
    "    setting.date = str(year)+\"/12/1  00:00:00\"\n",
    "    setting.date = setting.previous_setting(star)\n",
    "    star.compute(setting)\n",
    "    # rising\n",
    "    rising = ephem.Observer()\n",
    "    rising.lon = ephem.degrees(longitude)\n",
    "    rising.lat = ephem.degrees(latitude)\n",
    "    rising.date = str(year)+\"/1/1  00:00:00\"\n",
    "    rising.date = rising.previous_rising(star)\n",
    "    star.compute(setting)\n",
    "    sets=np.degrees(float(star.az))\n",
    "    star.compute(rising)\n",
    "    rise=np.degrees(float(star.az))\n",
    "    return {\"star\": starname, \"azimuth rising\":rise, \"azimuth setting\": sets ,\"dec\":np.degrees(dec)}"
   ]
  },
  {
   "cell_type": "code",
   "execution_count": 73,
   "metadata": {},
   "outputs": [
    {
     "data": {
      "text/plain": [
       "{'star': 'Spica',\n",
       " 'azimuth rising': 54.39959488988933,\n",
       " 'azimuth setting': 305.5977445240579,\n",
       " 'dec': 1.653307990923361}"
      ]
     },
     "execution_count": 73,
     "metadata": {},
     "output_type": "execute_result"
    }
   ],
   "source": [
    "StellarPosition(star=star_list[25])"
   ]
  }
 ],
 "metadata": {
  "kernelspec": {
   "display_name": "kreisgrabenanlage",
   "language": "python",
   "name": "kreisgrabenanlage"
  },
  "language_info": {
   "codemirror_mode": {
    "name": "ipython",
    "version": 3
   },
   "file_extension": ".py",
   "mimetype": "text/x-python",
   "name": "python",
   "nbconvert_exporter": "python",
   "pygments_lexer": "ipython3",
   "version": "3.6.6"
  }
 },
 "nbformat": 4,
 "nbformat_minor": 2
}
